{
 "cells": [
  {
   "cell_type": "markdown",
   "metadata": {
    "id": "kuOoRyThTCQm"
   },
   "source": [
    "# Hello, Python 🐍 !\n",
    "\n",
    "<img src=\"https://www.python.org/static/community_logos/python-logo.png\" alt=\"drawing\" width=\"200\"/>\n",
    "\n",
    "## Goal: Get familiar with Python and complete all tasks."
   ]
  },
  {
   "cell_type": "markdown",
   "metadata": {
    "id": "RbZlp6bWjuw2"
   },
   "source": [
    "## Introduction"
   ]
  },
  {
   "cell_type": "markdown",
   "metadata": {
    "id": "ZfgIi69TVtyI"
   },
   "source": [
    "Notebooks are composed of editable blocks (called \"cells\") of text and code."
   ]
  },
  {
   "cell_type": "markdown",
   "metadata": {
    "id": "yn86IDmHWET-"
   },
   "source": [
    "I am a text cell :). Click two times to edit me."
   ]
  },
  {
   "cell_type": "code",
   "execution_count": null,
   "metadata": {
    "id": "3NR3bk8OWBUI"
   },
   "outputs": [],
   "source": [
    "# I am a code cell :). Click one time to edit me."
   ]
  },
  {
   "cell_type": "markdown",
   "metadata": {
    "id": "8oHsf-tOVvFl"
   },
   "source": [
    "Run a cell: click on the cell and press `Ctrl + Enter`. If you press `Shift + Enter`, you'll execute the current cell and go to the next cell."
   ]
  },
  {
   "cell_type": "markdown",
   "metadata": {
    "id": "nsU-W0DtVwXL"
   },
   "source": [
    "Shortcuts:\n",
    "\n",
    "- `Ctrl + Shift + Space`: See docstring.\n",
    "- `Ctrl + M + B`: New code cell.\n",
    "- `Ctrl + M + M`: Turn code cell into markdown cell.\n",
    "- `Ctrl + M + D`: Delete cell.\n",
    "\n",
    "> Note: In order for `Cntr + Shift + Space` to work, you have to be connected to a virtual machine, i.e. you at least one code cell needs to be run."
   ]
  },
  {
   "cell_type": "markdown",
   "metadata": {
    "id": "FsMT_yZCgE7l"
   },
   "source": [
    "Python operations\n",
    "\n",
    "| Operator | Name           | Description                                    |\n",
    "| -------- | -------------- | ---------------------------------------------- |\n",
    "| a + b    | Addition       | Sum of a and b                                 |\n",
    "| a - b    | Subtraction    | Difference of a and b                          |\n",
    "| a * b    | Multiplication | Product of a and b                             |\n",
    "| a / b    | True division  | Quotient of a and b                            |\n",
    "| a // b   | Floor division | Quotient of a and b, removing fractional parts |\n",
    "| a % b    | Modulus        | Integer remainder after division of a by b     |\n",
    "| a ** b   | Exponentiation | a raised to the power of b                     |\n",
    "| -a       | Negation       | The negative of a                              |"
   ]
  },
  {
   "cell_type": "markdown",
   "metadata": {
    "id": "MafAwtYKi3ZS"
   },
   "source": [
    "## **Basics** 🧰\n"
   ]
  },
  {
   "cell_type": "markdown",
   "metadata": {
    "id": "8ug-whRhhnJ2"
   },
   "source": [
    "### **Numbers** 🔢\n",
    "\n",
    "- Python has only two number types: intergers and floating point numbers"
   ]
  },
  {
   "cell_type": "code",
   "execution_count": null,
   "metadata": {
    "colab": {
     "base_uri": "https://localhost:8080/"
    },
    "executionInfo": {
     "elapsed": 16,
     "status": "ok",
     "timestamp": 1659873109504,
     "user": {
      "displayName": "Simeon Hristov",
      "userId": "14036852932086046142"
     },
     "user_tz": -180
    },
    "id": "rEGrVyqOiF8y",
    "outputId": "566b672f-0186-420a-f056-1a3bc01232bd"
   },
   "outputs": [
    {
     "data": {
      "text/plain": [
       "1"
      ]
     },
     "execution_count": 2,
     "metadata": {},
     "output_type": "execute_result"
    }
   ],
   "source": [
    "# an integer\n",
    "1"
   ]
  },
  {
   "cell_type": "code",
   "execution_count": null,
   "metadata": {
    "colab": {
     "base_uri": "https://localhost:8080/"
    },
    "executionInfo": {
     "elapsed": 118,
     "status": "ok",
     "timestamp": 1659873109941,
     "user": {
      "displayName": "Simeon Hristov",
      "userId": "14036852932086046142"
     },
     "user_tz": -180
    },
    "id": "oqBF0wvGiHmU",
    "outputId": "3de98cc3-0c40-4a51-c4e1-40f788f62523"
   },
   "outputs": [
    {
     "data": {
      "text/plain": [
       "1.0"
      ]
     },
     "execution_count": 3,
     "metadata": {},
     "output_type": "execute_result"
    }
   ],
   "source": [
    "# a floating-point number\n",
    "1.0"
   ]
  },
  {
   "cell_type": "code",
   "execution_count": null,
   "metadata": {
    "colab": {
     "base_uri": "https://localhost:8080/"
    },
    "executionInfo": {
     "elapsed": 110,
     "status": "ok",
     "timestamp": 1659873109943,
     "user": {
      "displayName": "Simeon Hristov",
      "userId": "14036852932086046142"
     },
     "user_tz": -180
    },
    "id": "_rPCuX2ViKST",
    "outputId": "e655777a-7769-4363-ae3c-784446e84bc2"
   },
   "outputs": [
    {
     "data": {
      "text/plain": [
       "1.0"
      ]
     },
     "execution_count": 4,
     "metadata": {},
     "output_type": "execute_result"
    }
   ],
   "source": [
    "# note that the following is also a floating point number\n",
    "1."
   ]
  },
  {
   "cell_type": "markdown",
   "metadata": {
    "id": "UQ5fMXyUiSAz"
   },
   "source": [
    "So what is the main difference? Floating point numbers have a decimal point and integers do not."
   ]
  },
  {
   "cell_type": "code",
   "execution_count": null,
   "metadata": {
    "colab": {
     "base_uri": "https://localhost:8080/"
    },
    "executionInfo": {
     "elapsed": 99,
     "status": "ok",
     "timestamp": 1659873109943,
     "user": {
      "displayName": "Simeon Hristov",
      "userId": "14036852932086046142"
     },
     "user_tz": -180
    },
    "id": "C2iYJbDCZZXr",
    "outputId": "aa901e0a-e466-4db8-f0ba-118a8a4cda86"
   },
   "outputs": [
    {
     "data": {
      "text/plain": [
       "2"
      ]
     },
     "execution_count": 5,
     "metadata": {},
     "output_type": "execute_result"
    }
   ],
   "source": [
    "# addition\n",
    "1 + 1"
   ]
  },
  {
   "cell_type": "code",
   "execution_count": null,
   "metadata": {
    "colab": {
     "base_uri": "https://localhost:8080/"
    },
    "executionInfo": {
     "elapsed": 90,
     "status": "ok",
     "timestamp": 1659873109944,
     "user": {
      "displayName": "Simeon Hristov",
      "userId": "14036852932086046142"
     },
     "user_tz": -180
    },
    "id": "eUWVbGtUZZXv",
    "outputId": "6ff5b866-ad89-4376-e10f-8bd0171cde92"
   },
   "outputs": [
    {
     "data": {
      "text/plain": [
       "3"
      ]
     },
     "execution_count": 6,
     "metadata": {},
     "output_type": "execute_result"
    }
   ],
   "source": [
    "# multiplication\n",
    "1 * 3"
   ]
  },
  {
   "cell_type": "code",
   "execution_count": null,
   "metadata": {
    "colab": {
     "base_uri": "https://localhost:8080/"
    },
    "executionInfo": {
     "elapsed": 81,
     "status": "ok",
     "timestamp": 1659873109945,
     "user": {
      "displayName": "Simeon Hristov",
      "userId": "14036852932086046142"
     },
     "user_tz": -180
    },
    "id": "RemMFsIbZZXy",
    "outputId": "db801641-8324-4170-b022-24519d885233"
   },
   "outputs": [
    {
     "data": {
      "text/plain": [
       "0.5"
      ]
     },
     "execution_count": 7,
     "metadata": {},
     "output_type": "execute_result"
    }
   ],
   "source": [
    "# floating point number division\n",
    "1 / 2"
   ]
  },
  {
   "cell_type": "code",
   "execution_count": null,
   "metadata": {
    "colab": {
     "base_uri": "https://localhost:8080/"
    },
    "executionInfo": {
     "elapsed": 70,
     "status": "ok",
     "timestamp": 1659873109945,
     "user": {
      "displayName": "Simeon Hristov",
      "userId": "14036852932086046142"
     },
     "user_tz": -180
    },
    "id": "S4qKMn9bZZX2",
    "outputId": "0a55b5f4-fee7-446c-836b-d6dc8426a636"
   },
   "outputs": [
    {
     "data": {
      "text/plain": [
       "16"
      ]
     },
     "execution_count": 8,
     "metadata": {},
     "output_type": "execute_result"
    }
   ],
   "source": [
    "# The power operator\n",
    "2 ** 4"
   ]
  },
  {
   "cell_type": "code",
   "execution_count": null,
   "metadata": {
    "colab": {
     "base_uri": "https://localhost:8080/"
    },
    "executionInfo": {
     "elapsed": 63,
     "status": "ok",
     "timestamp": 1659873109946,
     "user": {
      "displayName": "Simeon Hristov",
      "userId": "14036852932086046142"
     },
     "user_tz": -180
    },
    "id": "bM1zuHekZZX4",
    "outputId": "69b5da18-058c-40d7-afac-58ee5e824944"
   },
   "outputs": [
    {
     "name": "stdout",
     "output_type": "stream",
     "text": [
      "0\n",
      "1\n"
     ]
    }
   ],
   "source": [
    "# Modulus division\n",
    "\n",
    "print(4 % 2)\n",
    "print(5 % 2)"
   ]
  },
  {
   "cell_type": "code",
   "execution_count": null,
   "metadata": {
    "colab": {
     "base_uri": "https://localhost:8080/"
    },
    "executionInfo": {
     "elapsed": 53,
     "status": "ok",
     "timestamp": 1659873109947,
     "user": {
      "displayName": "Simeon Hristov",
      "userId": "14036852932086046142"
     },
     "user_tz": -180
    },
    "id": "ltXP2_MBZZX8",
    "outputId": "46eed7b7-102e-4fd7-b4f2-8942a3a58e62"
   },
   "outputs": [
    {
     "name": "stdout",
     "output_type": "stream",
     "text": [
      "22\n",
      "50\n"
     ]
    }
   ],
   "source": [
    "# Operations have the priority you know from languages such as C++ and Haskell\n",
    "# You remember Haskell, right :D ?\n",
    "\n",
    "# multiplication first\n",
    "print(2 + 3 * 5 + 5)\n",
    "\n",
    "# addition first\n",
    "print((2 + 3) * (5 + 5))"
   ]
  },
  {
   "cell_type": "markdown",
   "metadata": {
    "id": "UnTXJRknjAjx"
   },
   "source": [
    "#### Task 1\n",
    "\n",
    "Uncomment the below digits (`5`, `3`, and `2`) and add parentheses and operators ***without*** rearranging the digits so that the expression evaluates to `1`."
   ]
  },
  {
   "cell_type": "code",
   "execution_count": 1,
   "metadata": {
    "id": "5nYNPcZsg0_r"
   },
   "outputs": [
    {
     "data": {
      "text/plain": [
       "1"
      ]
     },
     "execution_count": 1,
     "metadata": {},
     "output_type": "execute_result"
    }
   ],
   "source": [
    "# Your code here\n",
    "(5 - 3) // 2"
   ]
  },
  {
   "cell_type": "code",
   "execution_count": null,
   "metadata": {
    "colab": {
     "base_uri": "https://localhost:8080/"
    },
    "executionInfo": {
     "elapsed": 303,
     "status": "ok",
     "timestamp": 1659873266344,
     "user": {
      "displayName": "Simeon Hristov",
      "userId": "14036852932086046142"
     },
     "user_tz": -180
    },
    "id": "cIX1kTzVJyTR",
    "outputId": "829f3032-aa85-4e31-9ede-b6c390f8df47"
   },
   "outputs": [
    {
     "data": {
      "text/plain": [
       "1"
      ]
     },
     "execution_count": 193,
     "metadata": {},
     "output_type": "execute_result"
    }
   ],
   "source": [
    "# Blank cell that shows the expected output.\n",
    "\n",
    "# !! Note 1: If you run this cell the output will disappear and you'll\n",
    "# have to look at the GitHub repository to see it.\n",
    "# You are not meant to run these cells !!\n",
    "\n",
    "# Note 2: The expected result is exactly 1 (not 1.0)!"
   ]
  },
  {
   "cell_type": "markdown",
   "metadata": {
    "id": "vNO6k7hZh1wf"
   },
   "source": [
    "### **Useful built-in Functions**"
   ]
  },
  {
   "cell_type": "code",
   "execution_count": null,
   "metadata": {
    "colab": {
     "base_uri": "https://localhost:8080/"
    },
    "executionInfo": {
     "elapsed": 42,
     "status": "ok",
     "timestamp": 1659873109948,
     "user": {
      "displayName": "Simeon Hristov",
      "userId": "14036852932086046142"
     },
     "user_tz": -180
    },
    "id": "-R-oxZXifvO9",
    "outputId": "92852187-dc60-4f85-e9bc-848064b10d39"
   },
   "outputs": [
    {
     "data": {
      "text/plain": [
       "float"
      ]
     },
     "execution_count": 12,
     "metadata": {},
     "output_type": "execute_result"
    }
   ],
   "source": [
    "# check the type of an object\n",
    "type(19.95)"
   ]
  },
  {
   "cell_type": "code",
   "execution_count": null,
   "metadata": {
    "colab": {
     "base_uri": "https://localhost:8080/"
    },
    "executionInfo": {
     "elapsed": 33,
     "status": "ok",
     "timestamp": 1659873109949,
     "user": {
      "displayName": "Simeon Hristov",
      "userId": "14036852932086046142"
     },
     "user_tz": -180
    },
    "id": "zLZU-hIVjiMj",
    "outputId": "a238712f-5195-4ad0-8132-87b78e3247a2"
   },
   "outputs": [
    {
     "data": {
      "text/plain": [
       "int"
      ]
     },
     "execution_count": 13,
     "metadata": {},
     "output_type": "execute_result"
    }
   ],
   "source": [
    "type(19)"
   ]
  },
  {
   "cell_type": "code",
   "execution_count": null,
   "metadata": {
    "colab": {
     "base_uri": "https://localhost:8080/"
    },
    "executionInfo": {
     "elapsed": 465,
     "status": "ok",
     "timestamp": 1659873110391,
     "user": {
      "displayName": "Simeon Hristov",
      "userId": "14036852932086046142"
     },
     "user_tz": -180
    },
    "id": "ovUVIW2Jf4tD",
    "outputId": "2f8c2216-c33a-4413-ea9e-3ba3ed0c3593"
   },
   "outputs": [
    {
     "data": {
      "text/plain": [
       "32"
      ]
     },
     "execution_count": 14,
     "metadata": {},
     "output_type": "execute_result"
    }
   ],
   "source": [
    "# get the absolute value of a number\n",
    "abs(-32)"
   ]
  },
  {
   "cell_type": "code",
   "execution_count": null,
   "metadata": {
    "colab": {
     "base_uri": "https://localhost:8080/"
    },
    "executionInfo": {
     "elapsed": 162,
     "status": "ok",
     "timestamp": 1659873110393,
     "user": {
      "displayName": "Simeon Hristov",
      "userId": "14036852932086046142"
     },
     "user_tz": -180
    },
    "id": "fbyOJmqjf-fX",
    "outputId": "b48fdd32-3d87-49f8-c729-1e38b51ddcd7"
   },
   "outputs": [
    {
     "data": {
      "text/plain": [
       "10.0"
      ]
     },
     "execution_count": 15,
     "metadata": {},
     "output_type": "execute_result"
    }
   ],
   "source": [
    "# cast a number to its floating point equivalent\n",
    "float(10)"
   ]
  },
  {
   "cell_type": "code",
   "execution_count": null,
   "metadata": {
    "colab": {
     "base_uri": "https://localhost:8080/"
    },
    "executionInfo": {
     "elapsed": 150,
     "status": "ok",
     "timestamp": 1659873110394,
     "user": {
      "displayName": "Simeon Hristov",
      "userId": "14036852932086046142"
     },
     "user_tz": -180
    },
    "id": "ieHzJuk_gB01",
    "outputId": "57216ac9-8b8a-4ce1-de1a-b83eee4e3346"
   },
   "outputs": [
    {
     "data": {
      "text/plain": [
       "3"
      ]
     },
     "execution_count": 16,
     "metadata": {},
     "output_type": "execute_result"
    }
   ],
   "source": [
    "# cast an object to an integer\n",
    "int(3.33)"
   ]
  },
  {
   "cell_type": "code",
   "execution_count": null,
   "metadata": {
    "colab": {
     "base_uri": "https://localhost:8080/",
     "height": 35
    },
    "executionInfo": {
     "elapsed": 141,
     "status": "ok",
     "timestamp": 1659873110395,
     "user": {
      "displayName": "Simeon Hristov",
      "userId": "14036852932086046142"
     },
     "user_tz": -180
    },
    "id": "qs6GEP1XgGLv",
    "outputId": "06c6ddbe-ba1c-43ac-ee38-09dff21bbc57"
   },
   "outputs": [
    {
     "data": {
      "application/vnd.google.colaboratory.intrinsic+json": {
       "type": "string"
      },
      "text/plain": [
       "'3.33'"
      ]
     },
     "execution_count": 17,
     "metadata": {},
     "output_type": "execute_result"
    }
   ],
   "source": [
    "# cast an object to a string\n",
    "str(3.33)"
   ]
  },
  {
   "cell_type": "code",
   "execution_count": null,
   "metadata": {
    "colab": {
     "base_uri": "https://localhost:8080/"
    },
    "executionInfo": {
     "elapsed": 137,
     "status": "ok",
     "timestamp": 1659873110396,
     "user": {
      "displayName": "Simeon Hristov",
      "userId": "14036852932086046142"
     },
     "user_tz": -180
    },
    "id": "ZU0DZDC-m4bS",
    "outputId": "e84c4d0b-d741-4ac5-869b-6e653afc8f03"
   },
   "outputs": [
    {
     "name": "stdout",
     "output_type": "stream",
     "text": [
      "Help on built-in function round in module builtins:\n",
      "\n",
      "round(number, ndigits=None)\n",
      "    Round a number to a given precision in decimal digits.\n",
      "    \n",
      "    The return value is an integer if ndigits is omitted or None.  Otherwise\n",
      "    the return value has the same type as the number.  ndigits may be negative.\n",
      "\n"
     ]
    }
   ],
   "source": [
    "# In case you need a documentation for a particular function\n",
    "help(round)"
   ]
  },
  {
   "cell_type": "markdown",
   "metadata": {
    "id": "F8-JEKCBm8Ka"
   },
   "source": [
    "`help()` displays two things:\n",
    "\n",
    "  1. the header of that function `round(number, ndigits=None)`. In this case, this tells us that `round()` takes an argument we can describe as number. Additionally, we can optionally give a separate argument which could be described as `ndigits`.\n",
    "  2. A brief description of what the function does.\n",
    "\n",
    "> **Common pitfall**: when you're looking up a function, remember to pass in the name of the function itself, and not the result of calling that function."
   ]
  },
  {
   "cell_type": "code",
   "execution_count": null,
   "metadata": {
    "colab": {
     "base_uri": "https://localhost:8080/"
    },
    "executionInfo": {
     "elapsed": 127,
     "status": "ok",
     "timestamp": 1659873110397,
     "user": {
      "displayName": "Simeon Hristov",
      "userId": "14036852932086046142"
     },
     "user_tz": -180
    },
    "id": "0WsJxI-zGNVY",
    "outputId": "512e4ba4-270f-42a8-fa19-454c94150a4c"
   },
   "outputs": [
    {
     "name": "stdout",
     "output_type": "stream",
     "text": [
      "Help on _Helper in module _sitebuiltins object:\n",
      "\n",
      "class _Helper(builtins.object)\n",
      " |  Define the builtin 'help'.\n",
      " |  \n",
      " |  This is a wrapper around pydoc.help that provides a helpful message\n",
      " |  when 'help' is typed at the Python interactive prompt.\n",
      " |  \n",
      " |  Calling help() at the Python prompt starts an interactive help session.\n",
      " |  Calling help(thing) prints help for the python object 'thing'.\n",
      " |  \n",
      " |  Methods defined here:\n",
      " |  \n",
      " |  __call__(self, *args, **kwds)\n",
      " |      Call self as a function.\n",
      " |  \n",
      " |  __repr__(self)\n",
      " |      Return repr(self).\n",
      " |  \n",
      " |  ----------------------------------------------------------------------\n",
      " |  Data descriptors defined here:\n",
      " |  \n",
      " |  __dict__\n",
      " |      dictionary for instance variables (if defined)\n",
      " |  \n",
      " |  __weakref__\n",
      " |      list of weak references to the object (if defined)\n",
      "\n"
     ]
    }
   ],
   "source": [
    "help(help)"
   ]
  },
  {
   "cell_type": "markdown",
   "metadata": {
    "id": "PTYelUiqZZX_"
   },
   "source": [
    "### **Variables**"
   ]
  },
  {
   "cell_type": "code",
   "execution_count": null,
   "metadata": {
    "collapsed": true,
    "id": "PCKOW7MBZZYA"
   },
   "outputs": [],
   "source": [
    "# Identifiers cannot start with a digit or special characters\n",
    "# The convention is to use \"snake_casing\"\n",
    "name_of_var = 2"
   ]
  },
  {
   "cell_type": "code",
   "execution_count": null,
   "metadata": {
    "collapsed": true,
    "id": "Mjpt68C3ZZYB"
   },
   "outputs": [],
   "source": [
    "x = 2\n",
    "y = 3"
   ]
  },
  {
   "cell_type": "code",
   "execution_count": null,
   "metadata": {
    "collapsed": true,
    "id": "VG5z5b_8ZZYC"
   },
   "outputs": [],
   "source": [
    "z = x + y"
   ]
  },
  {
   "cell_type": "code",
   "execution_count": null,
   "metadata": {
    "colab": {
     "base_uri": "https://localhost:8080/"
    },
    "executionInfo": {
     "elapsed": 118,
     "status": "ok",
     "timestamp": 1659873110400,
     "user": {
      "displayName": "Simeon Hristov",
      "userId": "14036852932086046142"
     },
     "user_tz": -180
    },
    "id": "307EyvdZZZYE",
    "outputId": "b8edd5d1-88a5-49c4-f163-860fee6cc9c8"
   },
   "outputs": [
    {
     "data": {
      "text/plain": [
       "5"
      ]
     },
     "execution_count": 23,
     "metadata": {},
     "output_type": "execute_result"
    }
   ],
   "source": [
    "z"
   ]
  },
  {
   "cell_type": "code",
   "execution_count": null,
   "metadata": {
    "id": "3G8VmNwfi4GN"
   },
   "outputs": [],
   "source": [
    "# create a variable called color with an appropriate value and print it\n",
    "color = 'white'"
   ]
  },
  {
   "cell_type": "code",
   "execution_count": null,
   "metadata": {
    "colab": {
     "base_uri": "https://localhost:8080/"
    },
    "executionInfo": {
     "elapsed": 109,
     "status": "ok",
     "timestamp": 1659873110402,
     "user": {
      "displayName": "Simeon Hristov",
      "userId": "14036852932086046142"
     },
     "user_tz": -180
    },
    "id": "NjysKwhwlruS",
    "outputId": "29f77350-ef27-4f05-84f8-5a60cd39a7aa"
   },
   "outputs": [
    {
     "name": "stdout",
     "output_type": "stream",
     "text": [
      "white\n",
      "Hello, world\n"
     ]
    }
   ],
   "source": [
    "print(color)\n",
    "print('Hello, world')"
   ]
  },
  {
   "cell_type": "code",
   "execution_count": null,
   "metadata": {
    "colab": {
     "base_uri": "https://localhost:8080/",
     "height": 35
    },
    "executionInfo": {
     "elapsed": 101,
     "status": "ok",
     "timestamp": 1659873110403,
     "user": {
      "displayName": "Simeon Hristov",
      "userId": "14036852932086046142"
     },
     "user_tz": -180
    },
    "id": "ZWbHSoJoluPi",
    "outputId": "654a89ae-ce7e-4b94-ff28-a4e30cf0b18a"
   },
   "outputs": [
    {
     "data": {
      "application/vnd.google.colaboratory.intrinsic+json": {
       "type": "string"
      },
      "text/plain": [
       "'Hello, world'"
      ]
     },
     "execution_count": 26,
     "metadata": {},
     "output_type": "execute_result"
    }
   ],
   "source": [
    "'Hello, world'"
   ]
  },
  {
   "cell_type": "markdown",
   "metadata": {
    "id": "cv7MXgHClw1H"
   },
   "source": [
    "> Notice the difference in output!\n",
    "\n",
    "By default jupyter notebooks display the last line (that is code) in a cell. That's why you see `'Hello, world'`. Notice the quotes. That means that it is not actully calling the internal method that would print the string (called the `__repr__()` method), but only displaying it as an output.\n",
    "\n",
    "`print(color)` does however call the `__repr__()` method and hense there are no quotes"
   ]
  },
  {
   "cell_type": "markdown",
   "metadata": {
    "id": "0dn_3wizmlKB"
   },
   "source": [
    "#### Task 2\n",
    "\n",
    "Complete the code below so as to get the expected output."
   ]
  },
  {
   "cell_type": "code",
   "execution_count": 2,
   "metadata": {
    "id": "CX0pVmP-i9FG"
   },
   "outputs": [
    {
     "name": "stdout",
     "output_type": "stream",
     "text": [
      "7.068577499999999\n"
     ]
    }
   ],
   "source": [
    "pi = 3.14159 # approximate\n",
    "\n",
    "# Create a variable called 'diameter' equal to 3\n",
    "diameter = 3\n",
    "\n",
    "# Create a variable called 'radius' equal to half the diameter\n",
    "radius = diameter / 2\n",
    "\n",
    "# Create and output a variable called 'area', using the formula for the area of a circle: pi multiplied by the squared radius\n",
    "area = pi * radius * radius\n",
    "print(area)"
   ]
  },
  {
   "cell_type": "code",
   "execution_count": null,
   "metadata": {
    "colab": {
     "base_uri": "https://localhost:8080/"
    },
    "executionInfo": {
     "elapsed": 312,
     "status": "ok",
     "timestamp": 1659873396505,
     "user": {
      "displayName": "Simeon Hristov",
      "userId": "14036852932086046142"
     },
     "user_tz": -180
    },
    "id": "roOnFDfDKMSC",
    "outputId": "81269908-7db4-4dbe-a1b3-b5ea6931b6df"
   },
   "outputs": [
    {
     "data": {
      "text/plain": [
       "7.0685775"
      ]
     },
     "execution_count": 199,
     "metadata": {},
     "output_type": "execute_result"
    }
   ],
   "source": [
    "# Expected output"
   ]
  },
  {
   "cell_type": "markdown",
   "metadata": {
    "id": "ml6Ljhkylxy1"
   },
   "source": [
    "### **Functions and Docstrings**"
   ]
  },
  {
   "cell_type": "code",
   "execution_count": null,
   "metadata": {
    "colab": {
     "base_uri": "https://localhost:8080/"
    },
    "executionInfo": {
     "elapsed": 98,
     "status": "ok",
     "timestamp": 1659873110404,
     "user": {
      "displayName": "Simeon Hristov",
      "userId": "14036852932086046142"
     },
     "user_tz": -180
    },
    "id": "LhwthoXZlz3v",
    "outputId": "d7429bdf-b86d-4eb8-917c-8d3bbcf144b7"
   },
   "outputs": [
    {
     "data": {
      "text/plain": [
       "4"
      ]
     },
     "execution_count": 28,
     "metadata": {},
     "output_type": "execute_result"
    }
   ],
   "source": [
    "# Here's how to create a function in Python.\n",
    "# Use the keyword \"def\" followed by\n",
    "# an identifier and a parameter list.\n",
    "\n",
    "# Notice how in Python, the docstring is\n",
    "# inserted right below the declaration!\n",
    "\n",
    "# Notice also how a special kind of string\n",
    "# is used: one with triple quotes. You'll learn\n",
    "# about those string in the \"Strings\" section.\n",
    "\n",
    "def least_difference(a, b, c):\n",
    "  \"\"\"Return the smallest difference between any two numbers\n",
    "  among a, b and c.\n",
    "  \n",
    "  >>> least_difference(1, 5, -5)\n",
    "  4\n",
    "  \"\"\"\n",
    "  v1 = abs(a - b)\n",
    "  v2 = abs(b - c)\n",
    "  v3 = abs(a - c)\n",
    "  return min(v1, v2, v3)\n",
    "\n",
    "# Calling a function in Python is like\n",
    "# calling a function in C++\n",
    "least_difference(1, 5, -5)"
   ]
  },
  {
   "cell_type": "code",
   "execution_count": null,
   "metadata": {
    "colab": {
     "base_uri": "https://localhost:8080/"
    },
    "executionInfo": {
     "elapsed": 89,
     "status": "ok",
     "timestamp": 1659873110405,
     "user": {
      "displayName": "Simeon Hristov",
      "userId": "14036852932086046142"
     },
     "user_tz": -180
    },
    "id": "21urbAia3Wwu",
    "outputId": "a0e362a1-21a9-450f-e774-d1efb86abbc2"
   },
   "outputs": [
    {
     "data": {
      "text/plain": [
       "<function __main__.least_difference>"
      ]
     },
     "execution_count": 29,
     "metadata": {},
     "output_type": "execute_result"
    }
   ],
   "source": [
    "# The value of this identifier is a function\n",
    "least_difference"
   ]
  },
  {
   "cell_type": "code",
   "execution_count": null,
   "metadata": {
    "colab": {
     "base_uri": "https://localhost:8080/"
    },
    "executionInfo": {
     "elapsed": 82,
     "status": "ok",
     "timestamp": 1659873110407,
     "user": {
      "displayName": "Simeon Hristov",
      "userId": "14036852932086046142"
     },
     "user_tz": -180
    },
    "id": "JqmUkKJ8l162",
    "outputId": "24ab015b-e9c6-4b31-f436-e397e7a7194c"
   },
   "outputs": [
    {
     "name": "stdout",
     "output_type": "stream",
     "text": [
      "Help on function least_difference in module __main__:\n",
      "\n",
      "least_difference(a, b, c)\n",
      "    Return the smallest difference between any two numbers\n",
      "    among a, b and c.\n",
      "    \n",
      "    >>> least_difference(1, 5, -5)\n",
      "    4\n",
      "\n"
     ]
    }
   ],
   "source": [
    "# Because we wrote a docstring, we can now see it\n",
    "# when calling \"help\".\n",
    "help(least_difference)"
   ]
  },
  {
   "cell_type": "markdown",
   "metadata": {
    "id": "QLcwfTEqmSEt"
   },
   "source": [
    "#### Keyword (default) arguments"
   ]
  },
  {
   "cell_type": "code",
   "execution_count": null,
   "metadata": {
    "colab": {
     "base_uri": "https://localhost:8080/"
    },
    "executionInfo": {
     "elapsed": 73,
     "status": "ok",
     "timestamp": 1659873110408,
     "user": {
      "displayName": "Simeon Hristov",
      "userId": "14036852932086046142"
     },
     "user_tz": -180
    },
    "id": "utG6PQQEmUUa",
    "outputId": "b9a35cb5-94d5-4e18-cedb-4d9fe493b3ac"
   },
   "outputs": [
    {
     "name": "stdout",
     "output_type": "stream",
     "text": [
      "Hello, Colin\n",
      "Hello, Simo\n",
      "Hello, Simo2\n"
     ]
    }
   ],
   "source": [
    "def greet(who=\"Colin\"):\n",
    "  print(f'Hello, {who}')\n",
    "    \n",
    "greet()\n",
    "greet(who='Simo')\n",
    "greet('Simo2')"
   ]
  },
  {
   "cell_type": "markdown",
   "metadata": {
    "id": "4jk2wi94pSlv"
   },
   "source": [
    "Notice the type of string that is used in the `print` statement. This is called an `f-string`. We use those types of strings in order to perform \"string interpolation\" - a way to insert objects' values into strings. Read more about them [here](https://www.geeksforgeeks.org/formatted-string-literals-f-strings-python/)."
   ]
  },
  {
   "cell_type": "markdown",
   "metadata": {
    "id": "QANOtviQnNTL"
   },
   "source": [
    "#### Lambda functions"
   ]
  },
  {
   "cell_type": "code",
   "execution_count": null,
   "metadata": {
    "id": "rR7VrlFLnPX3"
   },
   "outputs": [],
   "source": [
    "# This is a definition of a higher order function\n",
    "def is_odd():\n",
    "  return lambda x: x % 2 != 0"
   ]
  },
  {
   "cell_type": "code",
   "execution_count": null,
   "metadata": {
    "colab": {
     "base_uri": "https://localhost:8080/"
    },
    "executionInfo": {
     "elapsed": 65,
     "status": "ok",
     "timestamp": 1659873110410,
     "user": {
      "displayName": "Simeon Hristov",
      "userId": "14036852932086046142"
     },
     "user_tz": -180
    },
    "id": "iDxpokgbHmZB",
    "outputId": "e72daf00-33a0-4873-ff70-67169f99aca6"
   },
   "outputs": [
    {
     "data": {
      "text/plain": [
       "False"
      ]
     },
     "execution_count": 33,
     "metadata": {},
     "output_type": "execute_result"
    }
   ],
   "source": [
    "is_odd()(6)"
   ]
  },
  {
   "cell_type": "code",
   "execution_count": null,
   "metadata": {
    "colab": {
     "base_uri": "https://localhost:8080/"
    },
    "executionInfo": {
     "elapsed": 57,
     "status": "ok",
     "timestamp": 1659873110411,
     "user": {
      "displayName": "Simeon Hristov",
      "userId": "14036852932086046142"
     },
     "user_tz": -180
    },
    "id": "ogtFZczvoRyX",
    "outputId": "f520eee4-d676-496a-cda4-a27ec261934d"
   },
   "outputs": [
    {
     "data": {
      "text/plain": [
       "False"
      ]
     },
     "execution_count": 34,
     "metadata": {},
     "output_type": "execute_result"
    }
   ],
   "source": [
    "# same can be written as such\n",
    "# yes, that's a litte strange,\n",
    "# but functional programming is strange in general :D\n",
    "(lambda x: x % 2 != 0)(6)"
   ]
  },
  {
   "cell_type": "markdown",
   "metadata": {
    "id": "Eih70rO5n2a5"
   },
   "source": [
    "#### Combining Boolean Values\n",
    "\n",
    "You can combine boolean values using the standard concepts of \"logical and\", \"logical or\", and \"logical not\". In fact, the words to do this are literally: `and`, `or`, and `not` 😸."
   ]
  },
  {
   "cell_type": "code",
   "execution_count": null,
   "metadata": {
    "colab": {
     "base_uri": "https://localhost:8080/"
    },
    "executionInfo": {
     "elapsed": 49,
     "status": "ok",
     "timestamp": 1659873110412,
     "user": {
      "displayName": "Simeon Hristov",
      "userId": "14036852932086046142"
     },
     "user_tz": -180
    },
    "id": "Kaip9brV1-6z",
    "outputId": "0905a0c5-33bd-4a46-fe4b-fe4eb258d501"
   },
   "outputs": [
    {
     "data": {
      "text/plain": [
       "False"
      ]
     },
     "execution_count": 35,
     "metadata": {},
     "output_type": "execute_result"
    }
   ],
   "source": [
    "(1 > 2) and (2 < 3)"
   ]
  },
  {
   "cell_type": "code",
   "execution_count": null,
   "metadata": {
    "colab": {
     "base_uri": "https://localhost:8080/"
    },
    "executionInfo": {
     "elapsed": 426,
     "status": "ok",
     "timestamp": 1659873110797,
     "user": {
      "displayName": "Simeon Hristov",
      "userId": "14036852932086046142"
     },
     "user_tz": -180
    },
    "id": "ba0kuLc-2BCO",
    "outputId": "80901ef7-6531-4ce2-8ad6-6f7257c92dfa"
   },
   "outputs": [
    {
     "data": {
      "text/plain": [
       "True"
      ]
     },
     "execution_count": 36,
     "metadata": {},
     "output_type": "execute_result"
    }
   ],
   "source": [
    "(1 > 2) or (2 < 3)"
   ]
  },
  {
   "cell_type": "code",
   "execution_count": null,
   "metadata": {
    "colab": {
     "base_uri": "https://localhost:8080/"
    },
    "executionInfo": {
     "elapsed": 135,
     "status": "ok",
     "timestamp": 1659873110799,
     "user": {
      "displayName": "Simeon Hristov",
      "userId": "14036852932086046142"
     },
     "user_tz": -180
    },
    "id": "pbmHJP-K2A0W",
    "outputId": "12a3d028-a9ea-48e8-be8a-8b130ea5068d"
   },
   "outputs": [
    {
     "data": {
      "text/plain": [
       "True"
      ]
     },
     "execution_count": 37,
     "metadata": {},
     "output_type": "execute_result"
    }
   ],
   "source": [
    "(1 == 2) or (2 == 3) or (4 == 4)"
   ]
  },
  {
   "cell_type": "code",
   "execution_count": null,
   "metadata": {
    "colab": {
     "base_uri": "https://localhost:8080/"
    },
    "executionInfo": {
     "elapsed": 126,
     "status": "ok",
     "timestamp": 1659873110800,
     "user": {
      "displayName": "Simeon Hristov",
      "userId": "14036852932086046142"
     },
     "user_tz": -180
    },
    "id": "tuSylIptoC3v",
    "outputId": "55453fbc-1c68-4ae5-d469-57336f2f2b31"
   },
   "outputs": [
    {
     "name": "stdout",
     "output_type": "stream",
     "text": [
      "False\n",
      "False\n",
      "True\n"
     ]
    }
   ],
   "source": [
    "def can_run_for_president(age, is_natural_born_citizen):\n",
    "  \"\"\"Can someone of the given age and citizenship status run for president in the US?\"\"\"\n",
    "  # The US Constitution says you must be a natural born citizen *and* at least 35 years old\n",
    "  return is_natural_born_citizen and age >= 35\n",
    "\n",
    "print(can_run_for_president(19, True))\n",
    "print(can_run_for_president(55, False))\n",
    "print(can_run_for_president(55, True))"
   ]
  },
  {
   "cell_type": "markdown",
   "metadata": {
    "id": "skDjKbNloeYn"
   },
   "source": [
    "#### Conditionals\n",
    "\n",
    "Booleans are most useful when combined with conditional statements, using the keywords `if`, `elif`, and `else`."
   ]
  },
  {
   "cell_type": "code",
   "execution_count": null,
   "metadata": {
    "colab": {
     "base_uri": "https://localhost:8080/"
    },
    "executionInfo": {
     "elapsed": 117,
     "status": "ok",
     "timestamp": 1659873110801,
     "user": {
      "displayName": "Simeon Hristov",
      "userId": "14036852932086046142"
     },
     "user_tz": -180
    },
    "id": "Gtb7-Fuy2HPi",
    "outputId": "2d6046ad-3a54-43e3-958a-1c0de2a97ed7"
   },
   "outputs": [
    {
     "name": "stdout",
     "output_type": "stream",
     "text": [
      "Yep!\n"
     ]
    }
   ],
   "source": [
    "if 1 < 2:\n",
    "    print('Yep!')"
   ]
  },
  {
   "cell_type": "code",
   "execution_count": null,
   "metadata": {
    "colab": {
     "base_uri": "https://localhost:8080/"
    },
    "executionInfo": {
     "elapsed": 108,
     "status": "ok",
     "timestamp": 1659873110801,
     "user": {
      "displayName": "Simeon Hristov",
      "userId": "14036852932086046142"
     },
     "user_tz": -180
    },
    "id": "_85MTdAC2IPT",
    "outputId": "3f5100cb-76e7-4b6f-f399-20adb03e516f"
   },
   "outputs": [
    {
     "name": "stdout",
     "output_type": "stream",
     "text": [
      "first\n"
     ]
    }
   ],
   "source": [
    "if 1 < 2:\n",
    "    print('first')\n",
    "else:\n",
    "    print('last')"
   ]
  },
  {
   "cell_type": "code",
   "execution_count": null,
   "metadata": {
    "colab": {
     "base_uri": "https://localhost:8080/"
    },
    "executionInfo": {
     "elapsed": 98,
     "status": "ok",
     "timestamp": 1659873110801,
     "user": {
      "displayName": "Simeon Hristov",
      "userId": "14036852932086046142"
     },
     "user_tz": -180
    },
    "id": "FFvHzymv2Maq",
    "outputId": "c3aa13e5-bc49-4fe5-8929-c4f7fe9f3904"
   },
   "outputs": [
    {
     "name": "stdout",
     "output_type": "stream",
     "text": [
      "last\n"
     ]
    }
   ],
   "source": [
    "if 1 > 2:\n",
    "    print('first')\n",
    "else:\n",
    "    print('last')"
   ]
  },
  {
   "cell_type": "code",
   "execution_count": null,
   "metadata": {
    "colab": {
     "base_uri": "https://localhost:8080/"
    },
    "executionInfo": {
     "elapsed": 88,
     "status": "ok",
     "timestamp": 1659873110802,
     "user": {
      "displayName": "Simeon Hristov",
      "userId": "14036852932086046142"
     },
     "user_tz": -180
    },
    "id": "kI3fg_132Npg",
    "outputId": "7bcf5cfa-58c7-4c18-b283-5fd99c8ea931"
   },
   "outputs": [
    {
     "name": "stdout",
     "output_type": "stream",
     "text": [
      "middle\n"
     ]
    }
   ],
   "source": [
    "if 1 == 2:\n",
    "    print('first')\n",
    "elif 3 == 3:\n",
    "    print('middle')\n",
    "else:\n",
    "    print('Last')"
   ]
  },
  {
   "cell_type": "code",
   "execution_count": null,
   "metadata": {
    "colab": {
     "base_uri": "https://localhost:8080/"
    },
    "executionInfo": {
     "elapsed": 80,
     "status": "ok",
     "timestamp": 1659873110803,
     "user": {
      "displayName": "Simeon Hristov",
      "userId": "14036852932086046142"
     },
     "user_tz": -180
    },
    "id": "UzLUxhpJolQS",
    "outputId": "d4e1a11b-409a-4771-ab58-5e759867a618"
   },
   "outputs": [
    {
     "name": "stdout",
     "output_type": "stream",
     "text": [
      "0 is zero\n",
      "-15 is negative\n"
     ]
    }
   ],
   "source": [
    "def inspect(x):\n",
    "  if x == 0:\n",
    "    print(x, \"is zero\")\n",
    "  elif x > 0:\n",
    "    print(x, \"is positive\")\n",
    "  elif x < 0:\n",
    "    print(x, \"is negative\")\n",
    "  else:\n",
    "    print(x, \"is unlike anything I've ever seen...\")\n",
    "\n",
    "inspect(0)\n",
    "inspect(-15)\n",
    "\n",
    "# Notice how apart from string interpolation, we could\n",
    "# also just list the arguments to be printed.\n",
    "# By default, Python puts a space between them\n",
    "# when constructing the interpolating the string.\n",
    "\n",
    "# However, please note that the most common and accepted\n",
    "# approach is the use f-strings!"
   ]
  },
  {
   "cell_type": "markdown",
   "metadata": {
    "id": "3O3nChBAqUgL"
   },
   "source": [
    "##### Task 3\n",
    "\n",
    "Complete the code below so as to get the expected output.\n"
   ]
  },
  {
   "cell_type": "code",
   "execution_count": 3,
   "metadata": {
    "id": "Pnmc0LTqrB7m"
   },
   "outputs": [
    {
     "name": "stdout",
     "output_type": "stream",
     "text": [
      "Only printed whenx is positive; x = 1\n",
      "Also only printed when x is positive; x = 1\n",
      "Always printed, regardless of x's value; x = 1\n",
      "Always printed, regardless of x's value; x = 0\n"
     ]
    }
   ],
   "source": [
    "def f(x):\n",
    "  # Your code here\n",
    "  if x > 0:\n",
    "    print(f\"Only printed whenx is positive; x = {x}\")\n",
    "    print(f\"Also only printed when x is positive; x = {x}\")\n",
    "  \n",
    "  print(f\"Always printed, regardless of x's value; x = {x}\")\n",
    "\n",
    "f(1)\n",
    "f(0)"
   ]
  },
  {
   "cell_type": "code",
   "execution_count": null,
   "metadata": {
    "colab": {
     "base_uri": "https://localhost:8080/"
    },
    "executionInfo": {
     "elapsed": 7,
     "status": "ok",
     "timestamp": 1659873563194,
     "user": {
      "displayName": "Simeon Hristov",
      "userId": "14036852932086046142"
     },
     "user_tz": -180
    },
    "id": "P9s39ijdK3vU",
    "outputId": "808de190-ef95-4f17-c96d-b043c3bce15a"
   },
   "outputs": [
    {
     "name": "stdout",
     "output_type": "stream",
     "text": [
      "Only printed when x is positive; x = 1\n",
      "Also only printed when x is positive; x = 1\n",
      "Always printed, regardless of x's value; x = 1\n",
      "Always printed, regardless of x's value; x = 0\n"
     ]
    }
   ],
   "source": [
    "# Expected output"
   ]
  },
  {
   "cell_type": "markdown",
   "metadata": {
    "id": "oJ4dP_G6rg-r"
   },
   "source": [
    "Notice the `pass` keyword. It is used to signal to Python that this function's definition is empty and can be skipped. Read more about it [here](https://www.w3schools.com/python/ref_keyword_pass.asp)."
   ]
  },
  {
   "cell_type": "markdown",
   "metadata": {
    "id": "33XHnxlOpMaw"
   },
   "source": [
    "#### Boolean conversion\n",
    "\n",
    "We've seen `int()`, which turns things into `int`s, and `float()`, which turns things into `float`s. Python also has a `bool()` function which turns things into `bool`s."
   ]
  },
  {
   "cell_type": "code",
   "execution_count": null,
   "metadata": {
    "colab": {
     "base_uri": "https://localhost:8080/"
    },
    "executionInfo": {
     "elapsed": 71,
     "status": "ok",
     "timestamp": 1659873110806,
     "user": {
      "displayName": "Simeon Hristov",
      "userId": "14036852932086046142"
     },
     "user_tz": -180
    },
    "id": "LwOWsL7lpUuq",
    "outputId": "204ee5df-5869-49c7-982a-6f57b11c66e3"
   },
   "outputs": [
    {
     "name": "stdout",
     "output_type": "stream",
     "text": [
      "True\n",
      "False\n",
      "True\n",
      "False\n"
     ]
    }
   ],
   "source": [
    "print(bool(1)) # all numbers are treated as true, except 0\n",
    "print(bool(0))\n",
    "print(bool(\"asf\")) # all strings are treated as true, except the empty string \"\"\n",
    "print(bool(\"\"))"
   ]
  },
  {
   "cell_type": "markdown",
   "metadata": {
    "id": "bE_5G3j0pZ3C"
   },
   "source": [
    "> **Tip**: Generally empty sequences (strings, lists, tuples, dictionaries) are `false`y and the rest are `truth`y."
   ]
  },
  {
   "cell_type": "markdown",
   "metadata": {
    "id": "q5NJjvZ5qm2P"
   },
   "source": [
    "## **Lists**"
   ]
  },
  {
   "cell_type": "code",
   "execution_count": null,
   "metadata": {
    "id": "I1pDK5sZjTsW"
   },
   "outputs": [],
   "source": [
    "a = [1, 2, 3]\n",
    "b = [3, 2, 1]"
   ]
  },
  {
   "cell_type": "code",
   "execution_count": null,
   "metadata": {
    "colab": {
     "base_uri": "https://localhost:8080/"
    },
    "executionInfo": {
     "elapsed": 63,
     "status": "ok",
     "timestamp": 1659873110808,
     "user": {
      "displayName": "Simeon Hristov",
      "userId": "14036852932086046142"
     },
     "user_tz": -180
    },
    "id": "A6NmCZUYqpgp",
    "outputId": "e324b129-5a59-4934-df48-21a6730fa583"
   },
   "outputs": [
    {
     "data": {
      "text/plain": [
       "[32,\n",
       " 'raindrops on roses',\n",
       " Type help() for interactive help, or help(object) for help about object.,\n",
       " [1, 2]]"
      ]
     },
     "execution_count": 48,
     "metadata": {},
     "output_type": "execute_result"
    }
   ],
   "source": [
    "# A list can contain a mix of different types of variables\n",
    "my_favourite_things = [32, 'raindrops on roses', help,[1,2]]\n",
    "my_favourite_things"
   ]
  },
  {
   "cell_type": "code",
   "execution_count": null,
   "metadata": {
    "colab": {
     "base_uri": "https://localhost:8080/",
     "height": 35
    },
    "executionInfo": {
     "elapsed": 55,
     "status": "ok",
     "timestamp": 1659873110809,
     "user": {
      "displayName": "Simeon Hristov",
      "userId": "14036852932086046142"
     },
     "user_tz": -180
    },
    "id": "4vzKrOD8quI0",
    "outputId": "3a22bbe5-1ce7-4e2f-ca55-d0fa91159c78"
   },
   "outputs": [
    {
     "data": {
      "application/vnd.google.colaboratory.intrinsic+json": {
       "type": "string"
      },
      "text/plain": [
       "'raindrops on roses'"
      ]
     },
     "execution_count": 49,
     "metadata": {},
     "output_type": "execute_result"
    }
   ],
   "source": [
    "# indexing is like in C++\n",
    "my_favourite_things[1]"
   ]
  },
  {
   "cell_type": "code",
   "execution_count": null,
   "metadata": {
    "colab": {
     "base_uri": "https://localhost:8080/"
    },
    "executionInfo": {
     "elapsed": 52,
     "status": "ok",
     "timestamp": 1659873110809,
     "user": {
      "displayName": "Simeon Hristov",
      "userId": "14036852932086046142"
     },
     "user_tz": -180
    },
    "id": "ZJ7uPfXIqwNh",
    "outputId": "3f948310-f946-4b4a-eb2a-17964f6f2f69"
   },
   "outputs": [
    {
     "data": {
      "text/plain": [
       "[1, 2]"
      ]
     },
     "execution_count": 50,
     "metadata": {},
     "output_type": "execute_result"
    }
   ],
   "source": [
    "# getting the last element\n",
    "my_favourite_things[-1]"
   ]
  },
  {
   "cell_type": "code",
   "execution_count": null,
   "metadata": {
    "colab": {
     "base_uri": "https://localhost:8080/"
    },
    "executionInfo": {
     "elapsed": 43,
     "status": "ok",
     "timestamp": 1659873110810,
     "user": {
      "displayName": "Simeon Hristov",
      "userId": "14036852932086046142"
     },
     "user_tz": -180
    },
    "id": "GimwT8Qkqxqu",
    "outputId": "47685b20-b9c8-4c22-d072-3341cd4f846e"
   },
   "outputs": [
    {
     "data": {
      "text/plain": [
       "Type help() for interactive help, or help(object) for help about object."
      ]
     },
     "execution_count": 51,
     "metadata": {},
     "output_type": "execute_result"
    }
   ],
   "source": [
    "# getting the second to last element\n",
    "my_favourite_things[-2]"
   ]
  },
  {
   "cell_type": "code",
   "execution_count": null,
   "metadata": {
    "colab": {
     "base_uri": "https://localhost:8080/"
    },
    "executionInfo": {
     "elapsed": 503,
     "status": "ok",
     "timestamp": 1659873111278,
     "user": {
      "displayName": "Simeon Hristov",
      "userId": "14036852932086046142"
     },
     "user_tz": -180
    },
    "id": "_GgT_h1CqzLY",
    "outputId": "e68aa38a-abae-466a-cfcd-11b25a0aef9d"
   },
   "outputs": [
    {
     "data": {
      "text/plain": [
       "['raindrops on roses',\n",
       " Type help() for interactive help, or help(object) for help about object.,\n",
       " [1, 2]]"
      ]
     },
     "execution_count": 52,
     "metadata": {},
     "output_type": "execute_result"
    }
   ],
   "source": [
    "# Slicing\n",
    "my_favourite_things[1:]"
   ]
  },
  {
   "cell_type": "code",
   "execution_count": null,
   "metadata": {
    "colab": {
     "base_uri": "https://localhost:8080/"
    },
    "executionInfo": {
     "elapsed": 105,
     "status": "ok",
     "timestamp": 1659873111279,
     "user": {
      "displayName": "Simeon Hristov",
      "userId": "14036852932086046142"
     },
     "user_tz": -180
    },
    "id": "epQC_U7kq09d",
    "outputId": "8182e9bd-2964-4fdc-a6e3-14b42fa6af87"
   },
   "outputs": [
    {
     "data": {
      "text/plain": [
       "[32]"
      ]
     },
     "execution_count": 53,
     "metadata": {},
     "output_type": "execute_result"
    }
   ],
   "source": [
    "my_favourite_things[0:1]"
   ]
  },
  {
   "cell_type": "code",
   "execution_count": null,
   "metadata": {
    "colab": {
     "base_uri": "https://localhost:8080/"
    },
    "executionInfo": {
     "elapsed": 98,
     "status": "ok",
     "timestamp": 1659873111279,
     "user": {
      "displayName": "Simeon Hristov",
      "userId": "14036852932086046142"
     },
     "user_tz": -180
    },
    "id": "7DEtMRBAq9U4",
    "outputId": "0d65822f-1448-4b21-c035-c0e576d741e4"
   },
   "outputs": [
    {
     "data": {
      "text/plain": [
       "['Mercury',\n",
       " 'Venus',\n",
       " 'Earth',\n",
       " 'Malacandra',\n",
       " 'Jupiter',\n",
       " 'Saturn',\n",
       " 'Uranus',\n",
       " 'Neptune']"
      ]
     },
     "execution_count": 54,
     "metadata": {},
     "output_type": "execute_result"
    }
   ],
   "source": [
    "planets = ['Mercury', 'Venus', 'Earth', 'Mars', 'Jupiter', 'Saturn', 'Uranus', 'Neptune']\n",
    "planets[3] = 'Malacandra'\n",
    "planets"
   ]
  },
  {
   "cell_type": "code",
   "execution_count": null,
   "metadata": {
    "colab": {
     "base_uri": "https://localhost:8080/"
    },
    "executionInfo": {
     "elapsed": 88,
     "status": "ok",
     "timestamp": 1659873111280,
     "user": {
      "displayName": "Simeon Hristov",
      "userId": "14036852932086046142"
     },
     "user_tz": -180
    },
    "id": "_IwnFcNsJ3YU",
    "outputId": "d57b123d-fffe-40b5-cbeb-72e14d4b63a1"
   },
   "outputs": [
    {
     "data": {
      "text/plain": [
       "['Mercury', 'Venus', 'Earth', 'Malacandra', 'Jupiter', 'Saturn']"
      ]
     },
     "execution_count": 55,
     "metadata": {},
     "output_type": "execute_result"
    }
   ],
   "source": [
    "planets[:-2]"
   ]
  },
  {
   "cell_type": "markdown",
   "metadata": {
    "id": "AUwZtCjfsCN4"
   },
   "source": [
    "### Task 4\n",
    "\n",
    "Swap the values of a and b."
   ]
  },
  {
   "cell_type": "code",
   "execution_count": 5,
   "metadata": {
    "id": "ZW-FFe6SsIyX"
   },
   "outputs": [
    {
     "name": "stdout",
     "output_type": "stream",
     "text": [
      "BEFORE: a=[1, 2, 3] and b=[3, 2, 1]\n",
      "AFTER : a=[3, 2, 1] and b=[1, 2, 3]\n"
     ]
    }
   ],
   "source": [
    "# Your code here\n",
    "a = [1, 2, 3]\n",
    "b = [3, 2, 1]\n",
    "\n",
    "print(f\"BEFORE: a={a} and b={b}\")\n",
    "\n",
    "temp = a\n",
    "a = b\n",
    "b = temp\n",
    "\n",
    "print(f\"AFTER : a={a} and b={b}\")"
   ]
  },
  {
   "cell_type": "code",
   "execution_count": null,
   "metadata": {
    "colab": {
     "base_uri": "https://localhost:8080/"
    },
    "executionInfo": {
     "elapsed": 333,
     "status": "ok",
     "timestamp": 1659873884833,
     "user": {
      "displayName": "Simeon Hristov",
      "userId": "14036852932086046142"
     },
     "user_tz": -180
    },
    "id": "oVqpCiU6FWRP",
    "outputId": "17277e2f-33e4-4a9d-f61d-30774454f06e"
   },
   "outputs": [
    {
     "name": "stdout",
     "output_type": "stream",
     "text": [
      "BEFORE: a=[1, 2, 3] and b=[3, 2, 1]\n",
      "AFTER : a=[3, 2, 1] and b=[1, 2, 3]\n"
     ]
    }
   ],
   "source": [
    "# Expected output."
   ]
  },
  {
   "cell_type": "markdown",
   "metadata": {
    "id": "1_FZ31lzsnXY"
   },
   "source": [
    "### Task 5\n",
    "\n",
    "Reverse a."
   ]
  },
  {
   "cell_type": "code",
   "execution_count": 7,
   "metadata": {
    "id": "bxbJLCB4swfm"
   },
   "outputs": [
    {
     "name": "stdout",
     "output_type": "stream",
     "text": [
      "BEFORE: a=[3, 2, 1]\n",
      "AFTER : a=[1, 2, 3]\n"
     ]
    }
   ],
   "source": [
    "# Your code here\n",
    "a = [3, 2, 1]\n",
    "\n",
    "print(f\"BEFORE: a={a}\")\n",
    "\n",
    "temp = a[0]\n",
    "a[0] = a[2]\n",
    "a[2] = temp\n",
    "\n",
    "print(f\"AFTER : a={a}\")"
   ]
  },
  {
   "cell_type": "code",
   "execution_count": null,
   "metadata": {
    "colab": {
     "base_uri": "https://localhost:8080/"
    },
    "executionInfo": {
     "elapsed": 23,
     "status": "ok",
     "timestamp": 1659873937074,
     "user": {
      "displayName": "Simeon Hristov",
      "userId": "14036852932086046142"
     },
     "user_tz": -180
    },
    "id": "AWxDsV95Fqp4",
    "outputId": "b3d8b205-9363-4902-a414-2eaa4534f566"
   },
   "outputs": [
    {
     "name": "stdout",
     "output_type": "stream",
     "text": [
      "BEFORE: a=[3, 2, 1]\n",
      "AFTER : a=[1, 2, 3]\n"
     ]
    }
   ],
   "source": [
    "# Expected output"
   ]
  },
  {
   "cell_type": "code",
   "execution_count": null,
   "metadata": {
    "colab": {
     "base_uri": "https://localhost:8080/"
    },
    "executionInfo": {
     "elapsed": 21,
     "status": "ok",
     "timestamp": 1659873996150,
     "user": {
      "displayName": "Simeon Hristov",
      "userId": "14036852932086046142"
     },
     "user_tz": -180
    },
    "id": "j8qaHvqVMsc6",
    "outputId": "e9337a6c-c0a3-4458-a002-adcf2e4978e7"
   },
   "outputs": [
    {
     "data": {
      "text/plain": [
       "True"
      ]
     },
     "execution_count": 212,
     "metadata": {},
     "output_type": "execute_result"
    }
   ],
   "source": [
    "# The \"=\" is overloaded to work with lists as well.\n",
    "a == b"
   ]
  },
  {
   "cell_type": "markdown",
   "metadata": {
    "id": "7arjipPurKqj"
   },
   "source": [
    "### Working with lists"
   ]
  },
  {
   "cell_type": "markdown",
   "metadata": {
    "id": "Cqm9Klsor-8a"
   },
   "source": [
    "Check out all of the functions [here](https://docs.python.org/3/tutorial/datastructures.html)."
   ]
  },
  {
   "cell_type": "code",
   "execution_count": null,
   "metadata": {
    "colab": {
     "base_uri": "https://localhost:8080/"
    },
    "executionInfo": {
     "elapsed": 71,
     "status": "ok",
     "timestamp": 1659873111284,
     "user": {
      "displayName": "Simeon Hristov",
      "userId": "14036852932086046142"
     },
     "user_tz": -180
    },
    "id": "eNCW4GXsrM-b",
    "outputId": "7ed34b6d-063c-4cea-ef55-4d96d2648e50"
   },
   "outputs": [
    {
     "data": {
      "text/plain": [
       "8"
      ]
     },
     "execution_count": 60,
     "metadata": {},
     "output_type": "execute_result"
    }
   ],
   "source": [
    "# How many planets are there?\n",
    "len(planets)"
   ]
  },
  {
   "cell_type": "code",
   "execution_count": null,
   "metadata": {
    "colab": {
     "base_uri": "https://localhost:8080/"
    },
    "executionInfo": {
     "elapsed": 62,
     "status": "ok",
     "timestamp": 1659873111284,
     "user": {
      "displayName": "Simeon Hristov",
      "userId": "14036852932086046142"
     },
     "user_tz": -180
    },
    "id": "FXl9bVPJrRDF",
    "outputId": "81222aef-13e1-4d9f-ddc3-9f1061b5e622"
   },
   "outputs": [
    {
     "data": {
      "text/plain": [
       "['Earth',\n",
       " 'Jupiter',\n",
       " 'Malacandra',\n",
       " 'Mercury',\n",
       " 'Neptune',\n",
       " 'Saturn',\n",
       " 'Uranus',\n",
       " 'Venus']"
      ]
     },
     "execution_count": 61,
     "metadata": {},
     "output_type": "execute_result"
    }
   ],
   "source": [
    "# The planets sorted in alphabetical order\n",
    "sorted(planets)\n",
    "\n",
    "# Note that because we get an output, that means\n",
    "# that a NEW list is returned."
   ]
  },
  {
   "cell_type": "code",
   "execution_count": null,
   "metadata": {
    "colab": {
     "base_uri": "https://localhost:8080/"
    },
    "executionInfo": {
     "elapsed": 54,
     "status": "ok",
     "timestamp": 1659873111285,
     "user": {
      "displayName": "Simeon Hristov",
      "userId": "14036852932086046142"
     },
     "user_tz": -180
    },
    "id": "r9T974XFt0hv",
    "outputId": "ec65845b-6e2e-49f8-9eb5-a5dcf39373bf"
   },
   "outputs": [
    {
     "data": {
      "text/plain": [
       "['Mercury',\n",
       " 'Venus',\n",
       " 'Earth',\n",
       " 'Malacandra',\n",
       " 'Jupiter',\n",
       " 'Saturn',\n",
       " 'Uranus',\n",
       " 'Neptune']"
      ]
     },
     "execution_count": 62,
     "metadata": {},
     "output_type": "execute_result"
    }
   ],
   "source": [
    "# The original list didn't change!\n",
    "planets"
   ]
  },
  {
   "cell_type": "code",
   "execution_count": null,
   "metadata": {
    "id": "9yEEUaMDKEC_"
   },
   "outputs": [],
   "source": [
    "planets.sort()"
   ]
  },
  {
   "cell_type": "code",
   "execution_count": null,
   "metadata": {
    "colab": {
     "base_uri": "https://localhost:8080/"
    },
    "executionInfo": {
     "elapsed": 45,
     "status": "ok",
     "timestamp": 1659873111287,
     "user": {
      "displayName": "Simeon Hristov",
      "userId": "14036852932086046142"
     },
     "user_tz": -180
    },
    "id": "GPolxo9gKGDv",
    "outputId": "d172259a-fccd-4d06-8e65-7100136fc99d"
   },
   "outputs": [
    {
     "data": {
      "text/plain": [
       "['Earth',\n",
       " 'Jupiter',\n",
       " 'Malacandra',\n",
       " 'Mercury',\n",
       " 'Neptune',\n",
       " 'Saturn',\n",
       " 'Uranus',\n",
       " 'Venus']"
      ]
     },
     "execution_count": 64,
     "metadata": {},
     "output_type": "execute_result"
    }
   ],
   "source": [
    "# Now, it did.\n",
    "planets"
   ]
  },
  {
   "cell_type": "code",
   "execution_count": null,
   "metadata": {
    "colab": {
     "base_uri": "https://localhost:8080/"
    },
    "executionInfo": {
     "elapsed": 38,
     "status": "ok",
     "timestamp": 1659873111288,
     "user": {
      "displayName": "Simeon Hristov",
      "userId": "14036852932086046142"
     },
     "user_tz": -180
    },
    "id": "UCrLbtE4rRgN",
    "outputId": "9ff78276-f38a-4d8e-c525-d5ab118614e9"
   },
   "outputs": [
    {
     "data": {
      "text/plain": [
       "17"
      ]
     },
     "execution_count": 65,
     "metadata": {},
     "output_type": "execute_result"
    }
   ],
   "source": [
    "primes = [2, 3, 5, 7]\n",
    "\n",
    "# Find the sum of the prime numbers\n",
    "sum(primes)"
   ]
  },
  {
   "cell_type": "code",
   "execution_count": null,
   "metadata": {
    "colab": {
     "base_uri": "https://localhost:8080/"
    },
    "executionInfo": {
     "elapsed": 29,
     "status": "ok",
     "timestamp": 1659873111289,
     "user": {
      "displayName": "Simeon Hristov",
      "userId": "14036852932086046142"
     },
     "user_tz": -180
    },
    "id": "8cY2hDMfrVWt",
    "outputId": "e6b15d6c-ed69-4005-94f0-fa29cb1fa8c5"
   },
   "outputs": [
    {
     "data": {
      "text/plain": [
       "7"
      ]
     },
     "execution_count": 66,
     "metadata": {},
     "output_type": "execute_result"
    }
   ],
   "source": [
    "# Find the largest number\n",
    "max(primes)"
   ]
  },
  {
   "cell_type": "code",
   "execution_count": null,
   "metadata": {
    "id": "NQTXZGX_rW6w"
   },
   "outputs": [],
   "source": [
    "# Add 'Pluto' to the list of planets.\n",
    "planets.append('Pluto')"
   ]
  },
  {
   "cell_type": "code",
   "execution_count": null,
   "metadata": {
    "colab": {
     "base_uri": "https://localhost:8080/"
    },
    "executionInfo": {
     "elapsed": 521,
     "status": "ok",
     "timestamp": 1659873111788,
     "user": {
      "displayName": "Simeon Hristov",
      "userId": "14036852932086046142"
     },
     "user_tz": -180
    },
    "id": "eySAtGhTKhuq",
    "outputId": "3acf1d7f-12f4-417a-80b8-ce948a8e1973"
   },
   "outputs": [
    {
     "data": {
      "text/plain": [
       "['Earth',\n",
       " 'Jupiter',\n",
       " 'Malacandra',\n",
       " 'Mercury',\n",
       " 'Neptune',\n",
       " 'Saturn',\n",
       " 'Uranus',\n",
       " 'Venus',\n",
       " 'Pluto']"
      ]
     },
     "execution_count": 68,
     "metadata": {},
     "output_type": "execute_result"
    }
   ],
   "source": [
    "planets"
   ]
  },
  {
   "cell_type": "code",
   "execution_count": null,
   "metadata": {
    "colab": {
     "base_uri": "https://localhost:8080/"
    },
    "executionInfo": {
     "elapsed": 216,
     "status": "ok",
     "timestamp": 1659873111790,
     "user": {
      "displayName": "Simeon Hristov",
      "userId": "14036852932086046142"
     },
     "user_tz": -180
    },
    "id": "e3oCA-6JKdPO",
    "outputId": "f0b77ff2-d546-4821-ba22-6a122412c573"
   },
   "outputs": [
    {
     "data": {
      "text/plain": [
       "[2, 3, 5, 7]"
      ]
     },
     "execution_count": 69,
     "metadata": {},
     "output_type": "execute_result"
    }
   ],
   "source": [
    "primes"
   ]
  },
  {
   "cell_type": "code",
   "execution_count": null,
   "metadata": {
    "colab": {
     "base_uri": "https://localhost:8080/"
    },
    "executionInfo": {
     "elapsed": 207,
     "status": "ok",
     "timestamp": 1659873111791,
     "user": {
      "displayName": "Simeon Hristov",
      "userId": "14036852932086046142"
     },
     "user_tz": -180
    },
    "id": "zA3eZ05gKo8N",
    "outputId": "cb4b5db1-f7ea-425d-80f3-bb545a86c231"
   },
   "outputs": [
    {
     "data": {
      "text/plain": [
       "[2, 3, 5, 7]"
      ]
     },
     "execution_count": 70,
     "metadata": {},
     "output_type": "execute_result"
    }
   ],
   "source": [
    "primes"
   ]
  },
  {
   "cell_type": "code",
   "execution_count": null,
   "metadata": {
    "colab": {
     "base_uri": "https://localhost:8080/"
    },
    "executionInfo": {
     "elapsed": 200,
     "status": "ok",
     "timestamp": 1659873111792,
     "user": {
      "displayName": "Simeon Hristov",
      "userId": "14036852932086046142"
     },
     "user_tz": -180
    },
    "id": "d0wxPkQrrt4B",
    "outputId": "cc5220ba-a184-4329-dcd6-d2c6a2cd574f"
   },
   "outputs": [
    {
     "data": {
      "text/plain": [
       "7"
      ]
     },
     "execution_count": 71,
     "metadata": {},
     "output_type": "execute_result"
    }
   ],
   "source": [
    "# Remove 'Pluto' from the list of planets.\n",
    "primes.pop()"
   ]
  },
  {
   "cell_type": "code",
   "execution_count": null,
   "metadata": {
    "colab": {
     "base_uri": "https://localhost:8080/"
    },
    "executionInfo": {
     "elapsed": 191,
     "status": "ok",
     "timestamp": 1659873111792,
     "user": {
      "displayName": "Simeon Hristov",
      "userId": "14036852932086046142"
     },
     "user_tz": -180
    },
    "id": "-RitsrMSrx_8",
    "outputId": "c7cb2869-1faf-4605-ec31-df8bb71a5519"
   },
   "outputs": [
    {
     "data": {
      "text/plain": [
       "0"
      ]
     },
     "execution_count": 72,
     "metadata": {},
     "output_type": "execute_result"
    }
   ],
   "source": [
    "# Get the index of `Earth`\n",
    "planets.index('Earth')"
   ]
  },
  {
   "cell_type": "code",
   "execution_count": null,
   "metadata": {
    "colab": {
     "base_uri": "https://localhost:8080/"
    },
    "executionInfo": {
     "elapsed": 185,
     "status": "ok",
     "timestamp": 1659873111794,
     "user": {
      "displayName": "Simeon Hristov",
      "userId": "14036852932086046142"
     },
     "user_tz": -180
    },
    "id": "W69KUOiJK1ih",
    "outputId": "55a624ba-b5c0-4e14-bafe-072d784f0bb0"
   },
   "outputs": [
    {
     "data": {
      "text/plain": [
       "0"
      ]
     },
     "execution_count": 73,
     "metadata": {},
     "output_type": "execute_result"
    }
   ],
   "source": [
    "planets.append('Earth')\n",
    "\n",
    "# Although there are now two 'Earths', only the index of the first is returned.\n",
    "planets.index('Earth')"
   ]
  },
  {
   "cell_type": "code",
   "execution_count": null,
   "metadata": {
    "colab": {
     "base_uri": "https://localhost:8080/"
    },
    "executionInfo": {
     "elapsed": 177,
     "status": "ok",
     "timestamp": 1659873111795,
     "user": {
      "displayName": "Simeon Hristov",
      "userId": "14036852932086046142"
     },
     "user_tz": -180
    },
    "id": "wi2Vhf6wuI8l",
    "outputId": "8ce8fd74-8a2a-43cd-9f39-03e67b5c91f0"
   },
   "outputs": [
    {
     "data": {
      "text/plain": [
       "['Earth',\n",
       " 'Jupiter',\n",
       " 'Malacandra',\n",
       " 'Mercury',\n",
       " 'Neptune',\n",
       " 'Saturn',\n",
       " 'Uranus',\n",
       " 'Venus',\n",
       " 'Pluto',\n",
       " 'Earth']"
      ]
     },
     "execution_count": 74,
     "metadata": {},
     "output_type": "execute_result"
    }
   ],
   "source": [
    "planets"
   ]
  },
  {
   "cell_type": "code",
   "execution_count": null,
   "metadata": {
    "id": "z6TRRPS5K7gW"
   },
   "outputs": [],
   "source": [
    "# The \"index\" method will crash\n",
    "# if the passed object is not in the list\n",
    "\n",
    "# Uncomment to see\n",
    "# planets.index(7)\n",
    "\n",
    "# Therefore it is not approprite to use it to check if a value is in a list.\n",
    "# For this purpose we've got the \"in\" keyword."
   ]
  },
  {
   "cell_type": "code",
   "execution_count": null,
   "metadata": {
    "colab": {
     "base_uri": "https://localhost:8080/"
    },
    "executionInfo": {
     "elapsed": 169,
     "status": "ok",
     "timestamp": 1659873111797,
     "user": {
      "displayName": "Simeon Hristov",
      "userId": "14036852932086046142"
     },
     "user_tz": -180
    },
    "id": "sZC1F13Zr3iu",
    "outputId": "66d3ef4d-6c2d-46ab-abaa-ac6f78233a6b"
   },
   "outputs": [
    {
     "data": {
      "text/plain": [
       "True"
      ]
     },
     "execution_count": 76,
     "metadata": {},
     "output_type": "execute_result"
    }
   ],
   "source": [
    "# Is `Earth` a planet?\n",
    "'Earth' in planets"
   ]
  },
  {
   "cell_type": "code",
   "execution_count": null,
   "metadata": {
    "colab": {
     "base_uri": "https://localhost:8080/"
    },
    "executionInfo": {
     "elapsed": 162,
     "status": "ok",
     "timestamp": 1659873111799,
     "user": {
      "displayName": "Simeon Hristov",
      "userId": "14036852932086046142"
     },
     "user_tz": -180
    },
    "id": "OtKKD9_hsO0N",
    "outputId": "f0ce82ae-4de0-405b-ac6e-d17f29f909b8"
   },
   "outputs": [
    {
     "data": {
      "text/plain": [
       "True"
      ]
     },
     "execution_count": 77,
     "metadata": {},
     "output_type": "execute_result"
    }
   ],
   "source": [
    "# Is `Pluto` a planet?\n",
    "'Pluto' in planets"
   ]
  },
  {
   "cell_type": "markdown",
   "metadata": {
    "id": "rzR5fdH7vg-Y"
   },
   "source": [
    "#### Task 6\n",
    "\n",
    "By using indexing, complete the following code, so as to get the expected results."
   ]
  },
  {
   "cell_type": "code",
   "execution_count": 9,
   "metadata": {
    "id": "Fl2lBxqnwBMg"
   },
   "outputs": [],
   "source": [
    "nest = [1,2,3,[4,5,['target']]]"
   ]
  },
  {
   "cell_type": "code",
   "execution_count": 11,
   "metadata": {
    "id": "EHjhKvlxvug6"
   },
   "outputs": [
    {
     "data": {
      "text/plain": [
       "[4, 5, ['target']]"
      ]
     },
     "execution_count": 11,
     "metadata": {},
     "output_type": "execute_result"
    }
   ],
   "source": [
    "# Your code here\n",
    "nest[3:][0]"
   ]
  },
  {
   "cell_type": "code",
   "execution_count": null,
   "metadata": {
    "colab": {
     "base_uri": "https://localhost:8080/"
    },
    "executionInfo": {
     "elapsed": 14,
     "status": "ok",
     "timestamp": 1659874041582,
     "user": {
      "displayName": "Simeon Hristov",
      "userId": "14036852932086046142"
     },
     "user_tz": -180
    },
    "id": "MB0tAErsvY2I",
    "outputId": "b711f692-5d91-4798-b76f-9474372824e3"
   },
   "outputs": [
    {
     "data": {
      "text/plain": [
       "[4, 5, ['target']]"
      ]
     },
     "execution_count": 214,
     "metadata": {},
     "output_type": "execute_result"
    }
   ],
   "source": [
    "# Expected output"
   ]
  },
  {
   "cell_type": "code",
   "execution_count": 12,
   "metadata": {
    "id": "1JHm9UhpvvGG"
   },
   "outputs": [
    {
     "data": {
      "text/plain": [
       "['target']"
      ]
     },
     "execution_count": 12,
     "metadata": {},
     "output_type": "execute_result"
    }
   ],
   "source": [
    "# Your code here\n",
    "nest[3:][0][2]"
   ]
  },
  {
   "cell_type": "code",
   "execution_count": null,
   "metadata": {
    "colab": {
     "base_uri": "https://localhost:8080/"
    },
    "executionInfo": {
     "elapsed": 8,
     "status": "ok",
     "timestamp": 1659874046350,
     "user": {
      "displayName": "Simeon Hristov",
      "userId": "14036852932086046142"
     },
     "user_tz": -180
    },
    "id": "7ZO9wUI9vbBP",
    "outputId": "4da81054-38e6-41ca-afc9-6ada58a38423"
   },
   "outputs": [
    {
     "data": {
      "text/plain": [
       "['target']"
      ]
     },
     "execution_count": 216,
     "metadata": {},
     "output_type": "execute_result"
    }
   ],
   "source": [
    "# Expected output"
   ]
  },
  {
   "cell_type": "code",
   "execution_count": 13,
   "metadata": {
    "id": "Rb9DSzC-vvmH"
   },
   "outputs": [
    {
     "data": {
      "text/plain": [
       "'target'"
      ]
     },
     "execution_count": 13,
     "metadata": {},
     "output_type": "execute_result"
    }
   ],
   "source": [
    "# Your code here\n",
    "nest[3:][0][2][0]"
   ]
  },
  {
   "cell_type": "code",
   "execution_count": null,
   "metadata": {
    "colab": {
     "base_uri": "https://localhost:8080/",
     "height": 35
    },
    "executionInfo": {
     "elapsed": 28,
     "status": "ok",
     "timestamp": 1659874051542,
     "user": {
      "displayName": "Simeon Hristov",
      "userId": "14036852932086046142"
     },
     "user_tz": -180
    },
    "id": "FrTTv9Amvb1i",
    "outputId": "37dc24a7-7a54-42d9-cd23-e77b247648f5"
   },
   "outputs": [
    {
     "data": {
      "application/vnd.google.colaboratory.intrinsic+json": {
       "type": "string"
      },
      "text/plain": [
       "'target'"
      ]
     },
     "execution_count": 218,
     "metadata": {},
     "output_type": "execute_result"
    }
   ],
   "source": [
    "# Expected output"
   ]
  },
  {
   "cell_type": "markdown",
   "metadata": {
    "id": "zCyQNgp-u-R_"
   },
   "source": [
    "### Lists are mutable"
   ]
  },
  {
   "cell_type": "code",
   "execution_count": null,
   "metadata": {
    "colab": {
     "base_uri": "https://localhost:8080/"
    },
    "executionInfo": {
     "elapsed": 133,
     "status": "ok",
     "timestamp": 1659873111804,
     "user": {
      "displayName": "Simeon Hristov",
      "userId": "14036852932086046142"
     },
     "user_tz": -180
    },
    "id": "BLcRm54Eu96_",
    "outputId": "b3dd4db8-2ee4-413f-9d0f-64d85f7d3e7d"
   },
   "outputs": [
    {
     "data": {
      "text/plain": [
       "['a', 'b', 'c']"
      ]
     },
     "execution_count": 85,
     "metadata": {},
     "output_type": "execute_result"
    }
   ],
   "source": [
    "# that means you can directly change the values they store\n",
    "my_list = ['a','b','c']\n",
    "my_list"
   ]
  },
  {
   "cell_type": "code",
   "execution_count": null,
   "metadata": {
    "colab": {
     "base_uri": "https://localhost:8080/"
    },
    "executionInfo": {
     "elapsed": 124,
     "status": "ok",
     "timestamp": 1659873111804,
     "user": {
      "displayName": "Simeon Hristov",
      "userId": "14036852932086046142"
     },
     "user_tz": -180
    },
    "id": "M08421G8vOmy",
    "outputId": "dedf63cc-02b1-409f-9ee9-a049075fc9a6"
   },
   "outputs": [
    {
     "data": {
      "text/plain": [
       "['NEW', 'b', 'c']"
      ]
     },
     "execution_count": 86,
     "metadata": {},
     "output_type": "execute_result"
    }
   ],
   "source": [
    "my_list[0] = 'NEW'\n",
    "my_list"
   ]
  },
  {
   "cell_type": "markdown",
   "metadata": {
    "id": "PnaPv1IOZZYk"
   },
   "source": [
    "## **Sets**\n",
    "\n",
    "- the usual `set` data structure\n",
    "- holds only unique elements"
   ]
  },
  {
   "cell_type": "code",
   "execution_count": null,
   "metadata": {
    "colab": {
     "base_uri": "https://localhost:8080/"
    },
    "executionInfo": {
     "elapsed": 116,
     "status": "ok",
     "timestamp": 1659873111805,
     "user": {
      "displayName": "Simeon Hristov",
      "userId": "14036852932086046142"
     },
     "user_tz": -180
    },
    "id": "MmLsS4l2ZZYm",
    "outputId": "9b094ff3-66a4-434d-b34d-4e1ceefba845"
   },
   "outputs": [
    {
     "data": {
      "text/plain": [
       "{1, 2, 3}"
      ]
     },
     "execution_count": 87,
     "metadata": {},
     "output_type": "execute_result"
    }
   ],
   "source": [
    "{1,2,3}"
   ]
  },
  {
   "cell_type": "code",
   "execution_count": null,
   "metadata": {
    "colab": {
     "base_uri": "https://localhost:8080/"
    },
    "executionInfo": {
     "elapsed": 109,
     "status": "ok",
     "timestamp": 1659873111806,
     "user": {
      "displayName": "Simeon Hristov",
      "userId": "14036852932086046142"
     },
     "user_tz": -180
    },
    "id": "rfhGZ7usZZYm",
    "outputId": "ff01c6dd-d6ef-48da-c31a-393d419744c5"
   },
   "outputs": [
    {
     "data": {
      "text/plain": [
       "{1, 2, 3}"
      ]
     },
     "execution_count": 88,
     "metadata": {},
     "output_type": "execute_result"
    }
   ],
   "source": [
    "{1,2,3,1,2,1,2,3,3,3,3,2,2,2,1,1,2}"
   ]
  },
  {
   "cell_type": "markdown",
   "metadata": {
    "id": "FppBVDm4sX8O"
   },
   "source": [
    "## **Tuples**\n",
    "\n",
    "- cannot add new elements"
   ]
  },
  {
   "cell_type": "code",
   "execution_count": null,
   "metadata": {
    "id": "SFJ5JkqxsZcx"
   },
   "outputs": [],
   "source": [
    "# Create a tuple from the numbers 1, 2 and 3\n",
    "t = (1, 2, 3)"
   ]
  },
  {
   "cell_type": "code",
   "execution_count": null,
   "metadata": {
    "colab": {
     "base_uri": "https://localhost:8080/"
    },
    "executionInfo": {
     "elapsed": 100,
     "status": "ok",
     "timestamp": 1659873111808,
     "user": {
      "displayName": "Simeon Hristov",
      "userId": "14036852932086046142"
     },
     "user_tz": -180
    },
    "id": "-ib3vAjuxYcb",
    "outputId": "167edcd4-c78f-4c15-a52e-aff2426f3548"
   },
   "outputs": [
    {
     "data": {
      "text/plain": [
       "1"
      ]
     },
     "execution_count": 90,
     "metadata": {},
     "output_type": "execute_result"
    }
   ],
   "source": [
    "# indexing works like with lists\n",
    "t[0]"
   ]
  },
  {
   "cell_type": "markdown",
   "metadata": {
    "id": "6wg9gM8XxCOy"
   },
   "source": [
    "### Tuples are immutable!\n",
    "\n",
    "We cannot change the elements it holds without creating a new tuple."
   ]
  },
  {
   "cell_type": "code",
   "execution_count": null,
   "metadata": {
    "id": "ZRmGMttDsiBz"
   },
   "outputs": [],
   "source": [
    "# t[0] = 100"
   ]
  },
  {
   "cell_type": "markdown",
   "metadata": {
    "id": "f14RQNxxuMfW"
   },
   "source": [
    "## **Loops**"
   ]
  },
  {
   "cell_type": "markdown",
   "metadata": {
    "id": "dUGxRf_K2XWn"
   },
   "source": [
    "### for Loops"
   ]
  },
  {
   "cell_type": "code",
   "execution_count": null,
   "metadata": {
    "id": "dHIt8OxP2S76"
   },
   "outputs": [],
   "source": [
    "seq = [1,2,3,4,5]"
   ]
  },
  {
   "cell_type": "code",
   "execution_count": null,
   "metadata": {
    "colab": {
     "base_uri": "https://localhost:8080/"
    },
    "executionInfo": {
     "elapsed": 91,
     "status": "ok",
     "timestamp": 1659873111812,
     "user": {
      "displayName": "Simeon Hristov",
      "userId": "14036852932086046142"
     },
     "user_tz": -180
    },
    "id": "7Gd7c7B02bCY",
    "outputId": "16f1d2cd-9af4-4f46-e7f4-e2a09a4859d0"
   },
   "outputs": [
    {
     "name": "stdout",
     "output_type": "stream",
     "text": [
      "1\n",
      "2\n",
      "3\n",
      "4\n",
      "5\n"
     ]
    }
   ],
   "source": [
    "# very intuitive and easy to understand\n",
    "for item in seq:\n",
    "    print(item)"
   ]
  },
  {
   "cell_type": "code",
   "execution_count": null,
   "metadata": {
    "colab": {
     "base_uri": "https://localhost:8080/"
    },
    "executionInfo": {
     "elapsed": 83,
     "status": "ok",
     "timestamp": 1659873111813,
     "user": {
      "displayName": "Simeon Hristov",
      "userId": "14036852932086046142"
     },
     "user_tz": -180
    },
    "id": "1BMeoKjV2cLP",
    "outputId": "31e6e994-4488-4dc5-c71b-5108e4a91457"
   },
   "outputs": [
    {
     "name": "stdout",
     "output_type": "stream",
     "text": [
      "Yep\n",
      "Yep\n",
      "Yep\n",
      "Yep\n",
      "Yep\n"
     ]
    }
   ],
   "source": [
    "for item in seq:\n",
    "    print('Yep')"
   ]
  },
  {
   "cell_type": "code",
   "execution_count": null,
   "metadata": {
    "colab": {
     "base_uri": "https://localhost:8080/"
    },
    "executionInfo": {
     "elapsed": 74,
     "status": "ok",
     "timestamp": 1659873111814,
     "user": {
      "displayName": "Simeon Hristov",
      "userId": "14036852932086046142"
     },
     "user_tz": -180
    },
    "id": "X1XBTaIF2d5O",
    "outputId": "d7c2e787-34e0-44c1-d52b-4d66417715d8"
   },
   "outputs": [
    {
     "name": "stdout",
     "output_type": "stream",
     "text": [
      "2\n",
      "4\n",
      "6\n",
      "8\n",
      "10\n"
     ]
    }
   ],
   "source": [
    "for jelly in seq:\n",
    "    print(jelly+jelly)"
   ]
  },
  {
   "cell_type": "code",
   "execution_count": null,
   "metadata": {
    "colab": {
     "base_uri": "https://localhost:8080/"
    },
    "executionInfo": {
     "elapsed": 65,
     "status": "ok",
     "timestamp": 1659873111815,
     "user": {
      "displayName": "Simeon Hristov",
      "userId": "14036852932086046142"
     },
     "user_tz": -180
    },
    "id": "52IEiMZguNt-",
    "outputId": "1b216c59-e66f-4b91-b8dc-f10740ac674d"
   },
   "outputs": [
    {
     "name": "stdout",
     "output_type": "stream",
     "text": [
      "Mercury Venus Earth Mars Jupiter Saturn Uranus Neptune "
     ]
    }
   ],
   "source": [
    "planets = ['Mercury', 'Venus', 'Earth', 'Mars', 'Jupiter', 'Saturn', 'Uranus', 'Neptune']\n",
    "# print all on 1 line\n",
    "for planet in planets:\n",
    "  print(planet, end=' ')"
   ]
  },
  {
   "cell_type": "code",
   "execution_count": null,
   "metadata": {
    "colab": {
     "base_uri": "https://localhost:8080/"
    },
    "executionInfo": {
     "elapsed": 521,
     "status": "ok",
     "timestamp": 1659873112279,
     "user": {
      "displayName": "Simeon Hristov",
      "userId": "14036852932086046142"
     },
     "user_tz": -180
    },
    "id": "cDIEhUfLuXxc",
    "outputId": "96e08230-2182-4b9d-b2a6-195faafd6a7b"
   },
   "outputs": [
    {
     "name": "stdout",
     "output_type": "stream",
     "text": [
      "HELLO"
     ]
    }
   ],
   "source": [
    "s = 'steganograpHy is the practicE of conceaLing a file, message, image, or video within another fiLe, message, image, Or video.'\n",
    "# print all the uppercase letters in s again on 1 line\n",
    "for char in s:\n",
    "  if char.isupper():\n",
    "    print(char, end='')"
   ]
  },
  {
   "cell_type": "markdown",
   "metadata": {
    "id": "1Vf6ZwyM2rrV"
   },
   "source": [
    "### while Loops"
   ]
  },
  {
   "cell_type": "code",
   "execution_count": null,
   "metadata": {
    "colab": {
     "base_uri": "https://localhost:8080/"
    },
    "executionInfo": {
     "elapsed": 191,
     "status": "ok",
     "timestamp": 1659873112281,
     "user": {
      "displayName": "Simeon Hristov",
      "userId": "14036852932086046142"
     },
     "user_tz": -180
    },
    "id": "xdPcZmcW2rA3",
    "outputId": "5be59bea-4663-45c0-d30d-1cfbef584167"
   },
   "outputs": [
    {
     "name": "stdout",
     "output_type": "stream",
     "text": [
      "i is: 1\n",
      "i is: 2\n",
      "i is: 3\n",
      "i is: 4\n"
     ]
    }
   ],
   "source": [
    "i = 1\n",
    "while i < 5:\n",
    "    print('i is: {}'.format(i))\n",
    "    i = i+1"
   ]
  },
  {
   "cell_type": "markdown",
   "metadata": {
    "id": "uJ7_pOUZumWu"
   },
   "source": [
    "### range()\n",
    "\n",
    "a generator that returns a sequence of numbers. It turns out to be very useful for writing loops"
   ]
  },
  {
   "cell_type": "code",
   "execution_count": null,
   "metadata": {
    "colab": {
     "base_uri": "https://localhost:8080/"
    },
    "executionInfo": {
     "elapsed": 179,
     "status": "ok",
     "timestamp": 1659873112281,
     "user": {
      "displayName": "Simeon Hristov",
      "userId": "14036852932086046142"
     },
     "user_tz": -180
    },
    "id": "o8i8u8nP2xTN",
    "outputId": "16801d29-f9a9-41f0-a337-56696d97fd6f"
   },
   "outputs": [
    {
     "data": {
      "text/plain": [
       "range(0, 5)"
      ]
     },
     "execution_count": 99,
     "metadata": {},
     "output_type": "execute_result"
    }
   ],
   "source": [
    "range(5)"
   ]
  },
  {
   "cell_type": "code",
   "execution_count": null,
   "metadata": {
    "colab": {
     "base_uri": "https://localhost:8080/"
    },
    "executionInfo": {
     "elapsed": 169,
     "status": "ok",
     "timestamp": 1659873112282,
     "user": {
      "displayName": "Simeon Hristov",
      "userId": "14036852932086046142"
     },
     "user_tz": -180
    },
    "id": "92jgcHJB25pC",
    "outputId": "0dc1bbe5-fed8-4e90-fa9e-c3698b54f3ca"
   },
   "outputs": [
    {
     "data": {
      "text/plain": [
       "[0, 1, 2, 3, 4]"
      ]
     },
     "execution_count": 100,
     "metadata": {},
     "output_type": "execute_result"
    }
   ],
   "source": [
    "# \"call\" the generator so as to get its values\n",
    "list(range(5))"
   ]
  },
  {
   "cell_type": "code",
   "execution_count": null,
   "metadata": {
    "colab": {
     "base_uri": "https://localhost:8080/"
    },
    "executionInfo": {
     "elapsed": 160,
     "status": "ok",
     "timestamp": 1659873112283,
     "user": {
      "displayName": "Simeon Hristov",
      "userId": "14036852932086046142"
     },
     "user_tz": -180
    },
    "id": "WF8KL5V4uh7K",
    "outputId": "a33a580d-c7f8-4d9f-bf76-cc05faa9edd8"
   },
   "outputs": [
    {
     "name": "stdout",
     "output_type": "stream",
     "text": [
      "Doing important work. i=0\n",
      "Doing important work. i=1\n",
      "Doing important work. i=2\n",
      "Doing important work. i=3\n",
      "Doing important work. i=4\n"
     ]
    }
   ],
   "source": [
    "# if we want to repeat some action 5 times.\n",
    "for i in range(5):\n",
    "  print(f'Doing important work. i={i}')"
   ]
  },
  {
   "cell_type": "code",
   "execution_count": 16,
   "metadata": {
    "colab": {
     "base_uri": "https://localhost:8080/"
    },
    "executionInfo": {
     "elapsed": 151,
     "status": "ok",
     "timestamp": 1659873112284,
     "user": {
      "displayName": "Simeon Hristov",
      "userId": "14036852932086046142"
     },
     "user_tz": -180
    },
    "id": "F0xajyY5McuY",
    "outputId": "688bac9b-2fef-4993-dc83-d07cddd4b957"
   },
   "outputs": [
    {
     "data": {
      "text/plain": [
       "['Mercury', 'Venus', 'Earth', 'Mars', 'Jupiter', 'Saturn', 'Uranus', 'Neptune']"
      ]
     },
     "execution_count": 16,
     "metadata": {},
     "output_type": "execute_result"
    }
   ],
   "source": [
    "planets"
   ]
  },
  {
   "cell_type": "code",
   "execution_count": null,
   "metadata": {
    "colab": {
     "base_uri": "https://localhost:8080/"
    },
    "executionInfo": {
     "elapsed": 141,
     "status": "ok",
     "timestamp": 1659873112285,
     "user": {
      "displayName": "Simeon Hristov",
      "userId": "14036852932086046142"
     },
     "user_tz": -180
    },
    "id": "l7EYrALgMjFd",
    "outputId": "6e75f4a9-a235-419b-9a29-b0d4598bda9d"
   },
   "outputs": [
    {
     "name": "stdout",
     "output_type": "stream",
     "text": [
      "The 0th planet is Mercury\n",
      "The 1th planet is Venus\n",
      "The 2th planet is Earth\n",
      "The 3th planet is Mars\n",
      "The 4th planet is Jupiter\n",
      "The 5th planet is Saturn\n",
      "The 6th planet is Uranus\n",
      "The 7th planet is Neptune\n"
     ]
    }
   ],
   "source": [
    "for i in range(8):\n",
    "  print(f'The {i}th planet is {planets[i]}')"
   ]
  },
  {
   "cell_type": "markdown",
   "metadata": {
    "id": "6QqYca-TyFUN"
   },
   "source": [
    "### Task 7"
   ]
  },
  {
   "cell_type": "code",
   "execution_count": 19,
   "metadata": {
    "id": "mR5xgG9vyKo2"
   },
   "outputs": [
    {
     "name": "stdout",
     "output_type": "stream",
     "text": [
      "The 0th planet is Mercury\n",
      "The 1th planet is Venus\n",
      "The 2th planet is Earth\n",
      "The 3th planet is Mars\n",
      "The 4th planet is Jupiter\n",
      "The 5th planet is Saturn\n",
      "The 6th planet is Uranus\n",
      "The 7th planet is Neptune\n"
     ]
    }
   ],
   "source": [
    "# Your code here\n",
    "for i in range(len(planets)):\n",
    "    print(f\"The {i}th planet is {planets[i]}\")"
   ]
  },
  {
   "cell_type": "code",
   "execution_count": null,
   "metadata": {
    "colab": {
     "base_uri": "https://localhost:8080/"
    },
    "executionInfo": {
     "elapsed": 134,
     "status": "ok",
     "timestamp": 1659873112287,
     "user": {
      "displayName": "Simeon Hristov",
      "userId": "14036852932086046142"
     },
     "user_tz": -180
    },
    "id": "WagER-OkvCKK",
    "outputId": "5823101c-2823-4f8a-9b48-2b440d026ffa"
   },
   "outputs": [
    {
     "name": "stdout",
     "output_type": "stream",
     "text": [
      "The 0th planet is Mercury\n",
      "The 1th planet is Venus\n",
      "The 2th planet is Earth\n",
      "The 3th planet is Mars\n",
      "The 4th planet is Jupiter\n",
      "The 5th planet is Saturn\n",
      "The 6th planet is Uranus\n",
      "The 7th planet is Neptune\n"
     ]
    }
   ],
   "source": [
    "# Expected output"
   ]
  },
  {
   "cell_type": "markdown",
   "metadata": {
    "id": "m9lmfgZUvmuY"
   },
   "source": [
    "### List comprehension"
   ]
  },
  {
   "cell_type": "code",
   "execution_count": null,
   "metadata": {
    "colab": {
     "base_uri": "https://localhost:8080/"
    },
    "executionInfo": {
     "elapsed": 125,
     "status": "ok",
     "timestamp": 1659873112288,
     "user": {
      "displayName": "Simeon Hristov",
      "userId": "14036852932086046142"
     },
     "user_tz": -180
    },
    "id": "CUajacQf3HYF",
    "outputId": "6cb5e4f3-73d2-48fc-f5b1-235a14679f27"
   },
   "outputs": [
    {
     "name": "stdout",
     "output_type": "stream",
     "text": [
      "[1, 4, 9, 16]\n"
     ]
    }
   ],
   "source": [
    "x = [1,2,3,4]\n",
    "\n",
    "out = []\n",
    "for item in x:\n",
    "    out.append(item**2)\n",
    "\n",
    "print(out)"
   ]
  },
  {
   "cell_type": "code",
   "execution_count": null,
   "metadata": {
    "colab": {
     "base_uri": "https://localhost:8080/"
    },
    "executionInfo": {
     "elapsed": 116,
     "status": "ok",
     "timestamp": 1659873112288,
     "user": {
      "displayName": "Simeon Hristov",
      "userId": "14036852932086046142"
     },
     "user_tz": -180
    },
    "id": "B4FHqxrT3LD8",
    "outputId": "d7e8cfdc-05d6-456e-bcbc-dc5e2ba9a194"
   },
   "outputs": [
    {
     "data": {
      "text/plain": [
       "[1, 4, 9, 16]"
      ]
     },
     "execution_count": 107,
     "metadata": {},
     "output_type": "execute_result"
    }
   ],
   "source": [
    "# by using LC we can write clearer and shorter code\n",
    "\n",
    "[item**2 for item in x]"
   ]
  },
  {
   "cell_type": "code",
   "execution_count": null,
   "metadata": {
    "id": "I2PoDH6svnd9"
   },
   "outputs": [],
   "source": [
    "s = 'steganograpHy is the practicE of conceaLing a file, message, image, or video within another fiLe, message, image, Or video.'"
   ]
  },
  {
   "cell_type": "code",
   "execution_count": null,
   "metadata": {
    "colab": {
     "base_uri": "https://localhost:8080/"
    },
    "executionInfo": {
     "elapsed": 108,
     "status": "ok",
     "timestamp": 1659873112291,
     "user": {
      "displayName": "Simeon Hristov",
      "userId": "14036852932086046142"
     },
     "user_tz": -180
    },
    "id": "a3l6Q7YPv8IK",
    "outputId": "6a0c0860-1b62-483e-bbab-377b7f7093c0"
   },
   "outputs": [
    {
     "data": {
      "text/plain": [
       "['H', 'E', 'L', 'L', 'O']"
      ]
     },
     "execution_count": 109,
     "metadata": {},
     "output_type": "execute_result"
    }
   ],
   "source": [
    "# Get a list of only the uppercase characters\n",
    "[ char for char in s if char.isupper() ]"
   ]
  },
  {
   "cell_type": "code",
   "execution_count": null,
   "metadata": {
    "colab": {
     "base_uri": "https://localhost:8080/"
    },
    "executionInfo": {
     "elapsed": 99,
     "status": "ok",
     "timestamp": 1659873112292,
     "user": {
      "displayName": "Simeon Hristov",
      "userId": "14036852932086046142"
     },
     "user_tz": -180
    },
    "id": "kiJpvxc7xJ87",
    "outputId": "a0d8b718-7a4b-40b7-ddb4-bb8c09e8dffc"
   },
   "outputs": [
    {
     "data": {
      "text/plain": [
       "['H', 'E', 'L', 'L', 'O']"
      ]
     },
     "execution_count": 110,
     "metadata": {},
     "output_type": "execute_result"
    }
   ],
   "source": [
    "# The SQL analogy\n",
    "[\n",
    "  char\n",
    "  for char in s\n",
    "  if char.isupper()\n",
    "]\n",
    "\n",
    "# It closely resembles how you would write a SQL query.\n",
    "# You could think of it like this:\n",
    "# SELECT char\n",
    "# FROM s\n",
    "# WHERE char.isupper()"
   ]
  },
  {
   "cell_type": "code",
   "execution_count": null,
   "metadata": {
    "colab": {
     "base_uri": "https://localhost:8080/",
     "height": 35
    },
    "executionInfo": {
     "elapsed": 91,
     "status": "ok",
     "timestamp": 1659873112293,
     "user": {
      "displayName": "Simeon Hristov",
      "userId": "14036852932086046142"
     },
     "user_tz": -180
    },
    "id": "sZOeVraPypzL",
    "outputId": "1b438368-4436-40e5-c86b-9650fff19d60"
   },
   "outputs": [
    {
     "data": {
      "application/vnd.google.colaboratory.intrinsic+json": {
       "type": "string"
      },
      "text/plain": [
       "'HELLO'"
      ]
     },
     "execution_count": 111,
     "metadata": {},
     "output_type": "execute_result"
    }
   ],
   "source": [
    "# Combine each element in that list into a string\n",
    "''.join([ char for char in s if char.isupper() ])"
   ]
  },
  {
   "cell_type": "code",
   "execution_count": null,
   "metadata": {
    "colab": {
     "base_uri": "https://localhost:8080/",
     "height": 35
    },
    "executionInfo": {
     "elapsed": 89,
     "status": "ok",
     "timestamp": 1659873112294,
     "user": {
      "displayName": "Simeon Hristov",
      "userId": "14036852932086046142"
     },
     "user_tz": -180
    },
    "id": "ji8I7U-9vtQJ",
    "outputId": "e54c3f04-6f68-49d9-b013-e97242e6905d"
   },
   "outputs": [
    {
     "data": {
      "application/vnd.google.colaboratory.intrinsic+json": {
       "type": "string"
      },
      "text/plain": [
       "'HELLO'"
      ]
     },
     "execution_count": 112,
     "metadata": {},
     "output_type": "execute_result"
    }
   ],
   "source": [
    "# The same can be done by using generators. A generator is a function\n",
    "# that performs lazy evaluation. Examples include `filter` and `map`\n",
    "# which do not execute until the results are needed\n",
    "''.join(list(filter(lambda x: x.isupper(), s)))"
   ]
  },
  {
   "cell_type": "code",
   "execution_count": null,
   "metadata": {
    "colab": {
     "base_uri": "https://localhost:8080/",
     "height": 35
    },
    "executionInfo": {
     "elapsed": 86,
     "status": "ok",
     "timestamp": 1659873112295,
     "user": {
      "displayName": "Simeon Hristov",
      "userId": "14036852932086046142"
     },
     "user_tz": -180
    },
    "id": "2RisJ83yv_ZL",
    "outputId": "f166b113-cc56-49f0-c38f-a8be74ae951c"
   },
   "outputs": [
    {
     "data": {
      "application/vnd.google.colaboratory.intrinsic+json": {
       "type": "string"
      },
      "text/plain": [
       "'HELLO'"
      ]
     },
     "execution_count": 113,
     "metadata": {},
     "output_type": "execute_result"
    }
   ],
   "source": [
    "# The same can be done by\n",
    "# using higher order functions and partial function application\n",
    "\n",
    "''.join(list(filter(str.isupper, s)))"
   ]
  },
  {
   "cell_type": "markdown",
   "metadata": {
    "id": "ssvu6Cl230SH"
   },
   "source": [
    "#### A bit more on `map` and `filter`\n",
    "\n",
    "If you don't understand the following examples, please reach out to me and I'll be happy to help!"
   ]
  },
  {
   "cell_type": "code",
   "execution_count": null,
   "metadata": {
    "id": "9G2kPKAd34dn"
   },
   "outputs": [],
   "source": [
    "def times2(var):\n",
    "    return var*2\n",
    "\n",
    "seq = [1,2,3,4,5]"
   ]
  },
  {
   "cell_type": "code",
   "execution_count": null,
   "metadata": {
    "colab": {
     "base_uri": "https://localhost:8080/"
    },
    "executionInfo": {
     "elapsed": 83,
     "status": "ok",
     "timestamp": 1659873112296,
     "user": {
      "displayName": "Simeon Hristov",
      "userId": "14036852932086046142"
     },
     "user_tz": -180
    },
    "id": "rFCKllyMZZZN",
    "outputId": "1b3a3fa5-71cf-47fa-d4ab-2a4363ee3950"
   },
   "outputs": [
    {
     "data": {
      "text/plain": [
       "<map at 0x7f434c28f4d0>"
      ]
     },
     "execution_count": 115,
     "metadata": {},
     "output_type": "execute_result"
    }
   ],
   "source": [
    "map(times2,seq)\n",
    "\n",
    "# Note: The result is a generator object"
   ]
  },
  {
   "cell_type": "code",
   "execution_count": null,
   "metadata": {
    "colab": {
     "base_uri": "https://localhost:8080/"
    },
    "executionInfo": {
     "elapsed": 74,
     "status": "ok",
     "timestamp": 1659873112297,
     "user": {
      "displayName": "Simeon Hristov",
      "userId": "14036852932086046142"
     },
     "user_tz": -180
    },
    "id": "PtSR7d3OZZZO",
    "outputId": "08ae97ad-3876-46ff-b5f9-d99465f8091c"
   },
   "outputs": [
    {
     "data": {
      "text/plain": [
       "[2, 4, 6, 8, 10]"
      ]
     },
     "execution_count": 116,
     "metadata": {},
     "output_type": "execute_result"
    }
   ],
   "source": [
    "list(map(times2,seq))"
   ]
  },
  {
   "cell_type": "code",
   "execution_count": null,
   "metadata": {
    "colab": {
     "base_uri": "https://localhost:8080/"
    },
    "executionInfo": {
     "elapsed": 65,
     "status": "ok",
     "timestamp": 1659873112297,
     "user": {
      "displayName": "Simeon Hristov",
      "userId": "14036852932086046142"
     },
     "user_tz": -180
    },
    "id": "poOiNZiyZZZO",
    "outputId": "6629c557-d61d-460e-abf8-18c21d2a8a17"
   },
   "outputs": [
    {
     "data": {
      "text/plain": [
       "[2, 4, 6, 8, 10]"
      ]
     },
     "execution_count": 117,
     "metadata": {},
     "output_type": "execute_result"
    }
   ],
   "source": [
    "list(map(lambda var: var*2,seq))"
   ]
  },
  {
   "cell_type": "code",
   "execution_count": null,
   "metadata": {
    "colab": {
     "base_uri": "https://localhost:8080/"
    },
    "executionInfo": {
     "elapsed": 57,
     "status": "ok",
     "timestamp": 1659873112298,
     "user": {
      "displayName": "Simeon Hristov",
      "userId": "14036852932086046142"
     },
     "user_tz": -180
    },
    "id": "giYttWrMZZZP",
    "outputId": "8bbf3328-18f1-4668-a350-f6c343e2ca9f"
   },
   "outputs": [
    {
     "data": {
      "text/plain": [
       "<filter at 0x7f434c2b0650>"
      ]
     },
     "execution_count": 118,
     "metadata": {},
     "output_type": "execute_result"
    }
   ],
   "source": [
    "filter(lambda item: item%2 == 0,seq)"
   ]
  },
  {
   "cell_type": "code",
   "execution_count": null,
   "metadata": {
    "colab": {
     "base_uri": "https://localhost:8080/"
    },
    "executionInfo": {
     "elapsed": 50,
     "status": "ok",
     "timestamp": 1659873112299,
     "user": {
      "displayName": "Simeon Hristov",
      "userId": "14036852932086046142"
     },
     "user_tz": -180
    },
    "id": "lPbldK5VZZZP",
    "outputId": "afec4a2c-0def-4bfb-eaa6-c1f401dabeb0"
   },
   "outputs": [
    {
     "data": {
      "text/plain": [
       "[2, 4]"
      ]
     },
     "execution_count": 119,
     "metadata": {},
     "output_type": "execute_result"
    }
   ],
   "source": [
    "list(filter(lambda item: item%2 == 0,seq))"
   ]
  },
  {
   "cell_type": "markdown",
   "metadata": {
    "id": "VR2bSS94zOnQ"
   },
   "source": [
    "### Task 8\n",
    "\n",
    "Complete the code so as to get the expected output in following subtasks."
   ]
  },
  {
   "cell_type": "markdown",
   "metadata": {
    "id": "5M1TXZwD0UUj"
   },
   "source": [
    "#### Subtask 1\n",
    "\n",
    "Get the squares of the numbers [0 .. 9] using a for-loop."
   ]
  },
  {
   "cell_type": "code",
   "execution_count": 21,
   "metadata": {
    "id": "gxO8oZRX0J7q"
   },
   "outputs": [
    {
     "name": "stdout",
     "output_type": "stream",
     "text": [
      "[0, 1, 4, 9, 16, 25, 36, 49, 64, 81]\n"
     ]
    }
   ],
   "source": [
    "# Your code here\n",
    "result = []\n",
    "for i in range(10):\n",
    "    result.append(i * i)\n",
    "\n",
    "print(result)"
   ]
  },
  {
   "cell_type": "code",
   "execution_count": null,
   "metadata": {
    "colab": {
     "base_uri": "https://localhost:8080/"
    },
    "executionInfo": {
     "elapsed": 105,
     "status": "ok",
     "timestamp": 1659873112677,
     "user": {
      "displayName": "Simeon Hristov",
      "userId": "14036852932086046142"
     },
     "user_tz": -180
    },
    "id": "tJdh7odrwsAA",
    "outputId": "a3339745-4627-4010-fb29-8634ac36ff62"
   },
   "outputs": [
    {
     "data": {
      "text/plain": [
       "[0, 1, 4, 9, 16, 25, 36, 49, 64, 81]"
      ]
     },
     "execution_count": 121,
     "metadata": {},
     "output_type": "execute_result"
    }
   ],
   "source": [
    "# Expected output"
   ]
  },
  {
   "cell_type": "markdown",
   "metadata": {
    "id": "EqWYzKCI0W3U"
   },
   "source": [
    "#### Subtask 2\n",
    "\n",
    "Get the squares of the numbers [0 .. 9] using LC (short for list comprehension)."
   ]
  },
  {
   "cell_type": "code",
   "execution_count": null,
   "metadata": {
    "id": "XlO58ifF0NAa"
   },
   "outputs": [
    {
     "data": {
      "text/plain": [
       "[0, 1, 4, 9, 16, 25, 36, 49, 64, 81]"
      ]
     },
     "execution_count": 22,
     "metadata": {},
     "output_type": "execute_result"
    }
   ],
   "source": [
    "# Your code here\n",
    "[i * i for i in range(10)]"
   ]
  },
  {
   "cell_type": "code",
   "execution_count": null,
   "metadata": {
    "colab": {
     "base_uri": "https://localhost:8080/"
    },
    "executionInfo": {
     "elapsed": 103,
     "status": "ok",
     "timestamp": 1659873112679,
     "user": {
      "displayName": "Simeon Hristov",
      "userId": "14036852932086046142"
     },
     "user_tz": -180
    },
    "id": "FAoDwLwkwZ0t",
    "outputId": "7457d4c3-84b4-458a-eb33-ebdf05deaee1"
   },
   "outputs": [
    {
     "data": {
      "text/plain": [
       "[0, 1, 4, 9, 16, 25, 36, 49, 64, 81]"
      ]
     },
     "execution_count": 123,
     "metadata": {},
     "output_type": "execute_result"
    }
   ],
   "source": [
    "# Expected output"
   ]
  },
  {
   "cell_type": "markdown",
   "metadata": {
    "id": "SrS-FaGM0Yet"
   },
   "source": [
    "#### Subtask 3\n",
    "\n",
    "Get the names of all planets with less than 6 characters using LC."
   ]
  },
  {
   "cell_type": "code",
   "execution_count": 25,
   "metadata": {
    "id": "5uSuxU8F0Nxh"
   },
   "outputs": [
    {
     "name": "stdout",
     "output_type": "stream",
     "text": [
      "['Venus', 'Earth', 'Mars']\n"
     ]
    }
   ],
   "source": [
    "# Your code here\n",
    "planetsWithLessThanSixLetters = [planet for planet in planets if len(planet) < 6]\n",
    "\n",
    "print(planetsWithLessThanSixLetters)"
   ]
  },
  {
   "cell_type": "code",
   "execution_count": null,
   "metadata": {
    "colab": {
     "base_uri": "https://localhost:8080/"
    },
    "executionInfo": {
     "elapsed": 92,
     "status": "ok",
     "timestamp": 1659873112680,
     "user": {
      "displayName": "Simeon Hristov",
      "userId": "14036852932086046142"
     },
     "user_tz": -180
    },
    "id": "dLLOcFpLw3hr",
    "outputId": "087edb85-c837-4001-fccd-10f7c47cf6d4"
   },
   "outputs": [
    {
     "data": {
      "text/plain": [
       "['Venus', 'Earth', 'Mars']"
      ]
     },
     "execution_count": 125,
     "metadata": {},
     "output_type": "execute_result"
    }
   ],
   "source": [
    "# Expected output"
   ]
  },
  {
   "cell_type": "markdown",
   "metadata": {
    "id": "p0mBWn5v0Zgz"
   },
   "source": [
    "#### Subtask 4\n",
    "\n",
    "By using the result from `Subtask 3`, complete this task."
   ]
  },
  {
   "cell_type": "code",
   "execution_count": 27,
   "metadata": {
    "id": "98bQroLd0Pfb"
   },
   "outputs": [
    {
     "data": {
      "text/plain": [
       "['VENUS!', 'EARTH!', 'MARS!']"
      ]
     },
     "execution_count": 27,
     "metadata": {},
     "output_type": "execute_result"
    }
   ],
   "source": [
    "# Your code here\n",
    "list(map(lambda planet: planet.upper() + \"!\", planetsWithLessThanSixLetters))"
   ]
  },
  {
   "cell_type": "code",
   "execution_count": null,
   "metadata": {
    "colab": {
     "base_uri": "https://localhost:8080/"
    },
    "executionInfo": {
     "elapsed": 84,
     "status": "ok",
     "timestamp": 1659873112682,
     "user": {
      "displayName": "Simeon Hristov",
      "userId": "14036852932086046142"
     },
     "user_tz": -180
    },
    "id": "4g7FT7e5w_zJ",
    "outputId": "66bebddf-8773-4eb5-df8a-c877b9268789"
   },
   "outputs": [
    {
     "data": {
      "text/plain": [
       "['VENUS!', 'EARTH!', 'MARS!']"
      ]
     },
     "execution_count": 127,
     "metadata": {},
     "output_type": "execute_result"
    }
   ],
   "source": [
    "# Expected output"
   ]
  },
  {
   "cell_type": "markdown",
   "metadata": {
    "id": "hyQP0EWG0axI"
   },
   "source": [
    "#### Subtask 5\n",
    "\n",
    "Solve the following task by using a for-loop"
   ]
  },
  {
   "cell_type": "code",
   "execution_count": 30,
   "metadata": {
    "id": "cst0H-t41Bzr"
   },
   "outputs": [
    {
     "name": "stdout",
     "output_type": "stream",
     "text": [
      "2\n"
     ]
    }
   ],
   "source": [
    "# Your code here\n",
    "def count_negatives(nums):\n",
    "  \"\"\"Return the number of negative numbers in the given list.\n",
    "  \n",
    "  >>> count_negatives([5, -1, -2, 0, 3])\n",
    "  2\n",
    "  \"\"\"\n",
    "  result = 0\n",
    "  for num in nums:\n",
    "    if num < 0:\n",
    "      result += 1\n",
    "\n",
    "  return result\n",
    "\n",
    "print(count_negatives([5, -1, -2, 0, 3]))"
   ]
  },
  {
   "cell_type": "code",
   "execution_count": null,
   "metadata": {
    "colab": {
     "base_uri": "https://localhost:8080/"
    },
    "executionInfo": {
     "elapsed": 74,
     "status": "ok",
     "timestamp": 1659873112683,
     "user": {
      "displayName": "Simeon Hristov",
      "userId": "14036852932086046142"
     },
     "user_tz": -180
    },
    "id": "myQkabHSxY_S",
    "outputId": "313ad165-fcbd-4600-de2e-bf6703c525a9"
   },
   "outputs": [
    {
     "data": {
      "text/plain": [
       "2"
      ]
     },
     "execution_count": 129,
     "metadata": {},
     "output_type": "execute_result"
    }
   ],
   "source": [
    "# Expected output"
   ]
  },
  {
   "cell_type": "markdown",
   "metadata": {
    "id": "9Rt8f_Lo0cCZ"
   },
   "source": [
    "#### Subtask 6\n",
    "\n",
    "Do the same, but use LC."
   ]
  },
  {
   "cell_type": "code",
   "execution_count": 33,
   "metadata": {
    "id": "R5RZJfXn1GF-"
   },
   "outputs": [
    {
     "name": "stdout",
     "output_type": "stream",
     "text": [
      "2\n"
     ]
    }
   ],
   "source": [
    "# Your code here\n",
    "def count_negatives(nums):\n",
    "    return len([num for num in nums if num < 0])\n",
    "\n",
    "print(count_negatives([5, -1, -2, 0, 3]))"
   ]
  },
  {
   "cell_type": "code",
   "execution_count": null,
   "metadata": {
    "colab": {
     "base_uri": "https://localhost:8080/"
    },
    "executionInfo": {
     "elapsed": 64,
     "status": "ok",
     "timestamp": 1659873112684,
     "user": {
      "displayName": "Simeon Hristov",
      "userId": "14036852932086046142"
     },
     "user_tz": -180
    },
    "id": "FREdqFX2xdLO",
    "outputId": "f787523a-6684-44bc-964b-c0e0ed3100d1"
   },
   "outputs": [
    {
     "data": {
      "text/plain": [
       "2"
      ]
     },
     "execution_count": 131,
     "metadata": {},
     "output_type": "execute_result"
    }
   ],
   "source": [
    "# Expected output"
   ]
  },
  {
   "cell_type": "markdown",
   "metadata": {
    "id": "3bnrRifI0dOM"
   },
   "source": [
    "#### Subtask 7\n",
    "\n",
    "Do the same, but use higher order functions."
   ]
  },
  {
   "cell_type": "code",
   "execution_count": 34,
   "metadata": {
    "id": "ZpLvBZdk1SCe"
   },
   "outputs": [
    {
     "name": "stdout",
     "output_type": "stream",
     "text": [
      "2\n"
     ]
    }
   ],
   "source": [
    "# Your code here\n",
    "def count_negatives(nums):\n",
    "    return len(list(filter(lambda num: num < 0, [5, -1, -2, 0, 3])))\n",
    "\n",
    "print(count_negatives([5, -1, -2, 0, 3]))"
   ]
  },
  {
   "cell_type": "code",
   "execution_count": null,
   "metadata": {
    "colab": {
     "base_uri": "https://localhost:8080/"
    },
    "executionInfo": {
     "elapsed": 57,
     "status": "ok",
     "timestamp": 1659873112686,
     "user": {
      "displayName": "Simeon Hristov",
      "userId": "14036852932086046142"
     },
     "user_tz": -180
    },
    "id": "X1u_lTS1xbQs",
    "outputId": "73638803-cc87-4c7b-8ec0-449229d89c75"
   },
   "outputs": [
    {
     "data": {
      "text/plain": [
       "2"
      ]
     },
     "execution_count": 133,
     "metadata": {},
     "output_type": "execute_result"
    }
   ],
   "source": [
    "# Expected output"
   ]
  },
  {
   "cell_type": "markdown",
   "metadata": {
    "id": "5hKK0NdC0eMI"
   },
   "source": [
    "#### Subtask 8\n",
    "\n",
    "Do the same, but use Use boolean implicit casting."
   ]
  },
  {
   "cell_type": "code",
   "execution_count": 36,
   "metadata": {
    "id": "bSU6s76H1SYo"
   },
   "outputs": [
    {
     "name": "stdout",
     "output_type": "stream",
     "text": [
      "2\n"
     ]
    }
   ],
   "source": [
    "# Your code here\n",
    "\n",
    "def count_negatives(nums):\n",
    "  return sum([ n < 0 for n in nums ] )\n",
    "\n",
    "print(count_negatives([5, -1, -2, 0, 3]))"
   ]
  },
  {
   "cell_type": "code",
   "execution_count": null,
   "metadata": {
    "colab": {
     "base_uri": "https://localhost:8080/"
    },
    "executionInfo": {
     "elapsed": 47,
     "status": "ok",
     "timestamp": 1659873112687,
     "user": {
      "displayName": "Simeon Hristov",
      "userId": "14036852932086046142"
     },
     "user_tz": -180
    },
    "id": "SfbgD9kkP_ZI",
    "outputId": "b629ccd6-8c05-4745-f8c2-11139037d698"
   },
   "outputs": [
    {
     "data": {
      "text/plain": [
       "2"
      ]
     },
     "execution_count": 135,
     "metadata": {},
     "output_type": "execute_result"
    }
   ],
   "source": [
    "# Expected output"
   ]
  },
  {
   "cell_type": "markdown",
   "metadata": {
    "id": "7dxIxDfCzIsA"
   },
   "source": [
    "## **Strings**"
   ]
  },
  {
   "cell_type": "code",
   "execution_count": null,
   "metadata": {
    "colab": {
     "base_uri": "https://localhost:8080/"
    },
    "executionInfo": {
     "elapsed": 38,
     "status": "ok",
     "timestamp": 1659873112688,
     "user": {
      "displayName": "Simeon Hristov",
      "userId": "14036852932086046142"
     },
     "user_tz": -180
    },
    "id": "QHmqaM0SzJdW",
    "outputId": "74f1e314-1289-4dfb-8377-3ae41987f158"
   },
   "outputs": [
    {
     "data": {
      "text/plain": [
       "True"
      ]
     },
     "execution_count": 136,
     "metadata": {},
     "output_type": "execute_result"
    }
   ],
   "source": [
    "# can be defined using either single, double triple quotation\n",
    "x = 'Pluto is a planet'\n",
    "y = \"Pluto is a planet\"\n",
    "z = \"\"\"Pluto is a planet\"\"\"\n",
    "x == y == z"
   ]
  },
  {
   "cell_type": "markdown",
   "metadata": {
    "id": "7pyLT7bU92L6"
   },
   "source": [
    "> **Note 1**: **Triple quotes** are usually used **only when writing docstrings**. Their main advantage over single and double quotes is the ability to write multiline text. More on that in a bit.\n",
    "\n",
    "> **Note 2**: In Python we can have x == y == z or x < y < z and any such combination of comparison operators. Definitely a nice feature to keep in mind."
   ]
  },
  {
   "cell_type": "code",
   "execution_count": null,
   "metadata": {
    "colab": {
     "base_uri": "https://localhost:8080/"
    },
    "executionInfo": {
     "elapsed": 29,
     "status": "ok",
     "timestamp": 1659873112688,
     "user": {
      "displayName": "Simeon Hristov",
      "userId": "14036852932086046142"
     },
     "user_tz": -180
    },
    "id": "9uBVZaAqzKeK",
    "outputId": "9d0c1104-f506-44af-b397-0183554fb7c9"
   },
   "outputs": [
    {
     "name": "stdout",
     "output_type": "stream",
     "text": [
      "Pluto's a planet!\n",
      "My dog is named \"Pluto\"\n"
     ]
    }
   ],
   "source": [
    "# Double quotes are convenient if your string contains a single quote character (e.g. representing an apostrophe).\n",
    "# Similarly, it's easy to create a string that contains double-quotes if you wrap it in single quotes\n",
    "\n",
    "print(\"Pluto's a planet!\")\n",
    "print('My dog is named \"Pluto\"')"
   ]
  },
  {
   "cell_type": "code",
   "execution_count": null,
   "metadata": {
    "id": "arQkRsHDzRQd"
   },
   "outputs": [],
   "source": [
    "# If we try to put a single quote character inside a single-quoted string, Python gets confused.\n",
    "# Uncomment to see.\n",
    "# 'Pluto's a planet!'"
   ]
  },
  {
   "cell_type": "markdown",
   "metadata": {
    "id": "SVdTHV1wzYaz"
   },
   "source": [
    "Python's triple quote syntax for strings lets us include newlines\n",
    "literally (i.e. by just hitting `Enter` on our keyboard, rather than using\n",
    "the special `\\n` sequence)."
   ]
  },
  {
   "cell_type": "code",
   "execution_count": null,
   "metadata": {
    "colab": {
     "base_uri": "https://localhost:8080/"
    },
    "executionInfo": {
     "elapsed": 144,
     "status": "ok",
     "timestamp": 1659873113172,
     "user": {
      "displayName": "Simeon Hristov",
      "userId": "14036852932086046142"
     },
     "user_tz": -180
    },
    "id": "rPMfMPOZzdXt",
    "outputId": "acd6a208-e5ba-41ca-c3a8-7476a5d86b93"
   },
   "outputs": [
    {
     "name": "stdout",
     "output_type": "stream",
     "text": [
      "hello\n",
      "world\n",
      "hello\n",
      "world\n"
     ]
    },
    {
     "data": {
      "text/plain": [
       "True"
      ]
     },
     "execution_count": 139,
     "metadata": {},
     "output_type": "execute_result"
    }
   ],
   "source": [
    "hello = \"hello\\nworld\"\n",
    "print(hello)\n",
    "\n",
    "triplequoted_hello = \"\"\"hello\n",
    "world\"\"\"\n",
    "print(triplequoted_hello)\n",
    "\n",
    "triplequoted_hello == hello"
   ]
  },
  {
   "cell_type": "code",
   "execution_count": null,
   "metadata": {
    "colab": {
     "base_uri": "https://localhost:8080/",
     "height": 35
    },
    "executionInfo": {
     "elapsed": 140,
     "status": "ok",
     "timestamp": 1659873113173,
     "user": {
      "displayName": "Simeon Hristov",
      "userId": "14036852932086046142"
     },
     "user_tz": -180
    },
    "id": "G_vvZvC8zl53",
    "outputId": "8addd72f-043e-4499-e338-3b738886c4bd"
   },
   "outputs": [
    {
     "data": {
      "application/vnd.google.colaboratory.intrinsic+json": {
       "type": "string"
      },
      "text/plain": [
       "'P'"
      ]
     },
     "execution_count": 140,
     "metadata": {},
     "output_type": "execute_result"
    }
   ],
   "source": [
    "# Indexing\n",
    "planet = 'Pluto'\n",
    "planet[0]"
   ]
  },
  {
   "cell_type": "code",
   "execution_count": null,
   "metadata": {
    "colab": {
     "base_uri": "https://localhost:8080/",
     "height": 35
    },
    "executionInfo": {
     "elapsed": 138,
     "status": "ok",
     "timestamp": 1659873113175,
     "user": {
      "displayName": "Simeon Hristov",
      "userId": "14036852932086046142"
     },
     "user_tz": -180
    },
    "id": "r-gh0KnfzoDX",
    "outputId": "c48b91f8-2bd8-4a67-b5e9-ee0c3de0bc93"
   },
   "outputs": [
    {
     "data": {
      "application/vnd.google.colaboratory.intrinsic+json": {
       "type": "string"
      },
      "text/plain": [
       "'uto'"
      ]
     },
     "execution_count": 141,
     "metadata": {},
     "output_type": "execute_result"
    }
   ],
   "source": [
    "# Slicing\n",
    "planet[-3:]"
   ]
  },
  {
   "cell_type": "markdown",
   "metadata": {
    "id": "ZT1SHfuJz9CI"
   },
   "source": [
    "### **Common pitfall**: Strings (like tuples) are immutable!\n",
    "\n",
    "We can't modify them."
   ]
  },
  {
   "cell_type": "code",
   "execution_count": null,
   "metadata": {
    "id": "hbj5SrTGz6rw"
   },
   "outputs": [],
   "source": [
    "# planet[0] = 'B'\n",
    "# planet.append doesn't work either"
   ]
  },
  {
   "cell_type": "markdown",
   "metadata": {
    "id": "KVBhaA860P9t"
   },
   "source": [
    "### Useful String Methods\n",
    "\n",
    "Like `list`, the type `str` has lots of very useful methods. See all of them [here](https://docs.python.org/3/library/stdtypes.html#string-methods)."
   ]
  },
  {
   "cell_type": "code",
   "execution_count": 37,
   "metadata": {
    "colab": {
     "base_uri": "https://localhost:8080/",
     "height": 35
    },
    "executionInfo": {
     "elapsed": 134,
     "status": "ok",
     "timestamp": 1659873113176,
     "user": {
      "displayName": "Simeon Hristov",
      "userId": "14036852932086046142"
     },
     "user_tz": -180
    },
    "id": "q8JdROul0QYZ",
    "outputId": "cf5a26e1-005e-4197-81fb-18d4668b5444"
   },
   "outputs": [
    {
     "data": {
      "text/plain": [
       "'Pluto is a planet!'"
      ]
     },
     "execution_count": 37,
     "metadata": {},
     "output_type": "execute_result"
    }
   ],
   "source": [
    "claim = \"Pluto is a planet!\"\n",
    "claim"
   ]
  },
  {
   "cell_type": "code",
   "execution_count": null,
   "metadata": {
    "colab": {
     "base_uri": "https://localhost:8080/"
    },
    "executionInfo": {
     "elapsed": 133,
     "status": "ok",
     "timestamp": 1659873113178,
     "user": {
      "displayName": "Simeon Hristov",
      "userId": "14036852932086046142"
     },
     "user_tz": -180
    },
    "id": "V-NM_WJX0uA1",
    "outputId": "98ced108-b191-4141-c275-3a09e1019b68"
   },
   "outputs": [
    {
     "data": {
      "text/plain": [
       "11"
      ]
     },
     "execution_count": 144,
     "metadata": {},
     "output_type": "execute_result"
    }
   ],
   "source": [
    "# Searching for the first index of a substring\n",
    "claim.index('plan')"
   ]
  },
  {
   "cell_type": "markdown",
   "metadata": {
    "id": "ZUeDoQLm_Udk"
   },
   "source": [
    "### Task 9\n",
    "\n",
    "Complete the code so as to get the expected output in following subtasks."
   ]
  },
  {
   "cell_type": "markdown",
   "metadata": {
    "id": "1hb_ATBs_ZAb"
   },
   "source": [
    "#### Subtask 1\n",
    "\n",
    "Convert the `claim` variable into all uppercase."
   ]
  },
  {
   "cell_type": "code",
   "execution_count": 38,
   "metadata": {
    "id": "TOfQrz3DX-v7"
   },
   "outputs": [
    {
     "data": {
      "text/plain": [
       "'PLUTO IS A PLANET!'"
      ]
     },
     "execution_count": 38,
     "metadata": {},
     "output_type": "execute_result"
    }
   ],
   "source": [
    "# Your code here\n",
    "claim.upper()"
   ]
  },
  {
   "cell_type": "code",
   "execution_count": null,
   "metadata": {
    "colab": {
     "base_uri": "https://localhost:8080/",
     "height": 35
    },
    "executionInfo": {
     "elapsed": 123,
     "status": "ok",
     "timestamp": 1659873113180,
     "user": {
      "displayName": "Simeon Hristov",
      "userId": "14036852932086046142"
     },
     "user_tz": -180
    },
    "id": "W4igDoRk_eAo",
    "outputId": "8f0219c9-76c5-4989-8f4d-4ce2db84686f"
   },
   "outputs": [
    {
     "data": {
      "application/vnd.google.colaboratory.intrinsic+json": {
       "type": "string"
      },
      "text/plain": [
       "'PLUTO IS A PLANET!'"
      ]
     },
     "execution_count": 146,
     "metadata": {},
     "output_type": "execute_result"
    }
   ],
   "source": [
    "# Expected output"
   ]
  },
  {
   "cell_type": "markdown",
   "metadata": {
    "id": "pdZRyXpU_nuM"
   },
   "source": [
    "#### Subtask 2\n",
    "\n",
    "Convert the `claim` variable into all lowercase."
   ]
  },
  {
   "cell_type": "code",
   "execution_count": 39,
   "metadata": {
    "id": "jSVGu3Fo0s9R"
   },
   "outputs": [
    {
     "data": {
      "text/plain": [
       "'pluto is a planet!'"
      ]
     },
     "execution_count": 39,
     "metadata": {},
     "output_type": "execute_result"
    }
   ],
   "source": [
    "# Your code here\n",
    "claim.lower()"
   ]
  },
  {
   "cell_type": "code",
   "execution_count": null,
   "metadata": {
    "colab": {
     "base_uri": "https://localhost:8080/",
     "height": 35
    },
    "executionInfo": {
     "elapsed": 119,
     "status": "ok",
     "timestamp": 1659873113181,
     "user": {
      "displayName": "Simeon Hristov",
      "userId": "14036852932086046142"
     },
     "user_tz": -180
    },
    "id": "t3l_cOtz_tBV",
    "outputId": "0e63a023-bdd7-4583-e3dc-38202ce36bc4"
   },
   "outputs": [
    {
     "data": {
      "application/vnd.google.colaboratory.intrinsic+json": {
       "type": "string"
      },
      "text/plain": [
       "'pluto is a planet!'"
      ]
     },
     "execution_count": 148,
     "metadata": {},
     "output_type": "execute_result"
    }
   ],
   "source": [
    "# Expected output"
   ]
  },
  {
   "cell_type": "markdown",
   "metadata": {
    "id": "w3cJO5RRASUw"
   },
   "source": [
    "#### Subtask 3\n",
    "\n",
    "Check whether `claim` starts with the substring 'Pluto'."
   ]
  },
  {
   "cell_type": "code",
   "execution_count": 41,
   "metadata": {
    "id": "9Zu1cvLu0_yk"
   },
   "outputs": [
    {
     "data": {
      "text/plain": [
       "True"
      ]
     },
     "execution_count": 41,
     "metadata": {},
     "output_type": "execute_result"
    }
   ],
   "source": [
    "# Your code here\n",
    "claim.startswith('Pluto')"
   ]
  },
  {
   "cell_type": "code",
   "execution_count": null,
   "metadata": {
    "colab": {
     "base_uri": "https://localhost:8080/"
    },
    "executionInfo": {
     "elapsed": 116,
     "status": "ok",
     "timestamp": 1659873113182,
     "user": {
      "displayName": "Simeon Hristov",
      "userId": "14036852932086046142"
     },
     "user_tz": -180
    },
    "id": "Vdt1vjSEAcLb",
    "outputId": "c334d47f-9150-42f5-f6bc-fd309b887259"
   },
   "outputs": [
    {
     "data": {
      "text/plain": [
       "True"
      ]
     },
     "execution_count": 150,
     "metadata": {},
     "output_type": "execute_result"
    }
   ],
   "source": [
    "# Expected output"
   ]
  },
  {
   "cell_type": "markdown",
   "metadata": {
    "id": "PN36vh_oAiEJ"
   },
   "source": [
    "#### Subtask 4\n",
    "\n",
    "Check whether `claim` ends with the substring 'Test'."
   ]
  },
  {
   "cell_type": "code",
   "execution_count": 42,
   "metadata": {
    "id": "Wh7gJ20C1V4y"
   },
   "outputs": [
    {
     "data": {
      "text/plain": [
       "False"
      ]
     },
     "execution_count": 42,
     "metadata": {},
     "output_type": "execute_result"
    }
   ],
   "source": [
    "# Your code here\n",
    "claim.endswith('Test')"
   ]
  },
  {
   "cell_type": "code",
   "execution_count": null,
   "metadata": {
    "colab": {
     "base_uri": "https://localhost:8080/"
    },
    "executionInfo": {
     "elapsed": 100,
     "status": "ok",
     "timestamp": 1659873113184,
     "user": {
      "displayName": "Simeon Hristov",
      "userId": "14036852932086046142"
     },
     "user_tz": -180
    },
    "id": "rPf92EOCAno_",
    "outputId": "46782065-92cb-4643-b3f8-b6ca505882e4"
   },
   "outputs": [
    {
     "data": {
      "text/plain": [
       "False"
      ]
     },
     "execution_count": 152,
     "metadata": {},
     "output_type": "execute_result"
    }
   ],
   "source": [
    "# Expected output"
   ]
  },
  {
   "cell_type": "markdown",
   "metadata": {
    "id": "WXL01CLe1ar5"
   },
   "source": [
    "### Going between strings and lists\n",
    "\n",
    "Here we'll look more closely into the `.split()` and `.join()` methods."
   ]
  },
  {
   "cell_type": "markdown",
   "metadata": {
    "id": "P1h_FzjNA2K3"
   },
   "source": [
    "- `str.split()` turns a string into a list of smaller strings, breaking on whitespace by default. This is super useful for taking you from one big string to a list of words/tokens."
   ]
  },
  {
   "cell_type": "code",
   "execution_count": null,
   "metadata": {
    "colab": {
     "base_uri": "https://localhost:8080/"
    },
    "executionInfo": {
     "elapsed": 90,
     "status": "ok",
     "timestamp": 1659873113185,
     "user": {
      "displayName": "Simeon Hristov",
      "userId": "14036852932086046142"
     },
     "user_tz": -180
    },
    "id": "DMwODOn81XrW",
    "outputId": "4ad268c4-c6eb-4ec1-e38f-47f8aad42192"
   },
   "outputs": [
    {
     "data": {
      "text/plain": [
       "['Pluto', 'is', 'a', 'planet!']"
      ]
     },
     "execution_count": 153,
     "metadata": {},
     "output_type": "execute_result"
    }
   ],
   "source": [
    "words = claim.split()\n",
    "words"
   ]
  },
  {
   "cell_type": "code",
   "execution_count": 45,
   "metadata": {
    "colab": {
     "base_uri": "https://localhost:8080/"
    },
    "executionInfo": {
     "elapsed": 81,
     "status": "ok",
     "timestamp": 1659873113185,
     "user": {
      "displayName": "Simeon Hristov",
      "userId": "14036852932086046142"
     },
     "user_tz": -180
    },
    "id": "1_oqS6pp1klJ",
    "outputId": "c439793f-d794-4043-d902-fe738f4ae49b"
   },
   "outputs": [
    {
     "name": "stdout",
     "output_type": "stream",
     "text": [
      "<class 'int'>\n",
      "<class 'tuple'>\n"
     ]
    }
   ],
   "source": [
    "# Occasionally you'll want to split on something other than whitespace:\n",
    "datestr = '1956-01-31'\n",
    "year, month, day = datestr.split('-')\n",
    "year, month, day\n",
    "\n",
    "print(type((1)))\n",
    "print(type((1,)))"
   ]
  },
  {
   "cell_type": "markdown",
   "metadata": {
    "id": "FIie7zcbBQpT"
   },
   "source": [
    "#### Task 10. Answer the following questions.\n",
    "\n",
    "1. What data type is returned from line 4 (`year, month, day`) in the above cell?\n",
    "\n",
    "> **Your answer**: tuple\n",
    "\n",
    "2. What is the type of the expression: (1) ?\n",
    "\n",
    "> **Your answer**: int\n",
    "\n",
    "3. What is the type of the expression: (1,) ?\n",
    "\n",
    "> **Your answer**: tuple\n",
    "\n",
    "4. What function could you use to check your answers on questions 2 and 3?\n",
    "\n",
    "> **Your answer**: type"
   ]
  },
  {
   "cell_type": "markdown",
   "metadata": {
    "id": "Virn5IIh1oTI"
   },
   "source": [
    "- `str.join()` takes us in the other direction, sewing a list of strings up into one long string, using the string it was called on as a separator."
   ]
  },
  {
   "cell_type": "code",
   "execution_count": null,
   "metadata": {
    "colab": {
     "base_uri": "https://localhost:8080/",
     "height": 35
    },
    "executionInfo": {
     "elapsed": 73,
     "status": "ok",
     "timestamp": 1659873113186,
     "user": {
      "displayName": "Simeon Hristov",
      "userId": "14036852932086046142"
     },
     "user_tz": -180
    },
    "id": "UU3xAL1P1ny4",
    "outputId": "e19bbfb9-b1ff-4815-a24d-1089c8a81516"
   },
   "outputs": [
    {
     "data": {
      "application/vnd.google.colaboratory.intrinsic+json": {
       "type": "string"
      },
      "text/plain": [
       "'01/31/1956'"
      ]
     },
     "execution_count": 155,
     "metadata": {},
     "output_type": "execute_result"
    }
   ],
   "source": [
    "'/'.join([month, day, year])"
   ]
  },
  {
   "cell_type": "markdown",
   "metadata": {
    "id": "-zo_tgRU1yV3"
   },
   "source": [
    "## **Dictionaries**\n",
    "\n",
    "A data structure for mapping keys to values."
   ]
  },
  {
   "cell_type": "code",
   "execution_count": 51,
   "metadata": {
    "colab": {
     "base_uri": "https://localhost:8080/"
    },
    "executionInfo": {
     "elapsed": 72,
     "status": "ok",
     "timestamp": 1659873113188,
     "user": {
      "displayName": "Simeon Hristov",
      "userId": "14036852932086046142"
     },
     "user_tz": -180
    },
    "id": "gS-D8VG010Ar",
    "outputId": "b7bc7108-8fef-43a0-dfc6-a351d0d830fe"
   },
   "outputs": [
    {
     "data": {
      "text/plain": [
       "{'one': 1, 'two': 2, 'three': 3}"
      ]
     },
     "execution_count": 51,
     "metadata": {},
     "output_type": "execute_result"
    }
   ],
   "source": [
    "numbers = {'one':1, 'two':2, 'three':3}\n",
    "numbers"
   ]
  },
  {
   "cell_type": "markdown",
   "metadata": {
    "id": "cBbL86TI15nl"
   },
   "source": [
    "In this case 'one', 'two', and 'three' are the keys, and 1, 2 and 3 are their corresponding values.\n",
    "\n",
    "Values are accessed via square bracket syntax similar to indexing into lists and strings."
   ]
  },
  {
   "cell_type": "code",
   "execution_count": 52,
   "metadata": {
    "colab": {
     "base_uri": "https://localhost:8080/"
    },
    "executionInfo": {
     "elapsed": 63,
     "status": "ok",
     "timestamp": 1659873113189,
     "user": {
      "displayName": "Simeon Hristov",
      "userId": "14036852932086046142"
     },
     "user_tz": -180
    },
    "id": "6ZAli13J16PX",
    "outputId": "d84c29a5-b0b1-4c5f-8b6f-ef8c5e25f66b"
   },
   "outputs": [
    {
     "data": {
      "text/plain": [
       "dict_keys(['one', 'two', 'three'])"
      ]
     },
     "execution_count": 52,
     "metadata": {},
     "output_type": "execute_result"
    }
   ],
   "source": [
    "numbers.keys()"
   ]
  },
  {
   "cell_type": "code",
   "execution_count": 53,
   "metadata": {
    "colab": {
     "base_uri": "https://localhost:8080/"
    },
    "executionInfo": {
     "elapsed": 546,
     "status": "ok",
     "timestamp": 1659873113680,
     "user": {
      "displayName": "Simeon Hristov",
      "userId": "14036852932086046142"
     },
     "user_tz": -180
    },
    "id": "HDpJf64yCqvK",
    "outputId": "797f09d9-4db5-477d-ed18-9464ac03199b"
   },
   "outputs": [
    {
     "data": {
      "text/plain": [
       "dict_values([1, 2, 3])"
      ]
     },
     "execution_count": 53,
     "metadata": {},
     "output_type": "execute_result"
    }
   ],
   "source": [
    "numbers.values()"
   ]
  },
  {
   "cell_type": "code",
   "execution_count": 54,
   "metadata": {
    "colab": {
     "base_uri": "https://localhost:8080/"
    },
    "executionInfo": {
     "elapsed": 215,
     "status": "ok",
     "timestamp": 1659873113682,
     "user": {
      "displayName": "Simeon Hristov",
      "userId": "14036852932086046142"
     },
     "user_tz": -180
    },
    "id": "gk6QxzzM19Lw",
    "outputId": "67c9cb55-0782-49f9-a1bc-45c6d06bf6df"
   },
   "outputs": [
    {
     "data": {
      "text/plain": [
       "1"
      ]
     },
     "execution_count": 54,
     "metadata": {},
     "output_type": "execute_result"
    }
   ],
   "source": [
    "numbers['one']"
   ]
  },
  {
   "cell_type": "code",
   "execution_count": 55,
   "metadata": {
    "colab": {
     "base_uri": "https://localhost:8080/"
    },
    "executionInfo": {
     "elapsed": 205,
     "status": "ok",
     "timestamp": 1659873113682,
     "user": {
      "displayName": "Simeon Hristov",
      "userId": "14036852932086046142"
     },
     "user_tz": -180
    },
    "id": "HzCLitfCCuaP",
    "outputId": "15287c4b-dc60-4b0f-a6b6-5d266e6ac6f6"
   },
   "outputs": [
    {
     "name": "stdout",
     "output_type": "stream",
     "text": [
      "None\n"
     ]
    }
   ],
   "source": [
    "# The indexing syntax is useful if you are sure that the key is present.\n",
    "# This can easily be done by using the \"in\" syntax.\n",
    "if 'onee' in numbers:\n",
    "  print(numbers['onee'])\n",
    "else:\n",
    "  print(None)"
   ]
  },
  {
   "cell_type": "code",
   "execution_count": 56,
   "metadata": {
    "colab": {
     "base_uri": "https://localhost:8080/"
    },
    "executionInfo": {
     "elapsed": 194,
     "status": "ok",
     "timestamp": 1659873113682,
     "user": {
      "displayName": "Simeon Hristov",
      "userId": "14036852932086046142"
     },
     "user_tz": -180
    },
    "id": "R6qjQhvyCwlW",
    "outputId": "2f43b751-dbde-4984-b120-b59672989f4e"
   },
   "outputs": [
    {
     "name": "stdout",
     "output_type": "stream",
     "text": [
      "None\n"
     ]
    }
   ],
   "source": [
    "# The above line could be written in a clearer and more concise way\n",
    "# by using the \"get\" method. It accepts the key you are searching for\n",
    "# and if it is present, will return the value,\n",
    "# but if it is not, it will return the second argument\n",
    "print(numbers.get('onee', None))"
   ]
  },
  {
   "cell_type": "code",
   "execution_count": 57,
   "metadata": {
    "colab": {
     "base_uri": "https://localhost:8080/"
    },
    "executionInfo": {
     "elapsed": 188,
     "status": "ok",
     "timestamp": 1659873113684,
     "user": {
      "displayName": "Simeon Hristov",
      "userId": "14036852932086046142"
     },
     "user_tz": -180
    },
    "id": "Z5Ct_ffB1-l4",
    "outputId": "30f3dbb1-1e0d-4d81-cbd3-5fc757026538"
   },
   "outputs": [
    {
     "data": {
      "text/plain": [
       "{'one': 1, 'two': 2, 'three': 3, 'eleven': 11}"
      ]
     },
     "execution_count": 57,
     "metadata": {},
     "output_type": "execute_result"
    }
   ],
   "source": [
    "# We can use the indexing syntax to add another key, value pair\n",
    "numbers['eleven'] = 11\n",
    "numbers"
   ]
  },
  {
   "cell_type": "code",
   "execution_count": 58,
   "metadata": {
    "colab": {
     "base_uri": "https://localhost:8080/"
    },
    "executionInfo": {
     "elapsed": 178,
     "status": "ok",
     "timestamp": 1659873113685,
     "user": {
      "displayName": "Simeon Hristov",
      "userId": "14036852932086046142"
     },
     "user_tz": -180
    },
    "id": "x2gv-7Fc2B6P",
    "outputId": "a356c04e-0d63-44dc-fb76-8c43e71586fe"
   },
   "outputs": [
    {
     "data": {
      "text/plain": [
       "{'one': 'Pluto', 'two': 2, 'three': 3, 'eleven': 11}"
      ]
     },
     "execution_count": 58,
     "metadata": {},
     "output_type": "execute_result"
    }
   ],
   "source": [
    "# Or to change the value associated with an existing key\n",
    "numbers['one'] = 'Pluto'\n",
    "numbers"
   ]
  },
  {
   "cell_type": "markdown",
   "metadata": {
    "id": "IF1ug7Y1Dsn1"
   },
   "source": [
    "### Task 11: Practicing dict comprehensions."
   ]
  },
  {
   "cell_type": "code",
   "execution_count": null,
   "metadata": {
    "colab": {
     "base_uri": "https://localhost:8080/"
    },
    "executionInfo": {
     "elapsed": 167,
     "status": "ok",
     "timestamp": 1659873113685,
     "user": {
      "displayName": "Simeon Hristov",
      "userId": "14036852932086046142"
     },
     "user_tz": -180
    },
    "id": "zuYGSEIlEABY",
    "outputId": "fe0c4af2-0e7c-405b-a7b9-b5bdfd5916e3"
   },
   "outputs": [
    {
     "data": {
      "text/plain": [
       "['Mercury', 'Venus', 'Earth', 'Mars', 'Jupiter', 'Saturn', 'Uranus', 'Neptune']"
      ]
     },
     "execution_count": 164,
     "metadata": {},
     "output_type": "execute_result"
    }
   ],
   "source": [
    "planets = ['Mercury', 'Venus', 'Earth', 'Mars', 'Jupiter', 'Saturn', 'Uranus', 'Neptune']\n",
    "planets"
   ]
  },
  {
   "cell_type": "markdown",
   "metadata": {
    "id": "pMjt3GOyEEY7"
   },
   "source": [
    "#### Subtask 1\n",
    "\n",
    "Create a dictionary that maps every name to its first letter"
   ]
  },
  {
   "cell_type": "code",
   "execution_count": 47,
   "metadata": {
    "id": "F9VxKLcWEOIu"
   },
   "outputs": [
    {
     "name": "stdout",
     "output_type": "stream",
     "text": [
      "{'Mercury': 'M', 'Venus': 'V', 'Earth': 'E', 'Mars': 'M', 'Jupiter': 'J', 'Saturn': 'S', 'Uranus': 'U', 'Neptune': 'N'}\n"
     ]
    }
   ],
   "source": [
    "# Your code here\n",
    "planetsDisctionary = {}\n",
    "for planet in planets:\n",
    "    planetsDisctionary[planet] = planet[0]\n",
    "\n",
    "print(planetsDisctionary)"
   ]
  },
  {
   "cell_type": "code",
   "execution_count": null,
   "metadata": {
    "colab": {
     "base_uri": "https://localhost:8080/"
    },
    "executionInfo": {
     "elapsed": 158,
     "status": "ok",
     "timestamp": 1659873113687,
     "user": {
      "displayName": "Simeon Hristov",
      "userId": "14036852932086046142"
     },
     "user_tz": -180
    },
    "id": "k3oN4s8p2E-3",
    "outputId": "7175964d-7c73-434e-dd05-c77c29b8af23"
   },
   "outputs": [
    {
     "data": {
      "text/plain": [
       "{'Earth': 'E',\n",
       " 'Jupiter': 'J',\n",
       " 'Mars': 'M',\n",
       " 'Mercury': 'M',\n",
       " 'Neptune': 'N',\n",
       " 'Saturn': 'S',\n",
       " 'Uranus': 'U',\n",
       " 'Venus': 'V'}"
      ]
     },
     "execution_count": 166,
     "metadata": {},
     "output_type": "execute_result"
    }
   ],
   "source": [
    "# Expected output"
   ]
  },
  {
   "cell_type": "markdown",
   "metadata": {
    "id": "680P7JyaEbCh"
   },
   "source": [
    "#### Subtask 2\n",
    "\n",
    "Check if a value is in the dictionary. For example, check if Earth is a planet. Return 'Not a planet' if it is not."
   ]
  },
  {
   "cell_type": "code",
   "execution_count": 48,
   "metadata": {
    "id": "j9vvgSY_2KKm"
   },
   "outputs": [
    {
     "data": {
      "text/plain": [
       "True"
      ]
     },
     "execution_count": 48,
     "metadata": {},
     "output_type": "execute_result"
    }
   ],
   "source": [
    "# Your code here\n",
    "'Earth' in planetsDisctionary.keys()"
   ]
  },
  {
   "cell_type": "code",
   "execution_count": null,
   "metadata": {
    "colab": {
     "base_uri": "https://localhost:8080/"
    },
    "executionInfo": {
     "elapsed": 144,
     "status": "ok",
     "timestamp": 1659873113688,
     "user": {
      "displayName": "Simeon Hristov",
      "userId": "14036852932086046142"
     },
     "user_tz": -180
    },
    "id": "JdrJIbceEkgs",
    "outputId": "7061d846-5fe0-4e09-ec2b-f30b1842a5bb"
   },
   "outputs": [
    {
     "data": {
      "text/plain": [
       "True"
      ]
     },
     "execution_count": 168,
     "metadata": {},
     "output_type": "execute_result"
    }
   ],
   "source": [
    "# Expected output"
   ]
  },
  {
   "cell_type": "markdown",
   "metadata": {
    "id": "sUJIJECmEzKk"
   },
   "source": [
    "### Looping over dictionaries"
   ]
  },
  {
   "cell_type": "code",
   "execution_count": 59,
   "metadata": {
    "colab": {
     "base_uri": "https://localhost:8080/"
    },
    "executionInfo": {
     "elapsed": 134,
     "status": "ok",
     "timestamp": 1659873113689,
     "user": {
      "displayName": "Simeon Hristov",
      "userId": "14036852932086046142"
     },
     "user_tz": -180
    },
    "id": "PX1jIFGRE6QX",
    "outputId": "df4e6cbb-3a9e-46d9-f8b3-da012bda903c"
   },
   "outputs": [
    {
     "data": {
      "text/plain": [
       "dict"
      ]
     },
     "execution_count": 59,
     "metadata": {},
     "output_type": "execute_result"
    }
   ],
   "source": [
    "type(numbers)"
   ]
  },
  {
   "cell_type": "code",
   "execution_count": 60,
   "metadata": {
    "colab": {
     "base_uri": "https://localhost:8080/"
    },
    "executionInfo": {
     "elapsed": 123,
     "status": "ok",
     "timestamp": 1659873113689,
     "user": {
      "displayName": "Simeon Hristov",
      "userId": "14036852932086046142"
     },
     "user_tz": -180
    },
    "id": "ykYwLt6T2UQ0",
    "outputId": "f16693fb-036b-4633-e119-83b013c308e1"
   },
   "outputs": [
    {
     "name": "stdout",
     "output_type": "stream",
     "text": [
      "one => Pluto\n",
      "two => 2\n",
      "three => 3\n",
      "eleven => 11\n"
     ]
    }
   ],
   "source": [
    "# A for loop over a dictionary will loop over its KEYS !!!\n",
    "for k in numbers:\n",
    "  print(f'{k} => {numbers[k]}')"
   ]
  },
  {
   "cell_type": "markdown",
   "metadata": {
    "id": "V5hEGk9LFBZl"
   },
   "source": [
    "#### Task 12\n",
    "\n",
    "Loop over the `numbers` dictionary so as to get both the key and value at each step. Try to get the same output that is in the previous step but **without using indexing**."
   ]
  },
  {
   "cell_type": "code",
   "execution_count": 63,
   "metadata": {
    "id": "Bj74lfTy2lcN"
   },
   "outputs": [
    {
     "name": "stdout",
     "output_type": "stream",
     "text": [
      "one => Pluto\n",
      "two => 2\n",
      "three => 3\n",
      "eleven => 11\n"
     ]
    }
   ],
   "source": [
    "# Your code here\n",
    "for key, value in numbers.items():\n",
    "    print(f'{key} => {value}')"
   ]
  },
  {
   "cell_type": "code",
   "execution_count": null,
   "metadata": {
    "colab": {
     "base_uri": "https://localhost:8080/"
    },
    "executionInfo": {
     "elapsed": 114,
     "status": "ok",
     "timestamp": 1659873113691,
     "user": {
      "displayName": "Simeon Hristov",
      "userId": "14036852932086046142"
     },
     "user_tz": -180
    },
    "id": "h6Za8BLnFNGH",
    "outputId": "dfce407e-a363-4840-b18c-f48088c108b1"
   },
   "outputs": [
    {
     "name": "stdout",
     "output_type": "stream",
     "text": [
      "one => Pluto\n",
      "two => 2\n",
      "three => 3\n",
      "eleven => 11\n"
     ]
    }
   ],
   "source": [
    "# Expected output"
   ]
  },
  {
   "cell_type": "markdown",
   "metadata": {
    "id": "DVZJO1B3FcWm"
   },
   "source": [
    "#### Task 13\n",
    "\n",
    "Get all the initials of the planets, sort them alphabetically, and put them in a space-separated string. Try to achive this in **one line**."
   ]
  },
  {
   "cell_type": "code",
   "execution_count": 69,
   "metadata": {
    "id": "TyHEIW6n2uIN"
   },
   "outputs": [
    {
     "data": {
      "text/plain": [
       "'E J M M N S U V'"
      ]
     },
     "execution_count": 69,
     "metadata": {},
     "output_type": "execute_result"
    }
   ],
   "source": [
    "# Your code here\n",
    "' '.join(sorted(list(map(lambda planet: planet[0], planets))))"
   ]
  },
  {
   "cell_type": "code",
   "execution_count": null,
   "metadata": {
    "colab": {
     "base_uri": "https://localhost:8080/",
     "height": 35
    },
    "executionInfo": {
     "elapsed": 105,
     "status": "ok",
     "timestamp": 1659873113693,
     "user": {
      "displayName": "Simeon Hristov",
      "userId": "14036852932086046142"
     },
     "user_tz": -180
    },
    "id": "ZwVkCrm0FhMz",
    "outputId": "f1428f25-cf8a-49e6-c52e-6f1560b2deb6"
   },
   "outputs": [
    {
     "data": {
      "application/vnd.google.colaboratory.intrinsic+json": {
       "type": "string"
      },
      "text/plain": [
       "'E J M M N S U V'"
      ]
     },
     "execution_count": 174,
     "metadata": {},
     "output_type": "execute_result"
    }
   ],
   "source": [
    "# Expected output"
   ]
  },
  {
   "cell_type": "markdown",
   "metadata": {
    "id": "p4Kec5NoI8uO"
   },
   "source": [
    "## **Working with External Libraries**\n",
    "\n",
    "> **Note**: For this section you would need to install `numpy` package using the `pip` command. You have to open up a command prompt and type `pip install numpy`. This will allow you to import `numpy` and use functions from it. A tutorial is present [here](https://youtu.be/eWRfhZUzrAc?si=n7NhKerYNRQLTibv&t=11904) (I've set the timestamp to the start of the section for `pip`)."
   ]
  },
  {
   "cell_type": "markdown",
   "metadata": {
    "id": "YrBZY0ZlJsPo"
   },
   "source": [
    "### **Imports**\n",
    "\n",
    "So far we've talked about types and functions which are built-in to the language.\n",
    "\n",
    "But one of the best things about Python (especially if you are working in the AI field) is the vast number of high-quality custom libraries that have been written for it.\n",
    "\n",
    "Some of these libraries are in the \"standard library\", meaning you can find them anywhere you run Python. Other libraries can be easily added, even if they aren't always shipped with Python.\n",
    "\n",
    "Either way, we'll access this code with imports.\n",
    "\n",
    "We'll start our example by importing math from the standard library."
   ]
  },
  {
   "cell_type": "code",
   "execution_count": 70,
   "metadata": {
    "colab": {
     "base_uri": "https://localhost:8080/"
    },
    "executionInfo": {
     "elapsed": 104,
     "status": "ok",
     "timestamp": 1659873113694,
     "user": {
      "displayName": "Simeon Hristov",
      "userId": "14036852932086046142"
     },
     "user_tz": -180
    },
    "id": "RNmyppyqJlC0",
    "outputId": "c5429f6c-24a7-4f16-c846-7572b502b6a7"
   },
   "outputs": [
    {
     "name": "stdout",
     "output_type": "stream",
     "text": [
      "It's math! It has type <class 'module'>\n"
     ]
    }
   ],
   "source": [
    "import math\n",
    "\n",
    "print(f\"It's math! It has type {type(math)}\")"
   ]
  },
  {
   "cell_type": "markdown",
   "metadata": {
    "id": "gUpQ2OiWJ9Kc"
   },
   "source": [
    "math is a module. A module is just a collection of variables (a namespace, if you like) defined by someone else. We can see all the names in math using the built-in function dir()."
   ]
  },
  {
   "cell_type": "code",
   "execution_count": null,
   "metadata": {
    "colab": {
     "base_uri": "https://localhost:8080/"
    },
    "executionInfo": {
     "elapsed": 96,
     "status": "ok",
     "timestamp": 1659873113696,
     "user": {
      "displayName": "Simeon Hristov",
      "userId": "14036852932086046142"
     },
     "user_tz": -180
    },
    "id": "nwQ38Ej2J_LE",
    "outputId": "a4a1db5c-5f16-4ea7-9026-215ed5054ffc"
   },
   "outputs": [
    {
     "name": "stdout",
     "output_type": "stream",
     "text": [
      "['__doc__', '__loader__', '__name__', '__package__', '__spec__', 'acos', 'acosh', 'asin', 'asinh', 'atan', 'atan2', 'atanh', 'ceil', 'copysign', 'cos', 'cosh', 'degrees', 'e', 'erf', 'erfc', 'exp', 'expm1', 'fabs', 'factorial', 'floor', 'fmod', 'frexp', 'fsum', 'gamma', 'gcd', 'hypot', 'inf', 'isclose', 'isfinite', 'isinf', 'isnan', 'ldexp', 'lgamma', 'log', 'log10', 'log1p', 'log2', 'modf', 'nan', 'pi', 'pow', 'radians', 'remainder', 'sin', 'sinh', 'sqrt', 'tan', 'tanh', 'tau', 'trunc']\n"
     ]
    }
   ],
   "source": [
    "print(dir(math))"
   ]
  },
  {
   "cell_type": "code",
   "execution_count": null,
   "metadata": {
    "colab": {
     "base_uri": "https://localhost:8080/"
    },
    "executionInfo": {
     "elapsed": 87,
     "status": "ok",
     "timestamp": 1659873113697,
     "user": {
      "displayName": "Simeon Hristov",
      "userId": "14036852932086046142"
     },
     "user_tz": -180
    },
    "id": "aKFDYyO_KlPs",
    "outputId": "823c868c-b876-4dbd-a2da-073cf40efbc2"
   },
   "outputs": [
    {
     "name": "stdout",
     "output_type": "stream",
     "text": [
      "Help on built-in module math:\n",
      "\n",
      "NAME\n",
      "    math\n",
      "\n",
      "DESCRIPTION\n",
      "    This module provides access to the mathematical functions\n",
      "    defined by the C standard.\n",
      "\n",
      "FUNCTIONS\n",
      "    acos(x, /)\n",
      "        Return the arc cosine (measured in radians) of x.\n",
      "    \n",
      "    acosh(x, /)\n",
      "        Return the inverse hyperbolic cosine of x.\n",
      "    \n",
      "    asin(x, /)\n",
      "        Return the arc sine (measured in radians) of x.\n",
      "    \n",
      "    asinh(x, /)\n",
      "        Return the inverse hyperbolic sine of x.\n",
      "    \n",
      "    atan(x, /)\n",
      "        Return the arc tangent (measured in radians) of x.\n",
      "    \n",
      "    atan2(y, x, /)\n",
      "        Return the arc tangent (measured in radians) of y/x.\n",
      "        \n",
      "        Unlike atan(y/x), the signs of both x and y are considered.\n",
      "    \n",
      "    atanh(x, /)\n",
      "        Return the inverse hyperbolic tangent of x.\n",
      "    \n",
      "    ceil(x, /)\n",
      "        Return the ceiling of x as an Integral.\n",
      "        \n",
      "        This is the smallest integer >= x.\n",
      "    \n",
      "    copysign(x, y, /)\n",
      "        Return a float with the magnitude (absolute value) of x but the sign of y.\n",
      "        \n",
      "        On platforms that support signed zeros, copysign(1.0, -0.0)\n",
      "        returns -1.0.\n",
      "    \n",
      "    cos(x, /)\n",
      "        Return the cosine of x (measured in radians).\n",
      "    \n",
      "    cosh(x, /)\n",
      "        Return the hyperbolic cosine of x.\n",
      "    \n",
      "    degrees(x, /)\n",
      "        Convert angle x from radians to degrees.\n",
      "    \n",
      "    erf(x, /)\n",
      "        Error function at x.\n",
      "    \n",
      "    erfc(x, /)\n",
      "        Complementary error function at x.\n",
      "    \n",
      "    exp(x, /)\n",
      "        Return e raised to the power of x.\n",
      "    \n",
      "    expm1(x, /)\n",
      "        Return exp(x)-1.\n",
      "        \n",
      "        This function avoids the loss of precision involved in the direct evaluation of exp(x)-1 for small x.\n",
      "    \n",
      "    fabs(x, /)\n",
      "        Return the absolute value of the float x.\n",
      "    \n",
      "    factorial(x, /)\n",
      "        Find x!.\n",
      "        \n",
      "        Raise a ValueError if x is negative or non-integral.\n",
      "    \n",
      "    floor(x, /)\n",
      "        Return the floor of x as an Integral.\n",
      "        \n",
      "        This is the largest integer <= x.\n",
      "    \n",
      "    fmod(x, y, /)\n",
      "        Return fmod(x, y), according to platform C.\n",
      "        \n",
      "        x % y may differ.\n",
      "    \n",
      "    frexp(x, /)\n",
      "        Return the mantissa and exponent of x, as pair (m, e).\n",
      "        \n",
      "        m is a float and e is an int, such that x = m * 2.**e.\n",
      "        If x is 0, m and e are both 0.  Else 0.5 <= abs(m) < 1.0.\n",
      "    \n",
      "    fsum(seq, /)\n",
      "        Return an accurate floating point sum of values in the iterable seq.\n",
      "        \n",
      "        Assumes IEEE-754 floating point arithmetic.\n",
      "    \n",
      "    gamma(x, /)\n",
      "        Gamma function at x.\n",
      "    \n",
      "    gcd(x, y, /)\n",
      "        greatest common divisor of x and y\n",
      "    \n",
      "    hypot(x, y, /)\n",
      "        Return the Euclidean distance, sqrt(x*x + y*y).\n",
      "    \n",
      "    isclose(a, b, *, rel_tol=1e-09, abs_tol=0.0)\n",
      "        Determine whether two floating point numbers are close in value.\n",
      "        \n",
      "          rel_tol\n",
      "            maximum difference for being considered \"close\", relative to the\n",
      "            magnitude of the input values\n",
      "          abs_tol\n",
      "            maximum difference for being considered \"close\", regardless of the\n",
      "            magnitude of the input values\n",
      "        \n",
      "        Return True if a is close in value to b, and False otherwise.\n",
      "        \n",
      "        For the values to be considered close, the difference between them\n",
      "        must be smaller than at least one of the tolerances.\n",
      "        \n",
      "        -inf, inf and NaN behave similarly to the IEEE 754 Standard.  That\n",
      "        is, NaN is not close to anything, even itself.  inf and -inf are\n",
      "        only close to themselves.\n",
      "    \n",
      "    isfinite(x, /)\n",
      "        Return True if x is neither an infinity nor a NaN, and False otherwise.\n",
      "    \n",
      "    isinf(x, /)\n",
      "        Return True if x is a positive or negative infinity, and False otherwise.\n",
      "    \n",
      "    isnan(x, /)\n",
      "        Return True if x is a NaN (not a number), and False otherwise.\n",
      "    \n",
      "    ldexp(x, i, /)\n",
      "        Return x * (2**i).\n",
      "        \n",
      "        This is essentially the inverse of frexp().\n",
      "    \n",
      "    lgamma(x, /)\n",
      "        Natural logarithm of absolute value of Gamma function at x.\n",
      "    \n",
      "    log(...)\n",
      "        log(x, [base=math.e])\n",
      "        Return the logarithm of x to the given base.\n",
      "        \n",
      "        If the base not specified, returns the natural logarithm (base e) of x.\n",
      "    \n",
      "    log10(x, /)\n",
      "        Return the base 10 logarithm of x.\n",
      "    \n",
      "    log1p(x, /)\n",
      "        Return the natural logarithm of 1+x (base e).\n",
      "        \n",
      "        The result is computed in a way which is accurate for x near zero.\n",
      "    \n",
      "    log2(x, /)\n",
      "        Return the base 2 logarithm of x.\n",
      "    \n",
      "    modf(x, /)\n",
      "        Return the fractional and integer parts of x.\n",
      "        \n",
      "        Both results carry the sign of x and are floats.\n",
      "    \n",
      "    pow(x, y, /)\n",
      "        Return x**y (x to the power of y).\n",
      "    \n",
      "    radians(x, /)\n",
      "        Convert angle x from degrees to radians.\n",
      "    \n",
      "    remainder(x, y, /)\n",
      "        Difference between x and the closest integer multiple of y.\n",
      "        \n",
      "        Return x - n*y where n*y is the closest integer multiple of y.\n",
      "        In the case where x is exactly halfway between two multiples of\n",
      "        y, the nearest even value of n is used. The result is always exact.\n",
      "    \n",
      "    sin(x, /)\n",
      "        Return the sine of x (measured in radians).\n",
      "    \n",
      "    sinh(x, /)\n",
      "        Return the hyperbolic sine of x.\n",
      "    \n",
      "    sqrt(x, /)\n",
      "        Return the square root of x.\n",
      "    \n",
      "    tan(x, /)\n",
      "        Return the tangent of x (measured in radians).\n",
      "    \n",
      "    tanh(x, /)\n",
      "        Return the hyperbolic tangent of x.\n",
      "    \n",
      "    trunc(x, /)\n",
      "        Truncates the Real x to the nearest Integral toward 0.\n",
      "        \n",
      "        Uses the __trunc__ magic method.\n",
      "\n",
      "DATA\n",
      "    e = 2.718281828459045\n",
      "    inf = inf\n",
      "    nan = nan\n",
      "    pi = 3.141592653589793\n",
      "    tau = 6.283185307179586\n",
      "\n",
      "FILE\n",
      "    (built-in)\n",
      "\n",
      "\n"
     ]
    }
   ],
   "source": [
    "help(math)"
   ]
  },
  {
   "cell_type": "code",
   "execution_count": null,
   "metadata": {
    "colab": {
     "base_uri": "https://localhost:8080/"
    },
    "executionInfo": {
     "elapsed": 76,
     "status": "ok",
     "timestamp": 1659873113697,
     "user": {
      "displayName": "Simeon Hristov",
      "userId": "14036852932086046142"
     },
     "user_tz": -180
    },
    "id": "hlI0mCGQKCQG",
    "outputId": "8a8c15c3-8ff4-443c-b5b2-736790eb9ecf"
   },
   "outputs": [
    {
     "name": "stdout",
     "output_type": "stream",
     "text": [
      "pi to 4 significant digits = 3.142\n"
     ]
    }
   ],
   "source": [
    "# We can access these variables using dot syntax. Some of them refer to simple values, like math.pi\n",
    "print(f'pi to 4 significant digits = {math.pi:.3f}')"
   ]
  },
  {
   "cell_type": "code",
   "execution_count": null,
   "metadata": {
    "colab": {
     "base_uri": "https://localhost:8080/"
    },
    "executionInfo": {
     "elapsed": 64,
     "status": "ok",
     "timestamp": 1659873113698,
     "user": {
      "displayName": "Simeon Hristov",
      "userId": "14036852932086046142"
     },
     "user_tz": -180
    },
    "id": "BdySbqckKbKl",
    "outputId": "838644f5-a354-4324-a809-cf02c60227a3"
   },
   "outputs": [
    {
     "data": {
      "text/plain": [
       "5.0"
      ]
     },
     "execution_count": 179,
     "metadata": {},
     "output_type": "execute_result"
    }
   ],
   "source": [
    "# But most of what we'll find in the module are functions, like math.log\n",
    "math.log(32, 2)"
   ]
  },
  {
   "cell_type": "markdown",
   "metadata": {
    "id": "_B4aXscKKpxg"
   },
   "source": [
    "### **Other import syntax**\n",
    "\n",
    "If we know we'll be using functions in math frequently we can import it under a shorter alias to save some typing (though in this case \"math\" is already pretty short)."
   ]
  },
  {
   "cell_type": "code",
   "execution_count": null,
   "metadata": {
    "colab": {
     "base_uri": "https://localhost:8080/"
    },
    "executionInfo": {
     "elapsed": 56,
     "status": "ok",
     "timestamp": 1659873113699,
     "user": {
      "displayName": "Simeon Hristov",
      "userId": "14036852932086046142"
     },
     "user_tz": -180
    },
    "id": "wk-11xbLKdlA",
    "outputId": "9322d22f-bc63-4f5e-c1ca-9ad159f31702"
   },
   "outputs": [
    {
     "data": {
      "text/plain": [
       "3.141592653589793"
      ]
     },
     "execution_count": 180,
     "metadata": {},
     "output_type": "execute_result"
    }
   ],
   "source": [
    "import math as mt\n",
    "mt.pi"
   ]
  },
  {
   "cell_type": "markdown",
   "metadata": {
    "id": "DuCSr7c6K3I_"
   },
   "source": [
    "Wouldn't it be great if we could refer to all the variables in the math module by themselves? i.e. if we could just refer to pi instead of math.pi or mt.pi? Good news: we can do that."
   ]
  },
  {
   "cell_type": "code",
   "execution_count": null,
   "metadata": {
    "colab": {
     "base_uri": "https://localhost:8080/"
    },
    "executionInfo": {
     "elapsed": 48,
     "status": "ok",
     "timestamp": 1659873113700,
     "user": {
      "displayName": "Simeon Hristov",
      "userId": "14036852932086046142"
     },
     "user_tz": -180
    },
    "id": "ql9eWJX3K4Xm",
    "outputId": "579cfe53-579a-48b5-c9dd-ff70c09817a4"
   },
   "outputs": [
    {
     "data": {
      "text/plain": [
       "(3.141592653589793, 5.0)"
      ]
     },
     "execution_count": 181,
     "metadata": {},
     "output_type": "execute_result"
    }
   ],
   "source": [
    "from math import *\n",
    "pi, log(32, 2)"
   ]
  },
  {
   "cell_type": "markdown",
   "metadata": {
    "id": "XDr3zZZlLFAs"
   },
   "source": [
    "import * makes all the module's variables directly accessible to you (without any dotted prefix).\n",
    "\n",
    "Bad news: some purists might grumble at you for doing this.\n",
    "\n",
    "Worse: they kind of have a point."
   ]
  },
  {
   "cell_type": "code",
   "execution_count": null,
   "metadata": {
    "id": "T4QnY0cMLGhC"
   },
   "outputs": [],
   "source": [
    "from math import *\n",
    "from numpy import *\n",
    "\n",
    "# Now the following will no longer work :/\n",
    "# pi, log(32, 2)"
   ]
  },
  {
   "cell_type": "markdown",
   "metadata": {
    "id": "3On1fHR3Li64"
   },
   "source": [
    "What has happened? It worked before!\n",
    "\n",
    "These kinds of \"star imports\" can occasionally lead to weird, difficult-to-debug situations.\n",
    "\n",
    "The problem in this case is that the math and numpy modules both have functions called log, but they have different semantics. Because we import from numpy second, its log overwrites (or \"shadows\") the log variable we imported from math.\n",
    "\n",
    "A good compromise is to import only the specific things we'll need from each module."
   ]
  },
  {
   "cell_type": "code",
   "execution_count": null,
   "metadata": {
    "colab": {
     "base_uri": "https://localhost:8080/"
    },
    "executionInfo": {
     "elapsed": 113,
     "status": "ok",
     "timestamp": 1659873114092,
     "user": {
      "displayName": "Simeon Hristov",
      "userId": "14036852932086046142"
     },
     "user_tz": -180
    },
    "id": "vAZlR-8lLcVX",
    "outputId": "cb3d4bf6-0d3b-4546-beb5-bc105b6834a7"
   },
   "outputs": [
    {
     "data": {
      "text/plain": [
       "(3.141592653589793, 5.0)"
      ]
     },
     "execution_count": 183,
     "metadata": {},
     "output_type": "execute_result"
    }
   ],
   "source": [
    "from math import log, pi\n",
    "from numpy import asarray\n",
    "pi, log(32, 2)"
   ]
  },
  {
   "cell_type": "markdown",
   "metadata": {
    "id": "pQ28byjPLqBM"
   },
   "source": [
    "### **Submodules**\n",
    "\n",
    "We've seen that modules contain variables which can refer to functions or values. Something to be aware of is that they can also have variables referring to other modules."
   ]
  },
  {
   "cell_type": "code",
   "execution_count": null,
   "metadata": {
    "colab": {
     "base_uri": "https://localhost:8080/"
    },
    "executionInfo": {
     "elapsed": 111,
     "status": "ok",
     "timestamp": 1659873114093,
     "user": {
      "displayName": "Simeon Hristov",
      "userId": "14036852932086046142"
     },
     "user_tz": -180
    },
    "id": "x4cNozCbLn-g",
    "outputId": "9bc57537-97b6-47be-ae36-241515834cb2"
   },
   "outputs": [
    {
     "name": "stdout",
     "output_type": "stream",
     "text": [
      "numpy.random is a <class 'module'>\n",
      "it contains names such as... ['seed', 'set_state', 'shuffle', 'standard_cauchy', 'standard_exponential', 'standard_gamma', 'standard_normal', 'standard_t', 'test', 'triangular', 'uniform', 'vonmises', 'wald', 'weibull', 'zipf']\n"
     ]
    }
   ],
   "source": [
    "import numpy\n",
    "print(f'numpy.random is a {type(numpy.random)}')\n",
    "print(f'it contains names such as... {dir(numpy.random)[-15:]}')"
   ]
  },
  {
   "cell_type": "code",
   "execution_count": null,
   "metadata": {
    "colab": {
     "base_uri": "https://localhost:8080/"
    },
    "executionInfo": {
     "elapsed": 99,
     "status": "ok",
     "timestamp": 1659873114094,
     "user": {
      "displayName": "Simeon Hristov",
      "userId": "14036852932086046142"
     },
     "user_tz": -180
    },
    "id": "_uXoZtmgL5D_",
    "outputId": "28fca62a-0d2e-42a0-ede6-2cfe13bfce77"
   },
   "outputs": [
    {
     "data": {
      "text/plain": [
       "array([2, 4, 2, 3, 3, 3, 5, 2, 4, 4])"
      ]
     },
     "execution_count": 185,
     "metadata": {},
     "output_type": "execute_result"
    }
   ],
   "source": [
    "# So if we import numpy as above, then calling a function in the random \"submodule\" will require two dots.\n",
    "# Roll 10 dice\n",
    "\n",
    "# one dot for the \"random\" submodule in the numpy module\n",
    "# second dot for the \"randint\" function defined in the \"random\" submodule\n",
    "rolls = numpy.random.randint(low=1, high=6, size=10)\n",
    "rolls"
   ]
  },
  {
   "cell_type": "markdown",
   "metadata": {
    "id": "Y6hTGT0sMDcE"
   },
   "source": [
    "### **Recap of the three tools for understanding strange objects**\n",
    "\n",
    "In the cell above, we saw that calling a numpy function gave us an \"array\". We've never seen anything like this before (not in this course anyways). But don't panic: we have three familiar builtin functions to help us here.\n",
    "\n",
    ">**1**: `type()` (what is this thing?)"
   ]
  },
  {
   "cell_type": "code",
   "execution_count": null,
   "metadata": {
    "colab": {
     "base_uri": "https://localhost:8080/"
    },
    "executionInfo": {
     "elapsed": 90,
     "status": "ok",
     "timestamp": 1659873114095,
     "user": {
      "displayName": "Simeon Hristov",
      "userId": "14036852932086046142"
     },
     "user_tz": -180
    },
    "id": "G1Jdadc3MBED",
    "outputId": "5e859eb7-afa4-4e02-aea6-244d5069becb"
   },
   "outputs": [
    {
     "data": {
      "text/plain": [
       "numpy.ndarray"
      ]
     },
     "execution_count": 186,
     "metadata": {},
     "output_type": "execute_result"
    }
   ],
   "source": [
    "type(rolls)"
   ]
  },
  {
   "cell_type": "markdown",
   "metadata": {
    "id": "1fP4gsEsMOVT"
   },
   "source": [
    ">**2**: `dir()` (what can I do with it?)"
   ]
  },
  {
   "cell_type": "code",
   "execution_count": null,
   "metadata": {
    "colab": {
     "base_uri": "https://localhost:8080/"
    },
    "executionInfo": {
     "elapsed": 79,
     "status": "ok",
     "timestamp": 1659873114095,
     "user": {
      "displayName": "Simeon Hristov",
      "userId": "14036852932086046142"
     },
     "user_tz": -180
    },
    "id": "f8SYa4voMSHg",
    "outputId": "76a1a456-f28d-47f9-d4a2-37fb2637de98"
   },
   "outputs": [
    {
     "data": {
      "text/plain": [
       "['T',\n",
       " '__abs__',\n",
       " '__add__',\n",
       " '__and__',\n",
       " '__array__',\n",
       " '__array_finalize__',\n",
       " '__array_function__',\n",
       " '__array_interface__',\n",
       " '__array_prepare__',\n",
       " '__array_priority__',\n",
       " '__array_struct__',\n",
       " '__array_ufunc__',\n",
       " '__array_wrap__',\n",
       " '__bool__',\n",
       " '__class__',\n",
       " '__complex__',\n",
       " '__contains__',\n",
       " '__copy__',\n",
       " '__deepcopy__',\n",
       " '__delattr__',\n",
       " '__delitem__',\n",
       " '__dir__',\n",
       " '__divmod__',\n",
       " '__doc__',\n",
       " '__eq__',\n",
       " '__float__',\n",
       " '__floordiv__',\n",
       " '__format__',\n",
       " '__ge__',\n",
       " '__getattribute__',\n",
       " '__getitem__',\n",
       " '__gt__',\n",
       " '__hash__',\n",
       " '__iadd__',\n",
       " '__iand__',\n",
       " '__ifloordiv__',\n",
       " '__ilshift__',\n",
       " '__imatmul__',\n",
       " '__imod__',\n",
       " '__imul__',\n",
       " '__index__',\n",
       " '__init__',\n",
       " '__init_subclass__',\n",
       " '__int__',\n",
       " '__invert__',\n",
       " '__ior__',\n",
       " '__ipow__',\n",
       " '__irshift__',\n",
       " '__isub__',\n",
       " '__iter__',\n",
       " '__itruediv__',\n",
       " '__ixor__',\n",
       " '__le__',\n",
       " '__len__',\n",
       " '__lshift__',\n",
       " '__lt__',\n",
       " '__matmul__',\n",
       " '__mod__',\n",
       " '__mul__',\n",
       " '__ne__',\n",
       " '__neg__',\n",
       " '__new__',\n",
       " '__or__',\n",
       " '__pos__',\n",
       " '__pow__',\n",
       " '__radd__',\n",
       " '__rand__',\n",
       " '__rdivmod__',\n",
       " '__reduce__',\n",
       " '__reduce_ex__',\n",
       " '__repr__',\n",
       " '__rfloordiv__',\n",
       " '__rlshift__',\n",
       " '__rmatmul__',\n",
       " '__rmod__',\n",
       " '__rmul__',\n",
       " '__ror__',\n",
       " '__rpow__',\n",
       " '__rrshift__',\n",
       " '__rshift__',\n",
       " '__rsub__',\n",
       " '__rtruediv__',\n",
       " '__rxor__',\n",
       " '__setattr__',\n",
       " '__setitem__',\n",
       " '__setstate__',\n",
       " '__sizeof__',\n",
       " '__str__',\n",
       " '__sub__',\n",
       " '__subclasshook__',\n",
       " '__truediv__',\n",
       " '__xor__',\n",
       " 'all',\n",
       " 'any',\n",
       " 'argmax',\n",
       " 'argmin',\n",
       " 'argpartition',\n",
       " 'argsort',\n",
       " 'astype',\n",
       " 'base',\n",
       " 'byteswap',\n",
       " 'choose',\n",
       " 'clip',\n",
       " 'compress',\n",
       " 'conj',\n",
       " 'conjugate',\n",
       " 'copy',\n",
       " 'ctypes',\n",
       " 'cumprod',\n",
       " 'cumsum',\n",
       " 'data',\n",
       " 'diagonal',\n",
       " 'dot',\n",
       " 'dtype',\n",
       " 'dump',\n",
       " 'dumps',\n",
       " 'fill',\n",
       " 'flags',\n",
       " 'flat',\n",
       " 'flatten',\n",
       " 'getfield',\n",
       " 'imag',\n",
       " 'item',\n",
       " 'itemset',\n",
       " 'itemsize',\n",
       " 'max',\n",
       " 'mean',\n",
       " 'min',\n",
       " 'nbytes',\n",
       " 'ndim',\n",
       " 'newbyteorder',\n",
       " 'nonzero',\n",
       " 'partition',\n",
       " 'prod',\n",
       " 'ptp',\n",
       " 'put',\n",
       " 'ravel',\n",
       " 'real',\n",
       " 'repeat',\n",
       " 'reshape',\n",
       " 'resize',\n",
       " 'round',\n",
       " 'searchsorted',\n",
       " 'setfield',\n",
       " 'setflags',\n",
       " 'shape',\n",
       " 'size',\n",
       " 'sort',\n",
       " 'squeeze',\n",
       " 'std',\n",
       " 'strides',\n",
       " 'sum',\n",
       " 'swapaxes',\n",
       " 'take',\n",
       " 'tobytes',\n",
       " 'tofile',\n",
       " 'tolist',\n",
       " 'tostring',\n",
       " 'trace',\n",
       " 'transpose',\n",
       " 'var',\n",
       " 'view']"
      ]
     },
     "execution_count": 187,
     "metadata": {},
     "output_type": "execute_result"
    }
   ],
   "source": [
    "dir(rolls)"
   ]
  },
  {
   "cell_type": "code",
   "execution_count": null,
   "metadata": {
    "colab": {
     "base_uri": "https://localhost:8080/"
    },
    "executionInfo": {
     "elapsed": 69,
     "status": "ok",
     "timestamp": 1659873114096,
     "user": {
      "displayName": "Simeon Hristov",
      "userId": "14036852932086046142"
     },
     "user_tz": -180
    },
    "id": "o7j9FmA6MVDx",
    "outputId": "04ecbc9c-28b2-4534-9655-cc81abf6d66e"
   },
   "outputs": [
    {
     "data": {
      "text/plain": [
       "3.2"
      ]
     },
     "execution_count": 188,
     "metadata": {},
     "output_type": "execute_result"
    }
   ],
   "source": [
    "# If I want the average roll, the \"mean\" method looks promising...\n",
    "rolls.mean()"
   ]
  },
  {
   "cell_type": "code",
   "execution_count": null,
   "metadata": {
    "colab": {
     "base_uri": "https://localhost:8080/"
    },
    "executionInfo": {
     "elapsed": 57,
     "status": "ok",
     "timestamp": 1659873114096,
     "user": {
      "displayName": "Simeon Hristov",
      "userId": "14036852932086046142"
     },
     "user_tz": -180
    },
    "id": "1u0q0btEMZYN",
    "outputId": "533ed617-cbd1-4cc4-c293-b77ad6262088"
   },
   "outputs": [
    {
     "data": {
      "text/plain": [
       "[2, 4, 2, 3, 3, 3, 5, 2, 4, 4]"
      ]
     },
     "execution_count": 189,
     "metadata": {},
     "output_type": "execute_result"
    }
   ],
   "source": [
    "# Or maybe I just want to turn the array into a list, in which case I can use \"tolist\"\n",
    "rolls.tolist()"
   ]
  },
  {
   "cell_type": "code",
   "execution_count": null,
   "metadata": {
    "colab": {
     "base_uri": "https://localhost:8080/"
    },
    "executionInfo": {
     "elapsed": 48,
     "status": "ok",
     "timestamp": 1659873114097,
     "user": {
      "displayName": "Simeon Hristov",
      "userId": "14036852932086046142"
     },
     "user_tz": -180
    },
    "id": "p2jWGd9VInJI",
    "outputId": "c8288b3d-f0a4-4fe7-c7ed-29d2508c16cf"
   },
   "outputs": [
    {
     "data": {
      "text/plain": [
       "[2, 4, 2, 3, 3, 3, 5, 2, 4, 4]"
      ]
     },
     "execution_count": 190,
     "metadata": {},
     "output_type": "execute_result"
    }
   ],
   "source": [
    "# or use casting\n",
    "list(rolls)"
   ]
  },
  {
   "cell_type": "markdown",
   "metadata": {
    "id": "LoHX76fqMeP6"
   },
   "source": [
    ">**3**: `help()` (tell me more)"
   ]
  },
  {
   "cell_type": "code",
   "execution_count": null,
   "metadata": {
    "id": "PcfmhmIqJPVs"
   },
   "outputs": [],
   "source": [
    "help(rolls)"
   ]
  }
 ],
 "metadata": {
  "colab": {
   "collapsed_sections": [],
   "name": "1_python_basics.ipynb",
   "provenance": [],
   "toc_visible": true
  },
  "kernelspec": {
   "display_name": "myenv",
   "language": "python",
   "name": "python3"
  },
  "language_info": {
   "codemirror_mode": {
    "name": "ipython",
    "version": 3
   },
   "file_extension": ".py",
   "mimetype": "text/x-python",
   "name": "python",
   "nbconvert_exporter": "python",
   "pygments_lexer": "ipython3",
   "version": "3.13.1"
  }
 },
 "nbformat": 4,
 "nbformat_minor": 0
}
