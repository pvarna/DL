{
 "cells": [
  {
   "cell_type": "markdown",
   "metadata": {
    "id": "upSo4U9uVUcf"
   },
   "source": [
    "# Hello, Python 🐍 !\n",
    "\n",
    "<img src=\"https://www.python.org/static/community_logos/python-logo.png\" alt=\"drawing\" width=\"200\"/>\n",
    "\n",
    "The **final boss** notebook 😸!"
   ]
  },
  {
   "cell_type": "markdown",
   "metadata": {
    "id": "-Ng9POGsVgpJ"
   },
   "source": [
    "## Task 1\n",
    "\n",
    "Complete the body of the following function according to its docstring. Use a built-in function."
   ]
  },
  {
   "cell_type": "code",
   "execution_count": 2,
   "metadata": {
    "id": "JZJT_w1HVjU1"
   },
   "outputs": [
    {
     "data": {
      "text/plain": [
       "3.14"
      ]
     },
     "execution_count": 2,
     "metadata": {},
     "output_type": "execute_result"
    }
   ],
   "source": [
    "def round_to_two_places(num):\n",
    "  \"\"\"Return the given number rounded to two decimal places. \n",
    "\n",
    "  >>> round_to_two_places(3.14159)\n",
    "  3.14\n",
    "  \"\"\"\n",
    "  return round(num, 2)\n",
    "\n",
    "round_to_two_places(3.14159)"
   ]
  },
  {
   "cell_type": "markdown",
   "metadata": {
    "id": "EU0Mod-AVqno"
   },
   "source": [
    "## Task 2\n",
    "\n",
    "Each cell below contains some commented buggy code. For each line:\n",
    "\n",
    "  1. Read the code and predict write what the bug is.\n",
    "  2. Uncomment the code and run it to see what happens (tip: You can highlight several lines and press `Ctrl + /` to toggle commenting).\n",
    "  3. Fix the code (so that it accomplishes its intended purpose without throwing an exception).\n",
    "  4. Explain what the problem was."
   ]
  },
  {
   "cell_type": "code",
   "execution_count": null,
   "metadata": {
    "id": "SplqEVfkVvd-"
   },
   "outputs": [
    {
     "data": {
      "text/plain": [
       "10.0"
      ]
     },
     "execution_count": 5,
     "metadata": {},
     "output_type": "execute_result"
    }
   ],
   "source": [
    "round_to_two_places(9.9999)\n",
    "# there was a typo in the name of the function"
   ]
  },
  {
   "cell_type": "code",
   "execution_count": null,
   "metadata": {
    "id": "-7og2XuYVyNF"
   },
   "outputs": [
    {
     "data": {
      "text/plain": [
       "5"
      ]
     },
     "execution_count": 7,
     "metadata": {},
     "output_type": "execute_result"
    }
   ],
   "source": [
    "x = -10\n",
    "y = 5\n",
    "smallest_abs = min(abs(x), abs(y))\n",
    "smallest_abs # Should store and output\n",
    "# the variable with the smaller absolute value, i.e. 5.\n",
    "# abs accepts only 1 argument"
   ]
  },
  {
   "cell_type": "code",
   "execution_count": 8,
   "metadata": {
    "id": "kXTgX9DtV1c-"
   },
   "outputs": [
    {
     "name": "stdout",
     "output_type": "stream",
     "text": [
      "5\n"
     ]
    }
   ],
   "source": [
    "def f(x):\n",
    "    y = abs(x)\n",
    "    return y\n",
    "\n",
    "print(f(-5))\n",
    "# the line \"return y\" should be one tab further; Python is very sensitive for tabulations"
   ]
  },
  {
   "cell_type": "markdown",
   "metadata": {
    "id": "beSIr4doWkVZ"
   },
   "source": [
    "## Task 3\n",
    "\n",
    "Many programming languages have `sign` available as a built-in function. Python doesn't, but we can define our own!\n",
    "\n",
    "In the cell below, define **TWO** functions `is_neg_if` and `is_neg_ternary` that take a number and return `-1` if it's negative, `1` if it's positive, and `0` if it's 0. The first one should use if-then-else syntax while the second - ternary operators."
   ]
  },
  {
   "cell_type": "code",
   "execution_count": 9,
   "metadata": {
    "id": "DY27rf1NaMHP"
   },
   "outputs": [
    {
     "name": "stdout",
     "output_type": "stream",
     "text": [
      "-1\n",
      "-1\n"
     ]
    }
   ],
   "source": [
    "# Your code here\n",
    "\n",
    "def is_neg_if(num):\n",
    "    if num < 0:\n",
    "        return -1\n",
    "    elif num > 0:\n",
    "        return 1\n",
    "    else:\n",
    "        return 0\n",
    "    \n",
    "def is_neg_ternary(num):\n",
    "    return 1 if num > 0 else -1 if num < 0 else 0\n",
    "\n",
    "\n",
    "print(is_neg_if(-3))\n",
    "print(is_neg_ternary(-3))"
   ]
  },
  {
   "cell_type": "code",
   "execution_count": null,
   "metadata": {
    "colab": {
     "base_uri": "https://localhost:8080/"
    },
    "executionInfo": {
     "elapsed": 285,
     "status": "ok",
     "timestamp": 1659877618352,
     "user": {
      "displayName": "Simeon Hristov",
      "userId": "14036852932086046142"
     },
     "user_tz": -180
    },
    "id": "VpQa4SrkZ8ic",
    "outputId": "1c63602a-a75b-431e-a58f-15596104e1a7"
   },
   "outputs": [
    {
     "name": "stdout",
     "output_type": "stream",
     "text": [
      "-1\n",
      "-1\n"
     ]
    }
   ],
   "source": [
    "# Expected output"
   ]
  },
  {
   "cell_type": "markdown",
   "metadata": {
    "id": "arJQnxgyXLwH"
   },
   "source": [
    "## Task 4\n",
    "\n",
    "Modify the definition in the cell below to correct the grammar of our print statement **AND** work as described in the docstring (if there's only one candy, we should use the singular \"candy\" instead of the plural \"candies\")."
   ]
  },
  {
   "cell_type": "code",
   "execution_count": 10,
   "metadata": {
    "id": "6pjFJapBZ4IS"
   },
   "outputs": [
    {
     "name": "stdout",
     "output_type": "stream",
     "text": [
      "Splitting 91 candies\n",
      "91\n",
      "Splitting 1 candy\n",
      "1\n"
     ]
    }
   ],
   "source": [
    "def to_smash(total_candies):\n",
    "  \"\"\"Return the number of leftover candies that must be smashed after distributing\n",
    "  the given number of candies evenly between 3 friends.\n",
    "  \n",
    "  >>> to_smash(91)\n",
    "  Splitting 91 candies\n",
    "  1\n",
    "  >>> to_smash(1)\n",
    "  Splitting 1 candy\n",
    "  0\n",
    "  \"\"\"\n",
    "  print(f\"Splitting {total_candies} cand{\"ies\" if total_candies > 1 else \"y\"}\")\n",
    "  return total_candies\n",
    "\n",
    "print(to_smash(91))\n",
    "print(to_smash(1))"
   ]
  },
  {
   "cell_type": "code",
   "execution_count": null,
   "metadata": {
    "colab": {
     "base_uri": "https://localhost:8080/"
    },
    "executionInfo": {
     "elapsed": 321,
     "status": "ok",
     "timestamp": 1659878319073,
     "user": {
      "displayName": "Simeon Hristov",
      "userId": "14036852932086046142"
     },
     "user_tz": -180
    },
    "id": "ZYxL3s7Mbn-K",
    "outputId": "33e685f2-b893-454d-8212-aaf9b2616ebd"
   },
   "outputs": [
    {
     "name": "stdout",
     "output_type": "stream",
     "text": [
      "Splitting 91 candies\n",
      "1\n",
      "Splitting 1 candy\n",
      "0\n"
     ]
    }
   ],
   "source": [
    "# Expected output"
   ]
  },
  {
   "cell_type": "markdown",
   "metadata": {
    "id": "ZvQB6vwmXMbi"
   },
   "source": [
    "## Task 5\n",
    "\n",
    "The boolean variables ketchup, mustard and onion represent whether a customer wants a particular topping on their hot dog. We want to implement a number of boolean functions that correspond to some yes-or-no questions about the customer's order. For the next four functions, fill in the body to match the English description in the docstring."
   ]
  },
  {
   "cell_type": "code",
   "execution_count": 15,
   "metadata": {
    "id": "dlRmqGs-dg1s"
   },
   "outputs": [
    {
     "name": "stdout",
     "output_type": "stream",
     "text": [
      "True\n",
      "True\n"
     ]
    }
   ],
   "source": [
    "def onionless(ketchup, mustard, onion):\n",
    "  \"\"\"Return whether the customer doesn't want onions.\n",
    "  \"\"\"\n",
    "  return not onion\n",
    "\n",
    "print(onionless(True, True, False) == True)\n",
    "print(onionless(True, True, True) == False)"
   ]
  },
  {
   "cell_type": "code",
   "execution_count": 16,
   "metadata": {
    "id": "YKfjbjSmdig9"
   },
   "outputs": [
    {
     "name": "stdout",
     "output_type": "stream",
     "text": [
      "True\n",
      "True\n"
     ]
    }
   ],
   "source": [
    "def wants_all_toppings(ketchup, mustard, onion):\n",
    "  \"\"\"Return whether the customer wants \"the works\" (all 3 toppings).\n",
    "  \"\"\"\n",
    "  return ketchup and mustard and onion\n",
    "\n",
    "print(wants_all_toppings(True, True, True) == True)\n",
    "print(wants_all_toppings(True, False, True) == False)"
   ]
  },
  {
   "cell_type": "code",
   "execution_count": 17,
   "metadata": {
    "id": "pbeYx7rXdkEW"
   },
   "outputs": [
    {
     "name": "stdout",
     "output_type": "stream",
     "text": [
      "True\n",
      "True\n"
     ]
    }
   ],
   "source": [
    "def wants_plain_hotdog(ketchup, mustard, onion):\n",
    "  \"\"\"Return whether the customer wants a plain hot dog with no toppings.\n",
    "  \"\"\"\n",
    "  return not ketchup and not mustard and not onion\n",
    "\n",
    "print(wants_plain_hotdog(False, False, False) == True)\n",
    "print(wants_plain_hotdog(False, False, True) == False)"
   ]
  },
  {
   "cell_type": "code",
   "execution_count": 18,
   "metadata": {
    "id": "X0LW4K6odlMq"
   },
   "outputs": [
    {
     "name": "stdout",
     "output_type": "stream",
     "text": [
      "True\n",
      "True\n",
      "True\n",
      "True\n"
     ]
    }
   ],
   "source": [
    "def exactly_one_sauce(ketchup, mustard, onion):\n",
    "  \"\"\"Return whether the customer wants either ketchup or mustard, but not both.\n",
    "  (You may be familiar with this operation under the name \"exclusive or\")\n",
    "  \"\"\"\n",
    "  return (ketchup and not mustard and not onion) or (mustard and not ketchup and not onion) or (onion and not ketchup and not mustard)\n",
    "\n",
    "print(exactly_one_sauce(False, False, True) == True)\n",
    "print(exactly_one_sauce(False, True, False) == True)\n",
    "print(exactly_one_sauce(True, False, False) == True)\n",
    "print(exactly_one_sauce(False, False, False) == False)"
   ]
  },
  {
   "cell_type": "markdown",
   "metadata": {
    "id": "Kczpm7-9XQsi"
   },
   "source": [
    "## Task 6\n",
    "\n",
    "We’ve seen that calling `bool()` on an integer returns `False` if it’s equal to 0 and `True` otherwise. What happens if we call `int()` on a bool? Feel free to try it out in the notebook cell below.\n",
    "\n",
    "Can you take advantage of this to write a succinct function that corresponds to the English sentence \"does the customer want exactly one topping?\"?"
   ]
  },
  {
   "cell_type": "code",
   "execution_count": 19,
   "metadata": {
    "id": "bj30CulEedJQ"
   },
   "outputs": [
    {
     "name": "stdout",
     "output_type": "stream",
     "text": [
      "True\n",
      "True\n",
      "True\n",
      "True\n"
     ]
    }
   ],
   "source": [
    "def exactly_one_topping(ketchup, mustard, onion):\n",
    "  \"\"\"Return whether the customer wants exactly one of the three available toppings\n",
    "  on their hot dog.\n",
    "  \"\"\"\n",
    "  return int(ketchup) + int(mustard) + int(onion) == 1\n",
    "\n",
    "print(exactly_one_sauce(False, False, True) == True)\n",
    "print(exactly_one_sauce(False, True, False) == True)\n",
    "print(exactly_one_sauce(True, False, False) == True)\n",
    "print(exactly_one_sauce(False, False, False) == False)"
   ]
  },
  {
   "cell_type": "markdown",
   "metadata": {
    "id": "ruVAIYOAXU-N"
   },
   "source": [
    "## Task 7\n",
    "\n",
    "Complete the function according to the docstring."
   ]
  },
  {
   "cell_type": "code",
   "execution_count": 21,
   "metadata": {
    "id": "BSsoWBrke6Zw"
   },
   "outputs": [
    {
     "name": "stdout",
     "output_type": "stream",
     "text": [
      "2\n",
      "None\n"
     ]
    }
   ],
   "source": [
    "def select_second(l):\n",
    "  \"\"\"Return the second element of the given list. If the list has no second\n",
    "  element, return None.\n",
    "  \"\"\"\n",
    "  if (len(l) < 2):\n",
    "    return None\n",
    "  \n",
    "  return l[1]\n",
    "\n",
    "print(select_second([1, 2, 3]))\n",
    "print(select_second([1]))"
   ]
  },
  {
   "cell_type": "markdown",
   "metadata": {
    "id": "3KeTrAEKXXr6"
   },
   "source": [
    "## Task 8\n",
    "\n",
    "You are analyzing sports teams. Members of each team are stored in a list. The Coach is the first name in the list, the captain is the second name in the list, and other players are listed after that. These lists are stored in another list, which starts with the best team and proceeds through the list to the worst team last.  Complete the function below to select the **captain** of the worst team."
   ]
  },
  {
   "cell_type": "code",
   "execution_count": 22,
   "metadata": {
    "id": "3HY4HCxzfBpw"
   },
   "outputs": [
    {
     "data": {
      "text/plain": [
       "'Mitko'"
      ]
     },
     "execution_count": 22,
     "metadata": {},
     "output_type": "execute_result"
    }
   ],
   "source": [
    "def losing_team_captain(teams):\n",
    "  \"\"\"Given a list of teams, where each team is a list of names, return the 2nd player (captain)\n",
    "  from the last listed team\n",
    "  \"\"\"\n",
    "  return teams[-1][1]\n",
    "\n",
    "teams = [\n",
    "    [\"Ivan\", \"Pesho\", \"Gosho\"],\n",
    "    [\"Alex\", \"Niki\", \"Bobi\"],\n",
    "    [\"Stefan\", \"Mitko\", \"Radi\"]\n",
    "]\n",
    "\n",
    "losing_team_captain(teams)"
   ]
  },
  {
   "cell_type": "markdown",
   "metadata": {
    "id": "TvaB6AlrXaMh"
   },
   "source": [
    "## Task 9\n",
    "\n",
    "The next iteration of Mario Kart will feature an extra-infuriating new item, the *Purple Shell*. When used, it warps the last place racer into first place and the first place racer into last place. Complete the function below to implement the Purple Shell's effect.\n",
    "\n",
    "> **The solution should be on one line!**"
   ]
  },
  {
   "cell_type": "code",
   "execution_count": 23,
   "metadata": {
    "id": "OPs7E-BvfDyV"
   },
   "outputs": [
    {
     "data": {
      "text/plain": [
       "['Luigi', 'Bowser', 'Mario']"
      ]
     },
     "execution_count": 23,
     "metadata": {},
     "output_type": "execute_result"
    }
   ],
   "source": [
    "def purple_shell(racers):\n",
    "  \"\"\"Given a list of racers, set the first place racer (at the front of the list) to last\n",
    "  place and vice versa.\n",
    "  \n",
    "  >>> r = [\"Mario\", \"Bowser\", \"Luigi\"]\n",
    "  >>> purple_shell(r)\n",
    "  >>> r\n",
    "  [\"Luigi\", \"Bowser\", \"Mario\"]\n",
    "  \"\"\"\n",
    "  racers[0], racers[-1] = racers[-1], racers[0]\n",
    "\n",
    "r = [\"Mario\", \"Bowser\", \"Luigi\"]\n",
    "purple_shell(r)\n",
    "r"
   ]
  },
  {
   "cell_type": "markdown",
   "metadata": {
    "id": "x3wbj9mEXdpb"
   },
   "source": [
    "## Task 10\n",
    "\n",
    "We're using lists to record people who attended our party and what order they arrived in. For example, the following list represents a party with 7 guests, in which Adela showed up first and Ford was the last to arrive:\n",
    "\n",
    "```python\n",
    "arrivals = ['Adela', 'Fleda', 'Owen', 'May', 'Mona', 'Gilbert', 'Ford']\n",
    "```\n",
    "\n",
    "A guest is considered `fashionably late` if they arrived after at least half of the party's guests. However, they must not be the very last guest. In the above example, Mona and Gilbert are the only guests who were fashionably late.\n",
    "\n",
    "Complete the function below which takes a list of party attendees as well as a person, and tells us whether that person is fashionably late."
   ]
  },
  {
   "cell_type": "code",
   "execution_count": 26,
   "metadata": {
    "id": "K-TaqrEIfIDh"
   },
   "outputs": [
    {
     "data": {
      "text/plain": [
       "[False, False, False, False, True, True, False]"
      ]
     },
     "execution_count": 26,
     "metadata": {},
     "output_type": "execute_result"
    }
   ],
   "source": [
    "arrivals = ['Adela', 'Fleda', 'Owen', 'May', 'Mona', 'Gilbert', 'Ford']\n",
    "\n",
    "def is_fashionably_late(arrivals, name):\n",
    "  \"\"\"Given an ordered list of arrivals to the party and a name, return whether the guest with that\n",
    "  name was fashionably late.\n",
    "  \"\"\"\n",
    "  return name in arrivals[len(arrivals)//2+1:-1]\n",
    "\n",
    "list(map(lambda name: is_fashionably_late(arrivals, name), arrivals))"
   ]
  },
  {
   "cell_type": "markdown",
   "metadata": {
    "id": "RLwZi6ZLXgPl"
   },
   "source": [
    "## Task 11\n",
    "\n",
    "The following program has a bug. Try to identify the bug and fix it."
   ]
  },
  {
   "cell_type": "code",
   "execution_count": 28,
   "metadata": {
    "id": "XI0ZFVDhfK5u"
   },
   "outputs": [
    {
     "data": {
      "text/plain": [
       "True"
      ]
     },
     "execution_count": 28,
     "metadata": {},
     "output_type": "execute_result"
    }
   ],
   "source": [
    "def has_lucky_number(nums):\n",
    "    \"\"\"Return whether the given list of numbers is lucky. A lucky list contains\n",
    "    at least one number divisible by 7.\n",
    "    \"\"\"\n",
    "    for num in nums:\n",
    "        if num % 7 == 0:\n",
    "            return True\n",
    "    return False\n",
    "\n",
    "has_lucky_number([1, 2, 3, 4, 5, 6, 7, 8, 9, 10])"
   ]
  },
  {
   "cell_type": "markdown",
   "metadata": {
    "id": "tBSfjekTXiZF"
   },
   "source": [
    "## Task 12\n",
    "\n",
    "Python has some libraries (like numpy and pandas) that compare each element of a list to a number (i.e. do an 'element-wise' comparison) and return a list of booleans like [False, False, True, True].\n",
    "\n",
    "Implement a function that reproduces this behaviour, returning a list of booleans corresponding to whether the corresponding element is greater than n."
   ]
  },
  {
   "cell_type": "code",
   "execution_count": 29,
   "metadata": {
    "id": "tY8X7A7hfOFI"
   },
   "outputs": [
    {
     "data": {
      "text/plain": [
       "[False, False, True, True]"
      ]
     },
     "execution_count": 29,
     "metadata": {},
     "output_type": "execute_result"
    }
   ],
   "source": [
    "def elementwise_greater_than(l, thresh):\n",
    "  \"\"\"Return a list with the same length as l, where the value at index i is \n",
    "  True if l[i] is greater than thresh, and False otherwise.\n",
    "  \n",
    "  >>> elementwise_greater_than([1, 2, 3, 4], 2)\n",
    "  [False, False, True, True]\n",
    "  \"\"\"\n",
    "  return list(map(lambda elem: elem > thresh, l))\n",
    "\n",
    "elementwise_greater_than([1, 2, 3, 4], 2)"
   ]
  },
  {
   "cell_type": "markdown",
   "metadata": {
    "id": "tqRgNpLZXkUk"
   },
   "source": [
    "## Task 13\n",
    "\n",
    "Complete the body of the function below according to its docstring."
   ]
  },
  {
   "cell_type": "code",
   "execution_count": 31,
   "metadata": {
    "id": "nvMnAvYOfQbv"
   },
   "outputs": [
    {
     "name": "stdout",
     "output_type": "stream",
     "text": [
      "True\n",
      "True\n",
      "True\n",
      "True\n",
      "True\n"
     ]
    }
   ],
   "source": [
    "def menu_is_boring(meals):\n",
    "  \"\"\"Given a list of meals (strings) served over some period of time, return True if the\n",
    "  same meal has ever been served two days in a row, and False otherwise.\n",
    "  \"\"\"\n",
    "  if len(meals) < 2:\n",
    "    return False\n",
    "  \n",
    "  return meals[0] == meals[1] or menu_is_boring(meals[1:])\n",
    "\n",
    "print(menu_is_boring([\"Pasta\", \"Pasta\", \"Pizza\", \"Burger\"]) == True)\n",
    "print(menu_is_boring([\"Pasta\", \"Pizza\", \"Burger\", \"Salad\"]) == False)\n",
    "print(menu_is_boring([\"Soup\", \"Salad\", \"Steak\", \"Steak\"]) == True)\n",
    "print(menu_is_boring([\"Pasta\"]) == False)\n",
    "print(menu_is_boring([]) == False)"
   ]
  },
  {
   "cell_type": "markdown",
   "metadata": {
    "id": "KF4C_pcQXnNL"
   },
   "source": [
    "## Task 14\n",
    "\n",
    "There is a saying that \"Data scientists spend 80% of their time cleaning data, and 20% of their time complaining about cleaning data.\" Let's see if you can write a function to help clean US zip code data. Given a string, it should return whether or not that string represents a valid zip code. For our purposes, a valid zip code is any string consisting of exactly 5 digits.\n",
    "\n",
    "HINT: `str` has a method that will be useful here. Use `help(str)` to review a list of string methods."
   ]
  },
  {
   "cell_type": "code",
   "execution_count": null,
   "metadata": {
    "id": "hGNXdCKXfTaI"
   },
   "outputs": [],
   "source": [
    "def is_valid_zip(zip_code):\n",
    "  \"\"\"\n",
    "  Returns whether the input string is a valid (5 digit) zip code\n",
    "\n",
    "  Examples:\n",
    "  >>> is_valid_zip('1234')\n",
    "  False\n",
    "\n",
    "  >>> is_valid_zip('12345')\n",
    "  True\n",
    "  \"\"\"\n",
    "  return zip_code.isdigit() and len(zip_code) == 5"
   ]
  },
  {
   "cell_type": "markdown",
   "metadata": {
    "id": "ChbVqbtYXpmz"
   },
   "source": [
    "## Task 15\n",
    "\n",
    "A researcher has gathered thousands of news articles. But she wants to focus her attention on articles including a specific word. Complete the function below to help her filter her list of articles.\n",
    "\n",
    "Your function should meet the following criteria:\n",
    "\n",
    "- Do not include documents where the keyword string shows up only as a part of a larger word. For example, if she were looking for the keyword “closed”, you would not include the string “enclosed.” \n",
    "- She does not want you to distinguish upper case from lower case letters. So the phrase “Closed the case.” would be included when the keyword is “closed”\n",
    "- Do not let periods or commas affect what is matched. “It is closed.” would be included when the keyword is “closed”. But you can assume there are no other types of punctuation."
   ]
  },
  {
   "cell_type": "code",
   "execution_count": 34,
   "metadata": {
    "id": "SscQjRSmfWcB"
   },
   "outputs": [
    {
     "data": {
      "text/plain": [
       "[0]"
      ]
     },
     "execution_count": 34,
     "metadata": {},
     "output_type": "execute_result"
    }
   ],
   "source": [
    "def word_search(doc_list, keyword):\n",
    "  \"\"\"\n",
    "  Takes a list of documents (each document is a string) and a keyword. \n",
    "  Returns list of the index values into the original list for all documents \n",
    "  containing the keyword.\n",
    "\n",
    "  Example:\n",
    "  >>> doc_list = [\"The Learn Python Challenge Casino.\", \"They bought a car\", \"Casinoville\"]\n",
    "  >>> word_search(doc_list, 'casino')\n",
    "  [0]\n",
    "  \"\"\"\n",
    "  def check_doc(doc, keyword):\n",
    "    return keyword in list(map(lambda str: str.strip('.'), doc.lower().split(' ')))\n",
    "  \n",
    "  return list(map(lambda x: x[0], filter(lambda x: check_doc(x[1], keyword), enumerate(doc_list))))\n",
    "\n",
    "doc_list = [\"The Learn Python Challenge Casino.\", \"They bought a car\", \"Casinoville\"]\n",
    "word_search(doc_list, 'casino')"
   ]
  },
  {
   "cell_type": "markdown",
   "metadata": {
    "id": "yZ0I-BQKXsRk"
   },
   "source": [
    "## Task 16\n",
    "\n",
    "Now the researcher wants to supply multiple keywords to search for. Complete the function below to help her.\n",
    "\n",
    "(You're encouraged to use the `word_search` function you just wrote when implementing this function. Reusing code in this way makes your programs more robust and readable - and it saves typing!)"
   ]
  },
  {
   "cell_type": "code",
   "execution_count": 35,
   "metadata": {
    "id": "bxCR9JiufZaY"
   },
   "outputs": [
    {
     "data": {
      "text/plain": [
       "{'casino': [0, 1], 'they': [1]}"
      ]
     },
     "execution_count": 35,
     "metadata": {},
     "output_type": "execute_result"
    }
   ],
   "source": [
    "def multi_word_search(doc_list, keywords):\n",
    "  \"\"\"\n",
    "  Takes list of documents (each document is a string) and a list of keywords.  \n",
    "  Returns a dictionary where each key is a keyword, and the value is a list of indices\n",
    "  (from doc_list) of the documents containing that keyword\n",
    "\n",
    "  >>> doc_list = [\"The Learn Python Challenge Casino.\", \"They bought a car and a casino\", \"Casinoville\"]\n",
    "  >>> keywords = ['casino', 'they']\n",
    "  >>> multi_word_search(doc_list, keywords)\n",
    "  {'casino': [0, 1], 'they': [1]}\n",
    "  \"\"\"\n",
    "  return {keyword: word_search(doc_list, keyword) for keyword in keywords}\n",
    "\n",
    "doc_list = [\"The Learn Python Challenge Casino.\", \"They bought a car and a casino\", \"Casinoville\"]\n",
    "keywords = ['casino', 'they']\n",
    "multi_word_search(doc_list, keywords)"
   ]
  },
  {
   "cell_type": "markdown",
   "metadata": {
    "id": "USRDA0NpXuPj"
   },
   "source": [
    "## Task 17\n",
    "\n",
    "Given a string, return whether or not it forms a palindrome ignoring case and non-alphabetical characters.\n",
    "\n",
    "Ex: Given the following strings...\n",
    "\n",
    "```text\n",
    "\"level\", return true\n",
    "\"algorithm\", return false\n",
    "\"A man, a plan, a canal: Panama.\", return true\n",
    "```\n"
   ]
  },
  {
   "cell_type": "code",
   "execution_count": 47,
   "metadata": {
    "id": "5mPCx1RLknwT"
   },
   "outputs": [
    {
     "name": "stdout",
     "output_type": "stream",
     "text": [
      "True\n",
      "True\n",
      "True\n"
     ]
    }
   ],
   "source": [
    "# Your code here\n",
    "def is_palindrome(str):\n",
    "    str = \"\".join(list(filter(lambda ch: ch.isalpha(), str.lower())))\n",
    "    revStr = \"\".join(reversed(str))\n",
    "    return str == revStr\n",
    "\n",
    "print(is_palindrome(\"level\") == True)\n",
    "print(is_palindrome(\"algorithm\") == False)\n",
    "print(is_palindrome(\"A man, a plan, a canal: Panama.\") == True)"
   ]
  },
  {
   "cell_type": "markdown",
   "metadata": {
    "id": "IIWiI2HuXwq9"
   },
   "source": [
    "## Task 18\n",
    "\n",
    "Implement a function named `generate_range(min, max, step)`, which takes three arguments and generates a range of integers from min to max, with the step. The first integer is the minimum value, the second is the maximum of the range and the third is the step. `min` will always be less than max.\n",
    "\n",
    "```python\n",
    "generate_range(2, 10, 2) # should return list of [2,4,6,8,10]\n",
    "generate_range(1, 10, 3) # should return list of [1,4,7,10]\n",
    "```\n"
   ]
  },
  {
   "cell_type": "code",
   "execution_count": 49,
   "metadata": {
    "id": "SU_kqBV2krsm"
   },
   "outputs": [
    {
     "name": "stdout",
     "output_type": "stream",
     "text": [
      "[2, 4, 6, 8, 10]\n",
      "[1, 4, 7, 10]\n"
     ]
    }
   ],
   "source": [
    "# Your code here\n",
    "def generate_range(min, max, step):\n",
    "    return list(range(min, max + 1, step))\n",
    "\n",
    "print(generate_range(2, 10, 2))\n",
    "print(generate_range(1, 10, 3))"
   ]
  },
  {
   "cell_type": "markdown",
   "metadata": {
    "id": "ooQm5djJXyoT"
   },
   "source": [
    "## Task 19\n",
    "\n",
    "Given a string representing the sequence of moves a robot vacuum makes, return whether or not it will return to its original position. The string will only contain L, R, U, and D characters, representing left, right, up, and down respectively.\n",
    "\n",
    "Ex: Given the following strings...\n",
    "\n",
    "```text\n",
    "\"LR\", return true\n",
    "\"URURD\", return false\n",
    "\"RUULLDRD\", return true\n",
    "```\n"
   ]
  },
  {
   "cell_type": "code",
   "execution_count": 50,
   "metadata": {
    "id": "2qpjfXSpkt2I"
   },
   "outputs": [
    {
     "name": "stdout",
     "output_type": "stream",
     "text": [
      "True\n",
      "True\n",
      "True\n"
     ]
    }
   ],
   "source": [
    "def will_return_to_original_position(seq):\n",
    "    return seq.count('L') == seq.count('R') and seq.count('U') == seq.count('D')\n",
    "\n",
    "print(will_return_to_original_position(\"LR\") == True)\n",
    "print(will_return_to_original_position(\"URURD\") == False)\n",
    "print(will_return_to_original_position(\"RUULLDRD\") == True)"
   ]
  },
  {
   "cell_type": "markdown",
   "metadata": {
    "id": "J4dScHp4X1AV"
   },
   "source": [
    "## Task 20\n",
    "\n",
    "Given a array of numbers representing the stock prices of a company in chronological order, write a function that calculates the maximum profit you could have made from buying and selling that stock once. You must buy before you can sell it.\n",
    "\n",
    "For example, given [9, 11, 8, 5, 7, 10], you should return 5, since you could buy the stock at 5 dollars and sell it at 10 dollars.\n",
    "\n",
    "Test cases:\n",
    "\n",
    "```python\n",
    "max_profit([7, 1, 5, 3, 6, 4]) # => 5\n",
    "max_profit([7, 6, 4, 3, 1]) # => 0\n",
    "max_profit([2, 4, 1]) # => 2\n",
    "max_profit([3, 2, 6, 5, 0], 6) # => 4\n",
    "max_profit([2, 1]) # => 0\n",
    "max_profit([2, 1, 2, 1, 0, 0, 1]) # => 1\n",
    "```"
   ]
  },
  {
   "cell_type": "code",
   "execution_count": 51,
   "metadata": {
    "id": "xUqH8uqJnnCZ"
   },
   "outputs": [
    {
     "name": "stdout",
     "output_type": "stream",
     "text": [
      "5\n",
      "0\n",
      "2\n",
      "6\n",
      "0\n",
      "1\n"
     ]
    }
   ],
   "source": [
    "# Your code here\n",
    "\n",
    "def max_profit(prices):\n",
    "    if len(prices) < 2:\n",
    "        return 0\n",
    "    \n",
    "    min_price = prices[0]\n",
    "    max_profit = 0\n",
    "\n",
    "    for price in prices[1:]:\n",
    "        profit = price - min_price\n",
    "        max_profit = max(max_profit, profit)\n",
    "        min_price = min(min_price, price)\n",
    "\n",
    "    return max_profit\n",
    "\n",
    "print(max_profit([7, 1, 5, 3, 6, 4]))\n",
    "print(max_profit([7, 6, 4, 3, 1]))\n",
    "print(max_profit([2, 4, 1]))\n",
    "print(max_profit([3, 2, 6, 5, 0, 6]))\n",
    "print(max_profit([2, 1]))\n",
    "print(max_profit([2, 1, 2, 1, 0, 0, 1]))"
   ]
  },
  {
   "cell_type": "markdown",
   "metadata": {
    "id": "60xVIEc-VKK2"
   },
   "source": [
    "## Task 21\n",
    "\n",
    "Let us begin with an example:\n",
    "\n",
    "Take a number: `56789`. Rotate left, you get `67895`.\n",
    "\n",
    "Keep the first digit in place and rotate left the other digits: `68957`.\n",
    "\n",
    "Keep the first two digits in place and rotate the other ones: `68579`.\n",
    "\n",
    "Keep the first three digits and rotate left the rest: `68597`. Now it is over since keeping the first four it remains only one digit which rotated is itself.\n",
    "\n",
    "You have the following sequence of numbers:\n",
    "\n",
    "`56789 -> 67895 -> 68957 -> 68579 -> 68597`\n",
    "\n",
    "and you must return the greatest: `68957`.\n",
    "\n",
    "Write function which given a positive integer `n` returns the maximum number you got doing rotations similar to the above example."
   ]
  },
  {
   "cell_type": "code",
   "execution_count": null,
   "metadata": {
    "id": "MO9yNEUnvyN4"
   },
   "outputs": [
    {
     "data": {
      "text/plain": [
       "68957"
      ]
     },
     "execution_count": 59,
     "metadata": {},
     "output_type": "execute_result"
    }
   ],
   "source": [
    "# Your code here\n",
    "def max_rotated_number(num):\n",
    "    num_as_str = str(num)\n",
    "\n",
    "    seq = [num_as_str]\n",
    "    for i in range(len(num_as_str) - 1):\n",
    "        num_as_str = num_as_str[:i] + num_as_str[i+1:] + num_as_str[i]\n",
    "        seq.append(num_as_str)\n",
    "\n",
    "    max(list(map(lambda str: int(str), seq)))\n",
    "\n",
    "    return max(list(map(lambda str: int(str), seq)))\n",
    "\n",
    "max_rotated_number(56789) "
   ]
  }
 ],
 "metadata": {
  "colab": {
   "authorship_tag": "ABX9TyPKNO4FMnZGYKz+3TnJmh0Q",
   "collapsed_sections": [],
   "name": "3_python_advanced.ipynb",
   "provenance": [],
   "toc_visible": true
  },
  "kernelspec": {
   "display_name": "myenv",
   "language": "python",
   "name": "python3"
  },
  "language_info": {
   "codemirror_mode": {
    "name": "ipython",
    "version": 3
   },
   "file_extension": ".py",
   "mimetype": "text/x-python",
   "name": "python",
   "nbconvert_exporter": "python",
   "pygments_lexer": "ipython3",
   "version": "3.13.1"
  }
 },
 "nbformat": 4,
 "nbformat_minor": 0
}
