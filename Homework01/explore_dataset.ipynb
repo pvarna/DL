{
 "cells": [
  {
   "cell_type": "markdown",
   "id": "045ba3b0",
   "metadata": {},
   "source": [
    "# Домашна работа\n",
    "### По \"Въведение в дълбокото самообучение\"\n",
    "### На Петър Колев, ФН: 1MI3400571"
   ]
  },
  {
   "cell_type": "markdown",
   "id": "321fa13c",
   "metadata": {},
   "source": [
    "## Първоначално изследване на данните"
   ]
  },
  {
   "cell_type": "markdown",
   "id": "981d7f95",
   "metadata": {},
   "source": [
    "### Разпределение на данните по папки (Таблица 1)\n",
    "\n",
    "| Папка   |   Брок изображения |   Брой класове |\n",
    "|:--------|-------------------:|---------------:|\n",
    "| Train   |               3633 |             15 |\n",
    "| Val     |               1550 |             15 |\n",
    "| Test    |               1556 |             15 |"
   ]
  },
  {
   "cell_type": "markdown",
   "id": "f7fdcad2",
   "metadata": {},
   "source": [
    "### Разпределение на данните по класове (Таблица 2)\n",
    "\n",
    "| Цвят    |        Train |        Val |        Test |  Всички |\n",
    "|:--------|-------------:|-----------:|------------:|--------:|\n",
    "| blue    |          371 |        159 |         159 |     689 |\n",
    "| red     |          318 |        136 |         136 |     590 |\n",
    "| yellow  |          288 |        123 |         124 |     535 |\n",
    "| brown   |          282 |        121 |         121 |     524 |\n",
    "| green   |          282 |        120 |         121 |     523 |\n",
    "| purple  |          268 |        114 |         115 |     497 |\n",
    "| orange  |          267 |        114 |         114 |     495 |\n",
    "| pink    |          242 |        103 |         103 |     448 |\n",
    "| grey    |          214 |         91 |          92 |     397 |\n",
    "| beige   |          210 |         90 |          90 |     390 |\n",
    "| black   |          203 |         86 |          87 |     376 |\n",
    "| white   |          202 |         86 |          86 |     374 |\n",
    "| tan     |          200 |         85 |          86 |     371 |\n",
    "| silver  |          181 |         77 |          77 |     335 |\n",
    "| gold    |          105 |         45 |          45 |     195 |"
   ]
  },
  {
   "cell_type": "markdown",
   "id": "08a9cb95",
   "metadata": {},
   "source": [
    "### Разпределение ма изображенията по класове и папки (Графика 1)\n",
    "\n",
    "![Class‑count bar chart](assets/class_count_bar_chart.png)"
   ]
  },
  {
   "cell_type": "markdown",
   "id": "61385f10",
   "metadata": {},
   "source": [
    "### Случано избрани изображения от всеки клас (Графика 2)\n",
    "\n",
    "![Random-samle grid](assets/random_sample_grid.png)"
   ]
  },
  {
   "cell_type": "markdown",
   "id": "bcc2f086",
   "metadata": {},
   "source": [
    "### Разпределение на изображенията по височина и широчина (Графика 3)\n",
    "\n",
    "![Width & height histograms](assets/width_height_hist.png)"
   ]
  },
  {
   "cell_type": "markdown",
   "id": "4b1debe7",
   "metadata": {},
   "source": [
    "### Среден интензитет на цветовете за всеки клас (Графика 4)\n",
    "\n",
    "![Average RGB per class](assets/avg_rgb_bar.png)"
   ]
  },
  {
   "cell_type": "markdown",
   "id": "564532e6",
   "metadata": {},
   "source": [
    "### Augmentation (Графика 5)\n",
    "\n",
    "![Augmentation](assets/augmentation.png)"
   ]
  }
 ],
 "metadata": {
  "kernelspec": {
   "display_name": "myenv",
   "language": "python",
   "name": "python3"
  },
  "language_info": {
   "codemirror_mode": {
    "name": "ipython",
    "version": 3
   },
   "file_extension": ".py",
   "mimetype": "text/x-python",
   "name": "python",
   "nbconvert_exporter": "python",
   "pygments_lexer": "ipython3",
   "version": "3.13.2"
  }
 },
 "nbformat": 4,
 "nbformat_minor": 5
}
