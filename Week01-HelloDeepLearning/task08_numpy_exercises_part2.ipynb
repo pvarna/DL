{
 "cells": [
  {
   "cell_type": "markdown",
   "metadata": {
    "id": "-JsfzlbFE3A3"
   },
   "source": [
    "#### 1. Import NumPy\n",
    "\n",
    "Make sure to follow the conventions!"
   ]
  },
  {
   "cell_type": "code",
   "execution_count": 1,
   "metadata": {
    "collapsed": true,
    "id": "-KFBDcZ5E3A6"
   },
   "outputs": [],
   "source": [
    "# Your code here\n",
    "import numpy as np"
   ]
  },
  {
   "cell_type": "markdown",
   "metadata": {
    "id": "YepvzR5qE3A9"
   },
   "source": [
    "#### 2. Create an array of 10 zeros "
   ]
  },
  {
   "cell_type": "code",
   "execution_count": 2,
   "metadata": {
    "collapsed": true,
    "id": "x5RpxdUGE3A_"
   },
   "outputs": [
    {
     "data": {
      "text/plain": [
       "array([0., 0., 0., 0., 0., 0., 0., 0., 0., 0.])"
      ]
     },
     "execution_count": 2,
     "metadata": {},
     "output_type": "execute_result"
    }
   ],
   "source": [
    "# Your code here\n",
    "np.zeros(10)"
   ]
  },
  {
   "cell_type": "code",
   "execution_count": null,
   "metadata": {
    "id": "678qkOw9E3BD",
    "outputId": "f14cc7bc-f524-43c5-ab2d-f5df9257c246"
   },
   "outputs": [
    {
     "data": {
      "text/plain": [
       "array([0., 0., 0., 0., 0., 0., 0., 0., 0., 0.])"
      ]
     },
     "execution_count": 2,
     "metadata": {},
     "output_type": "execute_result"
    }
   ],
   "source": [
    "# Expected output"
   ]
  },
  {
   "cell_type": "markdown",
   "metadata": {
    "id": "CKl8Et_hE3BG"
   },
   "source": [
    "#### 3. Create an array of 10 ones"
   ]
  },
  {
   "cell_type": "code",
   "execution_count": 3,
   "metadata": {
    "collapsed": true,
    "id": "c3V8A17lE3BI"
   },
   "outputs": [
    {
     "data": {
      "text/plain": [
       "array([1., 1., 1., 1., 1., 1., 1., 1., 1., 1.])"
      ]
     },
     "execution_count": 3,
     "metadata": {},
     "output_type": "execute_result"
    }
   ],
   "source": [
    "np.ones(10)"
   ]
  },
  {
   "cell_type": "code",
   "execution_count": null,
   "metadata": {
    "id": "6XIyS1ITE3BJ",
    "outputId": "1db0dae0-1860-4e33-ac17-4891a1610468"
   },
   "outputs": [
    {
     "data": {
      "text/plain": [
       "array([1., 1., 1., 1., 1., 1., 1., 1., 1., 1.])"
      ]
     },
     "execution_count": 3,
     "metadata": {},
     "output_type": "execute_result"
    }
   ],
   "source": [
    "# Expected output"
   ]
  },
  {
   "cell_type": "markdown",
   "metadata": {
    "id": "T5w7aq-tE3BM"
   },
   "source": [
    "#### 4. Create an array of 10 fives"
   ]
  },
  {
   "cell_type": "code",
   "execution_count": 4,
   "metadata": {
    "collapsed": true,
    "id": "wdM1NW3sE3BO"
   },
   "outputs": [
    {
     "data": {
      "text/plain": [
       "array([5, 5, 5, 5, 5, 5, 5, 5, 5, 5])"
      ]
     },
     "execution_count": 4,
     "metadata": {},
     "output_type": "execute_result"
    }
   ],
   "source": [
    "np.full(10, 5)"
   ]
  },
  {
   "cell_type": "code",
   "execution_count": null,
   "metadata": {
    "id": "374mrGGbE3BP",
    "outputId": "c76b7483-1625-4d0e-f85b-74b2ca71b974"
   },
   "outputs": [
    {
     "data": {
      "text/plain": [
       "array([5., 5., 5., 5., 5., 5., 5., 5., 5., 5.])"
      ]
     },
     "execution_count": 4,
     "metadata": {},
     "output_type": "execute_result"
    }
   ],
   "source": [
    "# Expected output"
   ]
  },
  {
   "cell_type": "markdown",
   "metadata": {
    "id": "hLChAScS6hHG"
   },
   "source": [
    "#### 5. Create a vector, named `arr`, of 10 zeros the fifth value of which is 1."
   ]
  },
  {
   "cell_type": "code",
   "execution_count": 5,
   "metadata": {
    "id": "Nj0b1JE17SBr"
   },
   "outputs": [
    {
     "data": {
      "text/plain": [
       "array([0., 0., 0., 0., 1., 0., 0., 0., 0., 0.])"
      ]
     },
     "execution_count": 5,
     "metadata": {},
     "output_type": "execute_result"
    }
   ],
   "source": [
    "np_arr = np.zeros(10)\n",
    "np_arr[4] = 1\n",
    "\n",
    "np_arr"
   ]
  },
  {
   "cell_type": "code",
   "execution_count": null,
   "metadata": {
    "colab": {
     "base_uri": "https://localhost:8080/"
    },
    "executionInfo": {
     "elapsed": 17,
     "status": "ok",
     "timestamp": 1660389362927,
     "user": {
      "displayName": "Simeon Hristov",
      "userId": "14036852932086046142"
     },
     "user_tz": -180
    },
    "id": "Nm5kTOOH6fDk",
    "outputId": "845b883d-3640-44e5-8caf-d967d77ac259"
   },
   "outputs": [
    {
     "data": {
      "text/plain": [
       "array([0., 0., 0., 0., 1., 0., 0., 0., 0., 0.])"
      ]
     },
     "execution_count": 3,
     "metadata": {},
     "output_type": "execute_result"
    }
   ],
   "source": [
    "# Expected output"
   ]
  },
  {
   "cell_type": "markdown",
   "metadata": {
    "id": "UJXu8y8PE3BU"
   },
   "source": [
    "#### 6. Create an array of the integers from 10 to 50"
   ]
  },
  {
   "cell_type": "code",
   "execution_count": 6,
   "metadata": {
    "collapsed": true,
    "id": "e4Aqcu66E3BW"
   },
   "outputs": [
    {
     "data": {
      "text/plain": [
       "array([10, 11, 12, 13, 14, 15, 16, 17, 18, 19, 20, 21, 22, 23, 24, 25, 26,\n",
       "       27, 28, 29, 30, 31, 32, 33, 34, 35, 36, 37, 38, 39, 40, 41, 42, 43,\n",
       "       44, 45, 46, 47, 48, 49, 50])"
      ]
     },
     "execution_count": 6,
     "metadata": {},
     "output_type": "execute_result"
    }
   ],
   "source": [
    "np.arange(10, 51)"
   ]
  },
  {
   "cell_type": "code",
   "execution_count": null,
   "metadata": {
    "id": "eIJP50wgE3BW",
    "outputId": "dbd75d65-e088-4c0b-f18f-449a3fa9b0a4"
   },
   "outputs": [
    {
     "data": {
      "text/plain": [
       "array([10, 11, 12, 13, 14, 15, 16, 17, 18, 19, 20, 21, 22, 23, 24, 25, 26,\n",
       "       27, 28, 29, 30, 31, 32, 33, 34, 35, 36, 37, 38, 39, 40, 41, 42, 43,\n",
       "       44, 45, 46, 47, 48, 49, 50])"
      ]
     },
     "execution_count": 5,
     "metadata": {},
     "output_type": "execute_result"
    }
   ],
   "source": [
    "# Expected output"
   ]
  },
  {
   "cell_type": "markdown",
   "metadata": {
    "id": "ntJf6Yvw7qPf"
   },
   "source": [
    "#### 7. Reverse an array in **TWO** ways: using 'the Python way' and using a NumPy function"
   ]
  },
  {
   "cell_type": "code",
   "execution_count": 8,
   "metadata": {
    "id": "48YRS8FT8R71"
   },
   "outputs": [
    {
     "name": "stdout",
     "output_type": "stream",
     "text": [
      "Using the Python way: [3 2 1]\n",
      "Using a NumPy function: [3 2 1]\n"
     ]
    }
   ],
   "source": [
    "arr = np.array([1, 2, 3])\n",
    "# Your code here\n",
    "\n",
    "print(f\"Using the Python way: {arr[::-1]}\")\n",
    "print(f\"Using a NumPy function: {np.flip(arr)}\")"
   ]
  },
  {
   "cell_type": "code",
   "execution_count": null,
   "metadata": {
    "colab": {
     "base_uri": "https://localhost:8080/"
    },
    "executionInfo": {
     "elapsed": 612,
     "status": "ok",
     "timestamp": 1660389720070,
     "user": {
      "displayName": "Simeon Hristov",
      "userId": "14036852932086046142"
     },
     "user_tz": -180
    },
    "id": "JTxb_NWQ7qph",
    "outputId": "87e8d92a-988b-407b-f62c-17a37eb7bf4b"
   },
   "outputs": [
    {
     "name": "stdout",
     "output_type": "stream",
     "text": [
      "Using the Python way: [3 2 1]\n",
      "Using a NumPy function: [3 2 1]\n"
     ]
    }
   ],
   "source": [
    "# Expected output"
   ]
  },
  {
   "cell_type": "markdown",
   "metadata": {
    "id": "j2cdByl9A2az"
   },
   "source": [
    "#### 8. Create a 5x5 array with 1 on the border and 0 inside"
   ]
  },
  {
   "cell_type": "code",
   "execution_count": 10,
   "metadata": {
    "id": "AWKbpFQcBdGT"
   },
   "outputs": [
    {
     "name": "stdout",
     "output_type": "stream",
     "text": [
      "[[1. 1. 1. 1. 1.]\n",
      " [1. 0. 0. 0. 1.]\n",
      " [1. 0. 0. 0. 1.]\n",
      " [1. 0. 0. 0. 1.]\n",
      " [1. 1. 1. 1. 1.]]\n"
     ]
    }
   ],
   "source": [
    "arr = np.ones((5, 5))\n",
    "arr[1:-1, 1:-1] = 0\n",
    "print(arr)"
   ]
  },
  {
   "cell_type": "code",
   "execution_count": null,
   "metadata": {
    "colab": {
     "base_uri": "https://localhost:8080/"
    },
    "executionInfo": {
     "elapsed": 514,
     "status": "ok",
     "timestamp": 1660391015482,
     "user": {
      "displayName": "Simeon Hristov",
      "userId": "14036852932086046142"
     },
     "user_tz": -180
    },
    "id": "AfLBcU-pA2u-",
    "outputId": "a50dc7ad-a163-4bcb-8fed-94945625285f"
   },
   "outputs": [
    {
     "data": {
      "text/plain": [
       "array([[1., 1., 1., 1., 1.],\n",
       "       [1., 0., 0., 0., 1.],\n",
       "       [1., 0., 0., 0., 1.],\n",
       "       [1., 0., 0., 0., 1.],\n",
       "       [1., 1., 1., 1., 1.]])"
      ]
     },
     "execution_count": 20,
     "metadata": {},
     "output_type": "execute_result"
    }
   ],
   "source": [
    "# Expected output"
   ]
  },
  {
   "attachments": {},
   "cell_type": "markdown",
   "metadata": {
    "id": "kVEGLnbvBM7n"
   },
   "source": [
    "#### 9. Add a border filled with 0's on the two sides of an array.\n",
    "\n",
    "> Hint: [np.pad](https://numpy.org/doc/stable/reference/generated/numpy.pad.html)"
   ]
  },
  {
   "cell_type": "code",
   "execution_count": 12,
   "metadata": {
    "id": "Ngcnwk3TBf5C"
   },
   "outputs": [
    {
     "data": {
      "text/plain": [
       "array([0, 1, 2, 3, 0])"
      ]
     },
     "execution_count": 12,
     "metadata": {},
     "output_type": "execute_result"
    }
   ],
   "source": [
    "arr = np.array([1, 2, 3])\n",
    "\n",
    "np.pad(arr, pad_width=(1, 1))"
   ]
  },
  {
   "cell_type": "code",
   "execution_count": null,
   "metadata": {
    "colab": {
     "base_uri": "https://localhost:8080/"
    },
    "executionInfo": {
     "elapsed": 523,
     "status": "ok",
     "timestamp": 1660391095670,
     "user": {
      "displayName": "Simeon Hristov",
      "userId": "14036852932086046142"
     },
     "user_tz": -180
    },
    "id": "YOl3fb2DBNPJ",
    "outputId": "552be39d-2e8d-45d2-cd0a-892ad6867dfa"
   },
   "outputs": [
    {
     "data": {
      "text/plain": [
       "array([0, 1, 2, 3, 0])"
      ]
     },
     "execution_count": 21,
     "metadata": {},
     "output_type": "execute_result"
    }
   ],
   "source": [
    "# Expected output"
   ]
  },
  {
   "cell_type": "markdown",
   "metadata": {
    "id": "wxWKE-vBE3BY"
   },
   "source": [
    "#### 10. Create an array of all the even integers from 10 to 50"
   ]
  },
  {
   "cell_type": "code",
   "execution_count": 14,
   "metadata": {
    "collapsed": true,
    "id": "Qcc9NI7LE3Bb"
   },
   "outputs": [
    {
     "data": {
      "text/plain": [
       "array([10, 12, 14, 16, 18, 20, 22, 24, 26, 28, 30, 32, 34, 36, 38, 40, 42,\n",
       "       44, 46, 48, 50])"
      ]
     },
     "execution_count": 14,
     "metadata": {},
     "output_type": "execute_result"
    }
   ],
   "source": [
    "np.arange(10, 51, 2)"
   ]
  },
  {
   "cell_type": "code",
   "execution_count": null,
   "metadata": {
    "id": "295MCnOYE3Bb",
    "outputId": "41cf43f3-92c4-436f-cc21-86bb0e0234a0"
   },
   "outputs": [
    {
     "data": {
      "text/plain": [
       "array([10, 12, 14, 16, 18, 20, 22, 24, 26, 28, 30, 32, 34, 36, 38, 40, 42,\n",
       "       44, 46, 48, 50])"
      ]
     },
     "execution_count": 6,
     "metadata": {},
     "output_type": "execute_result"
    }
   ],
   "source": [
    "# Expected output"
   ]
  },
  {
   "cell_type": "markdown",
   "metadata": {
    "id": "8OhFkP71E3Bc"
   },
   "source": [
    "#### 11. Create a 3x3 matrix with values ranging from 0 to 8"
   ]
  },
  {
   "cell_type": "code",
   "execution_count": 15,
   "metadata": {
    "collapsed": true,
    "id": "APZiupuXE3Be"
   },
   "outputs": [
    {
     "data": {
      "text/plain": [
       "array([[0, 1, 2],\n",
       "       [3, 4, 5],\n",
       "       [6, 7, 8]])"
      ]
     },
     "execution_count": 15,
     "metadata": {},
     "output_type": "execute_result"
    }
   ],
   "source": [
    "np.arange(9).reshape(3, 3)"
   ]
  },
  {
   "cell_type": "code",
   "execution_count": null,
   "metadata": {
    "id": "2VpDokkhE3Be",
    "outputId": "e4803343-9cc9-4cd1-a010-071685e62c5f"
   },
   "outputs": [
    {
     "data": {
      "text/plain": [
       "array([[0, 1, 2],\n",
       "       [3, 4, 5],\n",
       "       [6, 7, 8]])"
      ]
     },
     "execution_count": 7,
     "metadata": {},
     "output_type": "execute_result"
    }
   ],
   "source": [
    "# Expected output"
   ]
  },
  {
   "cell_type": "markdown",
   "metadata": {
    "id": "f4ybYue7E3Bg"
   },
   "source": [
    "#### 12. Create a 3x3 identity matrix"
   ]
  },
  {
   "cell_type": "code",
   "execution_count": 16,
   "metadata": {
    "collapsed": true,
    "id": "7GWjKOUIE3Bi"
   },
   "outputs": [
    {
     "data": {
      "text/plain": [
       "array([[1., 0., 0.],\n",
       "       [0., 1., 0.],\n",
       "       [0., 0., 1.]])"
      ]
     },
     "execution_count": 16,
     "metadata": {},
     "output_type": "execute_result"
    }
   ],
   "source": [
    "np.eye(3)"
   ]
  },
  {
   "cell_type": "code",
   "execution_count": null,
   "metadata": {
    "id": "-yygr2BIE3Bj",
    "outputId": "04283409-1e28-450f-d0e4-be45c27e732a"
   },
   "outputs": [
    {
     "data": {
      "text/plain": [
       "array([[1., 0., 0.],\n",
       "       [0., 1., 0.],\n",
       "       [0., 0., 1.]])"
      ]
     },
     "execution_count": 8,
     "metadata": {},
     "output_type": "execute_result"
    }
   ],
   "source": [
    "# Expected output"
   ]
  },
  {
   "attachments": {},
   "cell_type": "markdown",
   "metadata": {
    "id": "2Lv2vt14Blnd"
   },
   "source": [
    "#### 13. Create a 5x5 matrix with values 1,2,3,4 just below the diagonal\n",
    "\n",
    "> Hint: [np.diag](https://numpy.org/doc/stable/reference/generated/numpy.diag.html)"
   ]
  },
  {
   "cell_type": "code",
   "execution_count": 19,
   "metadata": {
    "id": "5502QmG_Bl9B"
   },
   "outputs": [
    {
     "data": {
      "text/plain": [
       "array([[0, 0, 0, 0, 0],\n",
       "       [1, 0, 0, 0, 0],\n",
       "       [0, 2, 0, 0, 0],\n",
       "       [0, 0, 3, 0, 0],\n",
       "       [0, 0, 0, 4, 0]])"
      ]
     },
     "execution_count": 19,
     "metadata": {},
     "output_type": "execute_result"
    }
   ],
   "source": [
    "np.diag(np.array([1, 2, 3, 4]), k = -1)"
   ]
  },
  {
   "cell_type": "code",
   "execution_count": null,
   "metadata": {
    "colab": {
     "base_uri": "https://localhost:8080/"
    },
    "executionInfo": {
     "elapsed": 416,
     "status": "ok",
     "timestamp": 1660391377166,
     "user": {
      "displayName": "Simeon Hristov",
      "userId": "14036852932086046142"
     },
     "user_tz": -180
    },
    "id": "JFwXEtSFCedp",
    "outputId": "7b991ac1-e3a0-43b5-9bc0-5c86b051bac7"
   },
   "outputs": [
    {
     "data": {
      "text/plain": [
       "array([[0, 0, 0, 0, 0],\n",
       "       [1, 0, 0, 0, 0],\n",
       "       [0, 2, 0, 0, 0],\n",
       "       [0, 0, 3, 0, 0],\n",
       "       [0, 0, 0, 4, 0]])"
      ]
     },
     "execution_count": 22,
     "metadata": {},
     "output_type": "execute_result"
    }
   ],
   "source": [
    "# Expected output"
   ]
  },
  {
   "cell_type": "markdown",
   "metadata": {
    "id": "vncZ8OjmE3Bk"
   },
   "source": [
    "#### 14. Use NumPy to generate a random number between 0 and 1\n",
    "\n",
    "**Note**: Your result's value should be different from the one shown below."
   ]
  },
  {
   "cell_type": "code",
   "execution_count": 21,
   "metadata": {
    "collapsed": true,
    "id": "1Ha0bAioE3Bl"
   },
   "outputs": [
    {
     "data": {
      "text/plain": [
       "0.21276502023216182"
      ]
     },
     "execution_count": 21,
     "metadata": {},
     "output_type": "execute_result"
    }
   ],
   "source": [
    "np.random.rand()"
   ]
  },
  {
   "cell_type": "code",
   "execution_count": null,
   "metadata": {
    "id": "QsEWEcd7E3Bl",
    "outputId": "ed838451-65b8-493e-ef58-8fa0c9b4d09b"
   },
   "outputs": [
    {
     "data": {
      "text/plain": [
       "array([0.65248055])"
      ]
     },
     "execution_count": 9,
     "metadata": {},
     "output_type": "execute_result"
    }
   ],
   "source": [
    "# Expected output"
   ]
  },
  {
   "cell_type": "markdown",
   "metadata": {
    "id": "w_XXXzl5E3Bn"
   },
   "source": [
    "#### 15. Use NumPy to generate an array of 25 random numbers sampled from a standard normal distribution\n",
    "\n",
    "**Note**: Your result's values should be different from the ones shown below."
   ]
  },
  {
   "cell_type": "code",
   "execution_count": 22,
   "metadata": {
    "collapsed": true,
    "id": "7aLBnXpAE3Bo"
   },
   "outputs": [
    {
     "data": {
      "text/plain": [
       "array([-0.28199545,  1.96861856, -0.71081142, -1.42496089,  1.65793112,\n",
       "       -0.3649231 ,  0.66020548,  2.29952214, -0.55960686,  0.22431888,\n",
       "        1.31704451, -0.23506369,  0.4769363 , -0.72052543, -0.72491244,\n",
       "        0.55630374,  0.55563724,  0.46575688,  3.12123493, -0.73491755,\n",
       "       -0.6684617 ,  0.20838135,  1.01631896,  1.08680492,  1.09558831])"
      ]
     },
     "execution_count": 22,
     "metadata": {},
     "output_type": "execute_result"
    }
   ],
   "source": [
    "np.random.randn(25)"
   ]
  },
  {
   "cell_type": "code",
   "execution_count": null,
   "metadata": {
    "id": "P_NpaqmcE3Bo",
    "outputId": "4a926b63-618e-45dd-b26d-57f15b5bd5b0"
   },
   "outputs": [
    {
     "data": {
      "text/plain": [
       "array([ 1.80076712, -1.12375847, -0.98524305,  0.11673573,  1.96346762,\n",
       "        1.81378592, -0.33790771,  0.85012656,  0.0100703 , -0.91005957,\n",
       "        0.29064366,  0.69906357,  0.1774377 , -0.61958694, -0.45498611,\n",
       "       -2.0804685 , -0.06778549,  1.06403819,  0.4311884 , -1.09853837,\n",
       "        1.11980469, -0.48751963,  1.32517611, -0.61775122, -0.00622865])"
      ]
     },
     "execution_count": 10,
     "metadata": {},
     "output_type": "execute_result"
    }
   ],
   "source": [
    "# Expected output"
   ]
  },
  {
   "cell_type": "markdown",
   "metadata": {
    "id": "P4gaaqiC-bpK"
   },
   "source": [
    "#### 16. Create a 3x3x3 array with random values drawn from the uniform distribution\n",
    "\n",
    "**Note**: Your result's values should be different from the ones shown below.\n"
   ]
  },
  {
   "cell_type": "code",
   "execution_count": 23,
   "metadata": {
    "id": "iPqIUnBsABK9"
   },
   "outputs": [
    {
     "data": {
      "text/plain": [
       "array([[[0.94393295, 0.70491623, 0.2571953 ],\n",
       "        [0.60156638, 0.47065642, 0.07655899],\n",
       "        [0.46443895, 0.80866267, 0.20053517]],\n",
       "\n",
       "       [[0.68961703, 0.87294975, 0.86713582],\n",
       "        [0.33620896, 0.66562258, 0.95753222],\n",
       "        [0.29670246, 0.04617124, 0.50554755]],\n",
       "\n",
       "       [[0.12433876, 0.56032283, 0.07850889],\n",
       "        [0.76195842, 0.22100979, 0.2095663 ],\n",
       "        [0.7144198 , 0.10974293, 0.78715034]]])"
      ]
     },
     "execution_count": 23,
     "metadata": {},
     "output_type": "execute_result"
    }
   ],
   "source": [
    "np.random.uniform(0, 1, (3, 3, 3))"
   ]
  },
  {
   "cell_type": "code",
   "execution_count": null,
   "metadata": {
    "colab": {
     "base_uri": "https://localhost:8080/"
    },
    "executionInfo": {
     "elapsed": 551,
     "status": "ok",
     "timestamp": 1660390473473,
     "user": {
      "displayName": "Simeon Hristov",
      "userId": "14036852932086046142"
     },
     "user_tz": -180
    },
    "id": "ZGdKczxo-cF4",
    "outputId": "c3d8b909-33c3-46ea-91ca-14e761830d74"
   },
   "outputs": [
    {
     "data": {
      "text/plain": [
       "array([[[0.93641099, 0.2920839 , 0.02292815],\n",
       "        [0.00336922, 0.86947306, 0.68416644],\n",
       "        [0.8901026 , 0.3837379 , 0.28653589]],\n",
       "\n",
       "       [[0.10726099, 0.43744832, 0.00470833],\n",
       "        [0.29069139, 0.64529908, 0.85020447],\n",
       "        [0.51284435, 0.41215324, 0.19622211]],\n",
       "\n",
       "       [[0.43004522, 0.92649706, 0.09472069],\n",
       "        [0.76510854, 0.49565729, 0.56232861],\n",
       "        [0.07813665, 0.49086324, 0.45172232]]])"
      ]
     },
     "execution_count": 13,
     "metadata": {},
     "output_type": "execute_result"
    }
   ],
   "source": [
    "# Expected output"
   ]
  },
  {
   "cell_type": "markdown",
   "metadata": {
    "id": "OINlYs2D_PhM"
   },
   "source": [
    "#### 17. Create a 10x10 array with random values drawn from the uniform distribution and find the minimum and maximum values.\n",
    "\n",
    "**Note**: Your result's values should be different from the ones shown below."
   ]
  },
  {
   "cell_type": "code",
   "execution_count": 26,
   "metadata": {
    "id": "76ygftSiAIOw"
   },
   "outputs": [
    {
     "name": "stdout",
     "output_type": "stream",
     "text": [
      "The array: [[0.06208114 0.93809103 0.8644308  0.75894018 0.79863385 0.65150113\n",
      "  0.40644156 0.31658849 0.17513805 0.80234188]\n",
      " [0.61968825 0.49397414 0.44050591 0.9837653  0.94728803 0.45639762\n",
      "  0.54600069 0.42272786 0.31979617 0.9023839 ]\n",
      " [0.19250536 0.28157652 0.5575928  0.02996963 0.09318511 0.15756165\n",
      "  0.73422495 0.05857978 0.12397887 0.99865024]\n",
      " [0.48875928 0.41576676 0.45703016 0.46656052 0.60341001 0.31652889\n",
      "  0.54721416 0.58386718 0.7443502  0.05237371]\n",
      " [0.81504082 0.99398422 0.78387198 0.86112667 0.12318034 0.22610233\n",
      "  0.54786049 0.06089663 0.30961857 0.71882148]\n",
      " [0.46210703 0.67117955 0.74679905 0.84007922 0.83451131 0.28493772\n",
      "  0.80862286 0.14349897 0.18404617 0.37172177]\n",
      " [0.76082964 0.03756301 0.79861662 0.13285742 0.10946433 0.4884307\n",
      "  0.85094983 0.38188236 0.78323548 0.76253522]\n",
      " [0.03612167 0.5975337  0.6926339  0.35511459 0.67892097 0.65345996\n",
      "  0.03101107 0.52245968 0.53584319 0.33685402]\n",
      " [0.88063561 0.42498562 0.09681691 0.09712093 0.26450887 0.56622664\n",
      "  0.32905433 0.66216879 0.85668359 0.22271593]\n",
      " [0.36622428 0.70894403 0.90740507 0.10925017 0.0552517  0.45683666\n",
      "  0.04624957 0.71114466 0.86122846 0.11117733]]\n",
      "Its min value: 0.029969630960700044\n",
      "Its max value: 0.9986502447833879\n"
     ]
    }
   ],
   "source": [
    "arr = np.random.uniform(0, 1, (10, 10))\n",
    "print(f\"The array: {arr}\")\n",
    "print(f\"Its min value: {np.min(arr)}\")\n",
    "print(f\"Its max value: {np.max(arr)}\")"
   ]
  },
  {
   "cell_type": "code",
   "execution_count": null,
   "metadata": {
    "colab": {
     "base_uri": "https://localhost:8080/"
    },
    "executionInfo": {
     "elapsed": 617,
     "status": "ok",
     "timestamp": 1660390716892,
     "user": {
      "displayName": "Simeon Hristov",
      "userId": "14036852932086046142"
     },
     "user_tz": -180
    },
    "id": "VjK7Pa8L_P4x",
    "outputId": "bdb065d1-b1e4-4ab4-d31a-df8cd57228b6"
   },
   "outputs": [
    {
     "name": "stdout",
     "output_type": "stream",
     "text": [
      "The array: [[0.19932859 0.92905065 0.55492647 0.09878608 0.0421074  0.74219358\n",
      "  0.92844055 0.62528946 0.35357668 0.88013918]\n",
      " [0.36971412 0.74932736 0.02445995 0.72873717 0.48864481 0.14421664\n",
      "  0.56846658 0.40363749 0.3233466  0.95147426]\n",
      " [0.98339368 0.39612436 0.03609193 0.10611245 0.1410213  0.21099682\n",
      "  0.3285783  0.39140252 0.88863881 0.81498748]\n",
      " [0.25423077 0.0756975  0.77587885 0.29315387 0.56795003 0.90145549\n",
      "  0.95278316 0.63800115 0.14696466 0.08528442]\n",
      " [0.08048731 0.55554534 0.21157669 0.37491896 0.95567126 0.72478012\n",
      "  0.64849367 0.05571253 0.12339177 0.95575902]\n",
      " [0.90842177 0.74316806 0.61710506 0.05885491 0.88051201 0.86814746\n",
      "  0.26131788 0.89392307 0.45475956 0.26810516]\n",
      " [0.79185601 0.19973093 0.10674687 0.9080987  0.50335231 0.17405093\n",
      "  0.39030326 0.48112173 0.74450033 0.76288692]\n",
      " [0.68992283 0.52305591 0.94364282 0.623963   0.04065964 0.23544532\n",
      "  0.38685327 0.9687442  0.529897   0.37273771]\n",
      " [0.88262217 0.90518014 0.24570464 0.49601259 0.23893452 0.53227759\n",
      "  0.15011176 0.4220435  0.5659132  0.43023606]\n",
      " [0.56022726 0.19848063 0.62839598 0.95187828 0.40088324 0.06377018\n",
      "  0.48083585 0.5822991  0.1836432  0.58293494]]\n",
      "Its min value: 0.02445995358839448\n",
      "Its max value: 0.9833936778670438\n"
     ]
    }
   ],
   "source": [
    "# Expected output"
   ]
  },
  {
   "cell_type": "markdown",
   "metadata": {
    "id": "mC5EsyskAPlI"
   },
   "source": [
    "#### 18. Create a random array with values drawn from the uniform distribution of size 30 and find the mean value"
   ]
  },
  {
   "cell_type": "code",
   "execution_count": 28,
   "metadata": {
    "id": "sPpFp0cCAucB"
   },
   "outputs": [
    {
     "name": "stdout",
     "output_type": "stream",
     "text": [
      "The array: [0.86598119 0.72840743 0.42379672 0.17803655 0.356177   0.33527531\n",
      " 0.9013258  0.3014713  0.98132679 0.89735425 0.32805716 0.52338471\n",
      " 0.66573793 0.20816158 0.7295412  0.78855373 0.2859896  0.44991663\n",
      " 0.36458633 0.08528315 0.27963001 0.76390215 0.40021013 0.83730062\n",
      " 0.51303863 0.13112461 0.18909581 0.15919332 0.26770986 0.05691196]\n",
      "Its mean: 0.46654938232229975\n"
     ]
    }
   ],
   "source": [
    "arr = np.random.uniform(0, 1, 30)\n",
    "print(f\"The array: {arr}\")\n",
    "print(f\"Its mean: {np.mean(arr)}\")"
   ]
  },
  {
   "cell_type": "code",
   "execution_count": null,
   "metadata": {
    "colab": {
     "base_uri": "https://localhost:8080/"
    },
    "executionInfo": {
     "elapsed": 579,
     "status": "ok",
     "timestamp": 1660390899244,
     "user": {
      "displayName": "Simeon Hristov",
      "userId": "14036852932086046142"
     },
     "user_tz": -180
    },
    "id": "lhWXYE86AQH4",
    "outputId": "b068e7a3-cc01-447a-dafe-7a068ab94e73"
   },
   "outputs": [
    {
     "name": "stdout",
     "output_type": "stream",
     "text": [
      "The array: [0.65580703 0.66012918 0.44607318 0.08230611 0.03965247 0.98197551\n",
      " 0.07286258 0.08288793 0.5283879  0.26948948 0.29579988 0.44204416\n",
      " 0.42570657 0.74707057 0.96866384 0.96437312 0.38116077 0.74621085\n",
      " 0.26497925 0.33115365 0.963408   0.05087827 0.36557266 0.66121816\n",
      " 0.24851936 0.25971588 0.40104167 0.90926914 0.80488701 0.31365462]\n",
      "Its mean: 0.4788299599451823\n"
     ]
    }
   ],
   "source": [
    "# Expected output"
   ]
  },
  {
   "cell_type": "markdown",
   "metadata": {
    "id": "X36sKsquE3Bq"
   },
   "source": [
    "#### 19. Create the following matrix:"
   ]
  },
  {
   "cell_type": "code",
   "execution_count": 32,
   "metadata": {
    "collapsed": true,
    "id": "A3NSaVKWE3Bq"
   },
   "outputs": [
    {
     "data": {
      "text/plain": [
       "array([[0.01, 0.02, 0.03, 0.04, 0.05, 0.06, 0.07, 0.08, 0.09, 0.1 ],\n",
       "       [0.11, 0.12, 0.13, 0.14, 0.15, 0.16, 0.17, 0.18, 0.19, 0.2 ],\n",
       "       [0.21, 0.22, 0.23, 0.24, 0.25, 0.26, 0.27, 0.28, 0.29, 0.3 ],\n",
       "       [0.31, 0.32, 0.33, 0.34, 0.35, 0.36, 0.37, 0.38, 0.39, 0.4 ],\n",
       "       [0.41, 0.42, 0.43, 0.44, 0.45, 0.46, 0.47, 0.48, 0.49, 0.5 ],\n",
       "       [0.51, 0.52, 0.53, 0.54, 0.55, 0.56, 0.57, 0.58, 0.59, 0.6 ],\n",
       "       [0.61, 0.62, 0.63, 0.64, 0.65, 0.66, 0.67, 0.68, 0.69, 0.7 ],\n",
       "       [0.71, 0.72, 0.73, 0.74, 0.75, 0.76, 0.77, 0.78, 0.79, 0.8 ],\n",
       "       [0.81, 0.82, 0.83, 0.84, 0.85, 0.86, 0.87, 0.88, 0.89, 0.9 ],\n",
       "       [0.91, 0.92, 0.93, 0.94, 0.95, 0.96, 0.97, 0.98, 0.99, 1.  ]])"
      ]
     },
     "execution_count": 32,
     "metadata": {},
     "output_type": "execute_result"
    }
   ],
   "source": [
    "np.arange(0.01, 1.01, 0.01).reshape(10, 10)"
   ]
  },
  {
   "cell_type": "code",
   "execution_count": null,
   "metadata": {
    "id": "ZF6R_G0jE3Bs",
    "outputId": "1c46a6e7-6cf9-41b3-da7b-ecc2c99a6bc1"
   },
   "outputs": [
    {
     "data": {
      "text/plain": [
       "array([[0.01, 0.02, 0.03, 0.04, 0.05, 0.06, 0.07, 0.08, 0.09, 0.1 ],\n",
       "       [0.11, 0.12, 0.13, 0.14, 0.15, 0.16, 0.17, 0.18, 0.19, 0.2 ],\n",
       "       [0.21, 0.22, 0.23, 0.24, 0.25, 0.26, 0.27, 0.28, 0.29, 0.3 ],\n",
       "       [0.31, 0.32, 0.33, 0.34, 0.35, 0.36, 0.37, 0.38, 0.39, 0.4 ],\n",
       "       [0.41, 0.42, 0.43, 0.44, 0.45, 0.46, 0.47, 0.48, 0.49, 0.5 ],\n",
       "       [0.51, 0.52, 0.53, 0.54, 0.55, 0.56, 0.57, 0.58, 0.59, 0.6 ],\n",
       "       [0.61, 0.62, 0.63, 0.64, 0.65, 0.66, 0.67, 0.68, 0.69, 0.7 ],\n",
       "       [0.71, 0.72, 0.73, 0.74, 0.75, 0.76, 0.77, 0.78, 0.79, 0.8 ],\n",
       "       [0.81, 0.82, 0.83, 0.84, 0.85, 0.86, 0.87, 0.88, 0.89, 0.9 ],\n",
       "       [0.91, 0.92, 0.93, 0.94, 0.95, 0.96, 0.97, 0.98, 0.99, 1.  ]])"
      ]
     },
     "execution_count": 11,
     "metadata": {},
     "output_type": "execute_result"
    }
   ],
   "source": [
    "# Expected output"
   ]
  },
  {
   "cell_type": "markdown",
   "metadata": {
    "id": "v4i505LCE3Bt"
   },
   "source": [
    "#### 20. Create an array of 20 linearly spaced points between 0 and 1:"
   ]
  },
  {
   "cell_type": "code",
   "execution_count": 33,
   "metadata": {
    "collapsed": true,
    "id": "k1JSLEruE3Bv"
   },
   "outputs": [
    {
     "data": {
      "text/plain": [
       "array([0.        , 0.05263158, 0.10526316, 0.15789474, 0.21052632,\n",
       "       0.26315789, 0.31578947, 0.36842105, 0.42105263, 0.47368421,\n",
       "       0.52631579, 0.57894737, 0.63157895, 0.68421053, 0.73684211,\n",
       "       0.78947368, 0.84210526, 0.89473684, 0.94736842, 1.        ])"
      ]
     },
     "execution_count": 33,
     "metadata": {},
     "output_type": "execute_result"
    }
   ],
   "source": [
    "np.linspace(0, 1, 20)"
   ]
  },
  {
   "cell_type": "code",
   "execution_count": null,
   "metadata": {
    "id": "FqIbXWycE3Bv",
    "outputId": "0b78c58d-23e3-42e0-aadb-7697956a76d6"
   },
   "outputs": [
    {
     "data": {
      "text/plain": [
       "array([0.        , 0.05263158, 0.10526316, 0.15789474, 0.21052632,\n",
       "       0.26315789, 0.31578947, 0.36842105, 0.42105263, 0.47368421,\n",
       "       0.52631579, 0.57894737, 0.63157895, 0.68421053, 0.73684211,\n",
       "       0.78947368, 0.84210526, 0.89473684, 0.94736842, 1.        ])"
      ]
     },
     "execution_count": 12,
     "metadata": {},
     "output_type": "execute_result"
    }
   ],
   "source": [
    "# Expected output"
   ]
  },
  {
   "cell_type": "markdown",
   "metadata": {
    "id": "csV1F6E-E3Bx"
   },
   "source": [
    "## Numpy Indexing and Selection\n",
    "\n",
    "Now you will be given a starting matrix (be sure to run the cell below!), and be asked to replicate the resulting matrix outputs.\n",
    "\n",
    "In all of the solutions until the last task before the section `NumPy Operations` you should be using `mat`."
   ]
  },
  {
   "cell_type": "code",
   "execution_count": 34,
   "metadata": {
    "id": "PdQlEg3iE3By",
    "outputId": "4855718d-6a97-4e38-dc73-f44b82db4295"
   },
   "outputs": [
    {
     "data": {
      "text/plain": [
       "array([[ 1,  2,  3,  4,  5],\n",
       "       [ 6,  7,  8,  9, 10],\n",
       "       [11, 12, 13, 14, 15],\n",
       "       [16, 17, 18, 19, 20],\n",
       "       [21, 22, 23, 24, 25]])"
      ]
     },
     "execution_count": 34,
     "metadata": {},
     "output_type": "execute_result"
    }
   ],
   "source": [
    "# RUN THIS CELL - THIS IS OUR STARTING MATRIX\n",
    "mat = np.arange(1,26).reshape(5,5)\n",
    "mat"
   ]
  },
  {
   "cell_type": "markdown",
   "metadata": {
    "id": "1UQ2DawgE3B0"
   },
   "source": [
    "#### 21. Write code that reproduces the output shown below."
   ]
  },
  {
   "cell_type": "code",
   "execution_count": 37,
   "metadata": {
    "collapsed": true,
    "id": "lbP6w7AnE3B1"
   },
   "outputs": [
    {
     "data": {
      "text/plain": [
       "array([[12, 13, 14, 15],\n",
       "       [17, 18, 19, 20],\n",
       "       [22, 23, 24, 25]])"
      ]
     },
     "execution_count": 37,
     "metadata": {},
     "output_type": "execute_result"
    }
   ],
   "source": [
    "# CODE HERE\n",
    "mat[2:, 1:]"
   ]
  },
  {
   "cell_type": "code",
   "execution_count": null,
   "metadata": {
    "id": "k7yDnnYOE3B2",
    "outputId": "454d330c-7f19-4f4a-d71b-7e1302c97936"
   },
   "outputs": [
    {
     "data": {
      "text/plain": [
       "array([[12, 13, 14, 15],\n",
       "       [17, 18, 19, 20],\n",
       "       [22, 23, 24, 25]])"
      ]
     },
     "execution_count": 14,
     "metadata": {},
     "output_type": "execute_result"
    }
   ],
   "source": [
    "# Expected output"
   ]
  },
  {
   "cell_type": "markdown",
   "metadata": {
    "id": "PfjoGK7hE3B3"
   },
   "source": [
    "#### 22. Write code that reproduces the output shown below."
   ]
  },
  {
   "cell_type": "code",
   "execution_count": 39,
   "metadata": {
    "collapsed": true,
    "id": "L7S7zJVFE3B4"
   },
   "outputs": [
    {
     "data": {
      "text/plain": [
       "20"
      ]
     },
     "execution_count": 39,
     "metadata": {},
     "output_type": "execute_result"
    }
   ],
   "source": [
    "int(mat[3, 4])"
   ]
  },
  {
   "cell_type": "code",
   "execution_count": null,
   "metadata": {
    "id": "Xq0kG2LSE3B4",
    "outputId": "3a10c27b-fb61-402b-f634-7b91e297b5a3"
   },
   "outputs": [
    {
     "data": {
      "text/plain": [
       "20"
      ]
     },
     "execution_count": 15,
     "metadata": {},
     "output_type": "execute_result"
    }
   ],
   "source": [
    "# Expected output"
   ]
  },
  {
   "cell_type": "markdown",
   "metadata": {
    "id": "FDGGhOykE3B6"
   },
   "source": [
    "#### 23. Write code that reproduces the output shown below."
   ]
  },
  {
   "cell_type": "code",
   "execution_count": 41,
   "metadata": {
    "collapsed": true,
    "id": "ntcx9bhaE3B7"
   },
   "outputs": [
    {
     "data": {
      "text/plain": [
       "array([[ 2],\n",
       "       [ 7],\n",
       "       [12]])"
      ]
     },
     "execution_count": 41,
     "metadata": {},
     "output_type": "execute_result"
    }
   ],
   "source": [
    "mat[:3, 1:2]"
   ]
  },
  {
   "cell_type": "code",
   "execution_count": null,
   "metadata": {
    "id": "NA5nV-usE3B8",
    "outputId": "b5f50c96-af45-4f76-e6f6-10a92cd6dce2"
   },
   "outputs": [
    {
     "data": {
      "text/plain": [
       "array([[ 2],\n",
       "       [ 7],\n",
       "       [12]])"
      ]
     },
     "execution_count": 16,
     "metadata": {},
     "output_type": "execute_result"
    }
   ],
   "source": [
    "# Expected output"
   ]
  },
  {
   "cell_type": "markdown",
   "metadata": {
    "id": "rAcP8GMWE3B9"
   },
   "source": [
    "#### 24. Write code that reproduces the output shown below."
   ]
  },
  {
   "cell_type": "code",
   "execution_count": 43,
   "metadata": {
    "collapsed": true,
    "id": "j6zjzGGhE3B-"
   },
   "outputs": [
    {
     "data": {
      "text/plain": [
       "array([21, 22, 23, 24, 25])"
      ]
     },
     "execution_count": 43,
     "metadata": {},
     "output_type": "execute_result"
    }
   ],
   "source": [
    "mat[4]"
   ]
  },
  {
   "cell_type": "code",
   "execution_count": null,
   "metadata": {
    "id": "0lLgHznHE3B_",
    "outputId": "459dbdea-c57b-4287-81ba-5656856de2f3"
   },
   "outputs": [
    {
     "data": {
      "text/plain": [
       "array([21, 22, 23, 24, 25])"
      ]
     },
     "execution_count": 17,
     "metadata": {},
     "output_type": "execute_result"
    }
   ],
   "source": [
    "# Expected output"
   ]
  },
  {
   "cell_type": "markdown",
   "metadata": {
    "id": "kpBFT2DiE3CA"
   },
   "source": [
    "#### 25. Write code that reproduces the output shown below."
   ]
  },
  {
   "cell_type": "code",
   "execution_count": 45,
   "metadata": {
    "collapsed": true,
    "id": "PrsdPgj5E3CC"
   },
   "outputs": [
    {
     "data": {
      "text/plain": [
       "array([[16, 17, 18, 19, 20],\n",
       "       [21, 22, 23, 24, 25]])"
      ]
     },
     "execution_count": 45,
     "metadata": {},
     "output_type": "execute_result"
    }
   ],
   "source": [
    "mat[3:5]"
   ]
  },
  {
   "cell_type": "code",
   "execution_count": null,
   "metadata": {
    "id": "GHENKrGbE3CC",
    "outputId": "c26c1648-a148-428e-ebc8-c4f9fa754eef"
   },
   "outputs": [
    {
     "data": {
      "text/plain": [
       "array([[16, 17, 18, 19, 20],\n",
       "       [21, 22, 23, 24, 25]])"
      ]
     },
     "execution_count": 18,
     "metadata": {},
     "output_type": "execute_result"
    }
   ],
   "source": [
    "# Expected output"
   ]
  },
  {
   "cell_type": "markdown",
   "metadata": {
    "id": "nlDu5ole9TTX"
   },
   "source": [
    "#### 26. Find the indices of the non-zero elements in the provided array."
   ]
  },
  {
   "cell_type": "code",
   "execution_count": 47,
   "metadata": {
    "id": "qIKAFdeH-MvF"
   },
   "outputs": [
    {
     "data": {
      "text/plain": [
       "array([0, 1, 4])"
      ]
     },
     "execution_count": 47,
     "metadata": {},
     "output_type": "execute_result"
    }
   ],
   "source": [
    "arr = np.array([1,2,0,0,4,0])\n",
    "\n",
    "# Your code here\n",
    "np.nonzero(arr)[0]"
   ]
  },
  {
   "cell_type": "code",
   "execution_count": null,
   "metadata": {
    "colab": {
     "base_uri": "https://localhost:8080/"
    },
    "executionInfo": {
     "elapsed": 1341,
     "status": "ok",
     "timestamp": 1660390227967,
     "user": {
      "displayName": "Simeon Hristov",
      "userId": "14036852932086046142"
     },
     "user_tz": -180
    },
    "id": "es-2pZGJ9S9q",
    "outputId": "5e9c24e7-0eee-4d6a-bff7-98ba12b82cac"
   },
   "outputs": [
    {
     "data": {
      "text/plain": [
       "array([0, 1, 4])"
      ]
     },
     "execution_count": 12,
     "metadata": {},
     "output_type": "execute_result"
    }
   ],
   "source": [
    "# Expected output"
   ]
  },
  {
   "cell_type": "markdown",
   "metadata": {
    "id": "2f7W_x-3E3CD"
   },
   "source": [
    "## NumPy Operations"
   ]
  },
  {
   "cell_type": "markdown",
   "metadata": {
    "id": "fmax4qmCE3CE"
   },
   "source": [
    "#### 27. Get the sum of all the values in mat"
   ]
  },
  {
   "cell_type": "code",
   "execution_count": 49,
   "metadata": {
    "collapsed": true,
    "id": "lccBg-WKE3CE"
   },
   "outputs": [
    {
     "data": {
      "text/plain": [
       "325"
      ]
     },
     "execution_count": 49,
     "metadata": {},
     "output_type": "execute_result"
    }
   ],
   "source": [
    "int(np.sum(mat))"
   ]
  },
  {
   "cell_type": "code",
   "execution_count": null,
   "metadata": {
    "id": "G1lomhQEE3CF",
    "outputId": "eb404717-16e8-4ad4-9de2-0aaea05eaba2"
   },
   "outputs": [
    {
     "data": {
      "text/plain": [
       "325"
      ]
     },
     "execution_count": 19,
     "metadata": {},
     "output_type": "execute_result"
    }
   ],
   "source": [
    "# Expected output"
   ]
  },
  {
   "cell_type": "markdown",
   "metadata": {
    "id": "PY8nzRaFE3CG"
   },
   "source": [
    "#### 28. Get the standard deviation of the values in mat"
   ]
  },
  {
   "cell_type": "code",
   "execution_count": 51,
   "metadata": {
    "collapsed": true,
    "id": "WZzuJOiTE3CG"
   },
   "outputs": [
    {
     "data": {
      "text/plain": [
       "7.211102550927978"
      ]
     },
     "execution_count": 51,
     "metadata": {},
     "output_type": "execute_result"
    }
   ],
   "source": [
    "float(np.std(mat))"
   ]
  },
  {
   "cell_type": "code",
   "execution_count": null,
   "metadata": {
    "id": "9u7MXt1OE3CH",
    "outputId": "4418b06b-d4f4-4122-cc23-1ccc80591aa0"
   },
   "outputs": [
    {
     "data": {
      "text/plain": [
       "7.211102550927978"
      ]
     },
     "execution_count": 20,
     "metadata": {},
     "output_type": "execute_result"
    }
   ],
   "source": [
    "# Expected output"
   ]
  },
  {
   "cell_type": "markdown",
   "metadata": {
    "id": "QtedOQUgE3CH"
   },
   "source": [
    "#### 29. Get the sum of all the columns in mat"
   ]
  },
  {
   "cell_type": "code",
   "execution_count": 52,
   "metadata": {
    "collapsed": true,
    "id": "igq6F-SLE3CI"
   },
   "outputs": [
    {
     "data": {
      "text/plain": [
       "array([55, 60, 65, 70, 75])"
      ]
     },
     "execution_count": 52,
     "metadata": {},
     "output_type": "execute_result"
    }
   ],
   "source": [
    "np.sum(mat, axis = 0)"
   ]
  },
  {
   "cell_type": "code",
   "execution_count": null,
   "metadata": {
    "id": "mbCsLwxQE3CI",
    "outputId": "74ecfae7-202b-49f1-e46b-d3d59509d741"
   },
   "outputs": [
    {
     "data": {
      "text/plain": [
       "array([55, 60, 65, 70, 75])"
      ]
     },
     "execution_count": 21,
     "metadata": {},
     "output_type": "execute_result"
    }
   ],
   "source": [
    "# Expected output"
   ]
  },
  {
   "cell_type": "markdown",
   "metadata": {
    "id": "knccxXSODH0R"
   },
   "source": [
    "#### 30. Create and multiply a 5x3 matrix by a 3x2 matrix (matrix product). The matrices can hold random values or you can create them manually.\n",
    "\n",
    "**Note**: In this example output the matrices held random values, so your result's values should be different from the ones shown below."
   ]
  },
  {
   "cell_type": "code",
   "execution_count": 55,
   "metadata": {
    "id": "mwk8LrjmDi2x"
   },
   "outputs": [
    {
     "data": {
      "text/plain": [
       "array([[0.46555535, 0.57945718],\n",
       "       [0.93939571, 0.54291013],\n",
       "       [0.48099937, 0.56482867],\n",
       "       [0.56675244, 0.76154528],\n",
       "       [0.68080045, 0.2859759 ]])"
      ]
     },
     "execution_count": 55,
     "metadata": {},
     "output_type": "execute_result"
    }
   ],
   "source": [
    "mat1 = np.random.rand(5, 3)\n",
    "mat2 = np.random.rand(3, 2)\n",
    "\n",
    "np.matmul(mat1, mat2)"
   ]
  },
  {
   "cell_type": "code",
   "execution_count": null,
   "metadata": {
    "colab": {
     "base_uri": "https://localhost:8080/"
    },
    "id": "hNFX0eGVwtj_",
    "outputId": "23433f06-8d4e-472a-caeb-793243d1f0dc"
   },
   "outputs": [
    {
     "data": {
      "text/plain": [
       "array([[0.92284566, 0.4834381 ],\n",
       "       [1.36591969, 0.86692985],\n",
       "       [0.92732258, 0.57791729],\n",
       "       [1.20870496, 0.66362074],\n",
       "       [1.48551291, 0.86352205]])"
      ]
     },
     "execution_count": 191,
     "metadata": {},
     "output_type": "execute_result"
    }
   ],
   "source": [
    "# Expected output"
   ]
  },
  {
   "cell_type": "markdown",
   "metadata": {
    "id": "vZO-9cRnDoTk"
   },
   "source": [
    "#### 31. Create a 1D array of random integers between 0 and 9. Negate all elements which are between 3 and 8."
   ]
  },
  {
   "cell_type": "code",
   "execution_count": 57,
   "metadata": {
    "id": "cgo1ooJKDwPN"
   },
   "outputs": [
    {
     "name": "stdout",
     "output_type": "stream",
     "text": [
      "[ 2 -8  9  1  2 -3  9 -8 -8 -7]\n"
     ]
    }
   ],
   "source": [
    "arr = np.random.randint(0, 10, 10)\n",
    "arr[(arr >= 3) & (arr <= 8)] *= -1\n",
    "print(arr)"
   ]
  },
  {
   "cell_type": "code",
   "execution_count": null,
   "metadata": {
    "colab": {
     "base_uri": "https://localhost:8080/"
    },
    "id": "M9IQNbmJwzah",
    "outputId": "c1980b73-1ce0-4434-9e89-5f14e8329706"
   },
   "outputs": [
    {
     "data": {
      "text/plain": [
       "array([ 4,  2,  5, -7, -2,  0, -3, -6, -8,  4])"
      ]
     },
     "execution_count": 192,
     "metadata": {},
     "output_type": "execute_result"
    }
   ],
   "source": [
    "# Expected output"
   ]
  },
  {
   "cell_type": "markdown",
   "metadata": {
    "id": "Lf8-CAmxD0V6"
   },
   "source": [
    "#### 32. Create a random array of size 10 and sort it"
   ]
  },
  {
   "cell_type": "code",
   "execution_count": 58,
   "metadata": {
    "id": "5lgEf77_D5Se"
   },
   "outputs": [
    {
     "data": {
      "text/plain": [
       "array([0.1109913 , 0.12827003, 0.1863725 , 0.30302533, 0.4547237 ,\n",
       "       0.49889347, 0.52249621, 0.66108329, 0.80885861, 0.96055646])"
      ]
     },
     "execution_count": 58,
     "metadata": {},
     "output_type": "execute_result"
    }
   ],
   "source": [
    "np.sort(np.random.rand(10))"
   ]
  },
  {
   "cell_type": "code",
   "execution_count": null,
   "metadata": {
    "colab": {
     "base_uri": "https://localhost:8080/"
    },
    "id": "ufEMUrNmxPRX",
    "outputId": "e3f772c4-f6d2-4fb5-c826-539bbeba2a75"
   },
   "outputs": [
    {
     "data": {
      "text/plain": [
       "array([0.21557229, 0.29775351, 0.31513898, 0.48094387, 0.56395818,\n",
       "       0.61094507, 0.65782361, 0.73666887, 0.74573749, 0.97557176])"
      ]
     },
     "execution_count": 193,
     "metadata": {},
     "output_type": "execute_result"
    }
   ],
   "source": [
    "# Expected output"
   ]
  },
  {
   "cell_type": "markdown",
   "metadata": {
    "id": "Lbp-tG24D9Qd"
   },
   "source": [
    "#### 33. Create random vector of values drawn from the uniform distribution of size 10 and replace the maximum value by 0"
   ]
  },
  {
   "cell_type": "code",
   "execution_count": 59,
   "metadata": {
    "id": "PIMnLXk_EDIU"
   },
   "outputs": [
    {
     "name": "stdout",
     "output_type": "stream",
     "text": [
      "[0.87630327 0.02267203 0.07044447 0.46691665 0.85603323 0.09619887\n",
      " 0.68843419 0.38470468 0.         0.785124  ]\n"
     ]
    }
   ],
   "source": [
    "arr = np.random.uniform(0, 1, 10)\n",
    "max_index = np.argmax(arr)\n",
    "arr[max_index] = 0\n",
    "print(arr)"
   ]
  },
  {
   "cell_type": "code",
   "execution_count": null,
   "metadata": {
    "colab": {
     "base_uri": "https://localhost:8080/"
    },
    "executionInfo": {
     "elapsed": 14,
     "status": "ok",
     "timestamp": 1660391864203,
     "user": {
      "displayName": "Simeon Hristov",
      "userId": "14036852932086046142"
     },
     "user_tz": -180
    },
    "id": "FOdlAkmSEVMf",
    "outputId": "b7ecf9b9-533d-4a56-c028-328d324fdf9e"
   },
   "outputs": [
    {
     "name": "stdout",
     "output_type": "stream",
     "text": [
      "The array: [0.79753115 0.51085823 0.86710259 0.25025854 0.39803838 0.65002613\n",
      " 0.89686752 0.1562022  0.76741728 0.62775096]\n",
      "Result: [0.79753115 0.51085823 0.86710259 0.25025854 0.39803838 0.65002613\n",
      " 0.         0.1562022  0.76741728 0.62775096]\n"
     ]
    }
   ],
   "source": [
    "# Expected output"
   ]
  },
  {
   "cell_type": "markdown",
   "metadata": {
    "id": "1McMRiqA1SFM"
   },
   "source": [
    "#### 34. What function can we use to ensure that we always get the same random numbers?\n",
    "\n",
    "> **Your answer**: np.random.seed()"
   ]
  }
 ],
 "metadata": {
  "anaconda-cloud": {},
  "colab": {
   "collapsed_sections": [],
   "name": "for_home.ipynb",
   "provenance": [],
   "toc_visible": true
  },
  "kernelspec": {
   "display_name": "myenv",
   "language": "python",
   "name": "python3"
  },
  "language_info": {
   "codemirror_mode": {
    "name": "ipython",
    "version": 3
   },
   "file_extension": ".py",
   "mimetype": "text/x-python",
   "name": "python",
   "nbconvert_exporter": "python",
   "pygments_lexer": "ipython3",
   "version": "3.13.1"
  }
 },
 "nbformat": 4,
 "nbformat_minor": 0
}
