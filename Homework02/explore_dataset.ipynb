{
 "cells": [
  {
   "cell_type": "markdown",
   "id": "045ba3b0",
   "metadata": {},
   "source": [
    "# Домашна работа 2\n",
    "### По \"Въведение в дълбокото самообучение\"\n",
    "### На Петър Колев, ФН: 1MI3400571"
   ]
  },
  {
   "cell_type": "markdown",
   "id": "321fa13c",
   "metadata": {},
   "source": [
    "## Първоначално изследване на данните"
   ]
  },
  {
   "cell_type": "markdown",
   "id": "981d7f95",
   "metadata": {},
   "source": [
    "### Разпределение на типовете обекти (Таблица 1)\n",
    "\n",
    "| Type   |   Train |   Test |\n",
    "|:-------|--------:|-------:|\n",
    "| Artist |     888 |    383 |\n",
    "| WoA    |     657 |    270 |\n",
    "| None   |    1027 |    422 |"
   ]
  },
  {
   "cell_type": "markdown",
   "id": "f7fdcad2",
   "metadata": {},
   "source": [
    "### Топ 10 най-срещани entity-та от всеки вид (Таблица 2)\n",
    "\n",
    "| Train Artist   |   Count | Train WoA                  |   Count | Test Artist        |   Count | Test WoA                      |   Count |\n",
    "|:---------------|--------:|:---------------------------|--------:|:-------------------|--------:|:------------------------------|--------:|\n",
    "| post malone    |       5 | the chain                  |       3 | daft punk          |       4 | molly                         |       2 |\n",
    "| pink floyd     |       5 | stranger things            |       3 | drake              |       3 | nonstop                       |       1 |\n",
    "| radiohead      |       4 | elephant                   |       2 | machine girl       |       2 | butterflies                   |       1 |\n",
    "| grateful dead  |       4 | scott pilgrim vs the world |       2 | neutral milk hotel |       2 | this head i hold              |       1 |\n",
    "| tame impala    |       4 | nursery                    |       2 | bastille           |       2 | the yours dreamily            |       1 |\n",
    "| eminem         |       4 | coco                       |       2 | rac                |       2 | the arc                       |       1 |\n",
    "| daft punk      |       4 | drive                      |       2 | jim croce          |       2 | this war of mine              |       1 |\n",
    "| lana del rey   |       3 | doom                       |       2 | shakey graves      |       2 | harder better faster stronger |       1 |\n",
    "| joji           |       3 | currents                   |       2 | kaleo              |       2 | the hellraisers               |       1 |\n",
    "| mitski         |       3 | alice                      |       2 | frank ocean        |       2 | scroll of sorrow              |       1 |"
   ]
  },
  {
   "cell_type": "markdown",
   "id": "61385f10",
   "metadata": {},
   "source": [
    "### Брой entitу-та за едно query (Таблица 3)\n",
    "\n",
    "| Named Entities   |   Train queries |   Test queries |\n",
    "|:-----------------|----------------:|---------------:|\n",
    "| 0                |            1027 |            422 |\n",
    "| 1                |             225 |             93 |\n",
    "| 2                |             424 |            185 |\n",
    "| 3+               |             124 |             51 |"
   ]
  },
  {
   "cell_type": "markdown",
   "id": "bcc2f086",
   "metadata": {},
   "source": [
    "### Брой query-та според първата дума (Таблица 4)\n",
    "\n",
    "| Train     |   Count | Test      |   Count |\n",
    "|:----------|--------:|:----------|--------:|\n",
    "| looking   |     367 | looking   |     159 |\n",
    "| songs     |     180 | songs     |      91 |\n",
    "| any       |      96 | any       |      37 |\n",
    "| music     |      87 | music     |      35 |\n",
    "| i         |      56 | what      |      18 |\n",
    "| what      |      45 | i         |      17 |\n",
    "| similar   |      44 | need      |      17 |\n",
    "| i'm       |      33 | help      |      13 |\n",
    "| something |      31 | similar   |      11 |\n",
    "| need      |      23 | recommend |      11 |"
   ]
  },
  {
   "cell_type": "markdown",
   "id": "4b1debe7",
   "metadata": {},
   "source": [
    "### Брой уникални имена на entity-та (Таблица 5)\n",
    "\n",
    "| Type   |   # Unique Named Entities |\n",
    "|:-------|--------------------------:|\n",
    "| Artist |                      1082 |\n",
    "| WoA    |                       896 |"
   ]
  },
  {
   "cell_type": "markdown",
   "id": "564532e6",
   "metadata": {},
   "source": [
    "### Разпределение на броя query-та по брой думи в тях (Графика 1)\n",
    "\n",
    "![Fig1](assets/dl_hw2_fig1.jpeg)"
   ]
  },
  {
   "cell_type": "markdown",
   "id": "3c65146a",
   "metadata": {},
   "source": [
    "### Топ 20 най-срещани entity-та (train + test) (Графика 2)\n",
    "\n",
    "![Fig2](assets/dl_hw2_fig2.jpeg)"
   ]
  }
 ],
 "metadata": {
  "kernelspec": {
   "display_name": "myenv",
   "language": "python",
   "name": "python3"
  },
  "language_info": {
   "codemirror_mode": {
    "name": "ipython",
    "version": 3
   },
   "file_extension": ".py",
   "mimetype": "text/x-python",
   "name": "python",
   "nbconvert_exporter": "python",
   "pygments_lexer": "ipython3",
   "version": "3.13.2"
  }
 },
 "nbformat": 4,
 "nbformat_minor": 5
}
